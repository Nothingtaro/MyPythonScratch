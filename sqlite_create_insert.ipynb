{
 "cells": [
  {
   "cell_type": "code",
   "execution_count": 1,
   "metadata": {},
   "outputs": [],
   "source": [
    "import sqlite3"
   ]
  },
  {
   "cell_type": "code",
   "execution_count": 2,
   "metadata": {},
   "outputs": [],
   "source": [
    "def create_table_demo():\n",
    "    try:\n",
    "        with sqlite3.connect(\"sample.sqlite\") as con:\n",
    "            sql_cmd = \"\"\"\n",
    "            create table medal(\n",
    "                country text primary key,\n",
    "                gold integer,\n",
    "                silver integer,\n",
    "                bronze integer);\n",
    "            \"\"\"\n",
    "            con.execute(sql_cmd)\n",
    "    except Exception as e:\n",
    "        print(\"Error -> {}\".format(e))"
   ]
  },
  {
   "cell_type": "code",
   "execution_count": 3,
   "metadata": {},
   "outputs": [
    {
     "name": "stdout",
     "output_type": "stream",
     "text": [
      "Error -> table medal already exists\n"
     ]
    }
   ],
   "source": [
    "create_table_demo()"
   ]
  },
  {
   "cell_type": "code",
   "execution_count": 4,
   "metadata": {},
   "outputs": [],
   "source": [
    "def insert_demo():\n",
    "    try:\n",
    "        with sqlite3.connect(\"sample.sqlite\") as con:\n",
    "            sql_cmd = \"\"\"\n",
    "            insert into medal values('usa', 46, 37, 38)\n",
    "            \"\"\"\n",
    "            con.execute(sql_cmd)\n",
    "    except Exception as e:\n",
    "        print(\"Error -> {}\".format(e))"
   ]
  },
  {
   "cell_type": "code",
   "execution_count": 11,
   "metadata": {},
   "outputs": [],
   "source": [
    "def insert_demo2():\n",
    "    try:\n",
    "        with sqlite3.connect(\"sample.sqlite\") as con:\n",
    "            sql_cmd = \"\"\"\n",
    "            begin;\n",
    "            insert into medal values('gbr', 27, 23, 17);\n",
    "            insert into medal values('chn', 26, 18, 26);\n",
    "            insert into medal values('rus', 19, 17, 19);\n",
    "            commit;\n",
    "            \"\"\"\n",
    "            con.executescript(sql_cmd)\n",
    "    except Exception as e:\n",
    "        print(\"Error -> {}\".format(e))"
   ]
  },
  {
   "cell_type": "code",
   "execution_count": 6,
   "metadata": {},
   "outputs": [
    {
     "name": "stdout",
     "output_type": "stream",
     "text": [
      "Error -> UNIQUE constraint failed: medal.country\n"
     ]
    }
   ],
   "source": [
    "insert_demo()"
   ]
  },
  {
   "cell_type": "code",
   "execution_count": 7,
   "metadata": {},
   "outputs": [],
   "source": [
    "def select_demo():\n",
    "    try:\n",
    "        with sqlite3.connect(\"sample.sqlite\") as con:\n",
    "            sql_cmd = \"\"\"\n",
    "            select * from medal\n",
    "            \"\"\"\n",
    "            for row in con.execute(sql_cmd):\n",
    "                print(row)\n",
    "    except Exception as e:\n",
    "        print(\"Error -> {}\".format(e))"
   ]
  },
  {
   "cell_type": "code",
   "execution_count": 8,
   "metadata": {},
   "outputs": [
    {
     "name": "stdout",
     "output_type": "stream",
     "text": [
      "('usa', 46, 37, 38)\n"
     ]
    }
   ],
   "source": [
    "select_demo()"
   ]
  },
  {
   "cell_type": "code",
   "execution_count": 12,
   "metadata": {},
   "outputs": [
    {
     "name": "stdout",
     "output_type": "stream",
     "text": [
      "Error -> UNIQUE constraint failed: medal.country\n"
     ]
    }
   ],
   "source": [
    "insert_demo2()"
   ]
  },
  {
   "cell_type": "code",
   "execution_count": 13,
   "metadata": {},
   "outputs": [
    {
     "name": "stdout",
     "output_type": "stream",
     "text": [
      "('usa', 46, 37, 38)\n",
      "('gbr', 27, 23, 17)\n",
      "('chn', 26, 18, 26)\n",
      "('rus', 19, 17, 19)\n"
     ]
    }
   ],
   "source": [
    "select_demo()"
   ]
  }
 ],
 "metadata": {
  "kernelspec": {
   "display_name": "Python 3",
   "language": "python",
   "name": "python3"
  },
  "language_info": {
   "codemirror_mode": {
    "name": "ipython",
    "version": 3
   },
   "file_extension": ".py",
   "mimetype": "text/x-python",
   "name": "python",
   "nbconvert_exporter": "python",
   "pygments_lexer": "ipython3",
   "version": "3.8.5"
  }
 },
 "nbformat": 4,
 "nbformat_minor": 4
}
