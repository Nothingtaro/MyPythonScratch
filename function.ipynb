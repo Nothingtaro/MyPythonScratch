{
 "cells": [
  {
   "cell_type": "code",
   "execution_count": 26,
   "metadata": {},
   "outputs": [
    {
     "name": "stdout",
     "output_type": "stream",
     "text": [
      "[0, 1, 1, 2, 3, 5, 8, 13, 21, 34]\n"
     ]
    }
   ],
   "source": [
    "f0 = 0\n",
    "f1 = 1\n",
    "f = [f0,f1]\n",
    "i = 1\n",
    "for i in range(8) :\n",
    "    fn = f0 + f1\n",
    "    f.append(fn)\n",
    "    f0 = f1\n",
    "    f1 = fn\n",
    "    i += 1 \n",
    "print(f)"
   ]
  },
  {
   "cell_type": "code",
   "execution_count": 29,
   "metadata": {},
   "outputs": [
    {
     "name": "stdout",
     "output_type": "stream",
     "text": [
      "[0, 1, 1, 2, 3, 5, 8, 13, 21, 34]\n"
     ]
    }
   ],
   "source": [
    "f = [0,1]\n",
    "for i in range(2,10) :\n",
    "    f.append(f[i-1] + f[i-2])\n",
    "print(f)"
   ]
  },
  {
   "cell_type": "code",
   "execution_count": 1,
   "metadata": {},
   "outputs": [
    {
     "name": "stdout",
     "output_type": "stream",
     "text": [
      "Enter an integer -> 40\n",
      "[0, 1, 1, 2, 3, 5, 8, 13, 21, 34, 55, 89, 144, 233, 377, 610, 987, 1597, 2584, 4181, 6765, 10946, 17711, 28657, 46368, 75025, 121393, 196418, 317811, 514229, 832040, 1346269, 2178309, 3524578, 5702887, 9227465, 14930352, 24157817, 39088169, 63245986]\n"
     ]
    }
   ],
   "source": [
    "f = [0,1]\n",
    "num = int(input(\"Enter an integer -> \"))\n",
    "for i in range(2,num) :\n",
    "    f.append(f[i-1] + f[i-2])\n",
    "print(f)"
   ]
  },
  {
   "cell_type": "code",
   "execution_count": 31,
   "metadata": {},
   "outputs": [
    {
     "name": "stdout",
     "output_type": "stream",
     "text": [
      "[0, 1, 1, 2, 3, 5, 8, 13, 21, 34]\n"
     ]
    }
   ],
   "source": [
    "#prof. result\n",
    "fn = []\n",
    "for num in range(10) :\n",
    "    if num == 0:\n",
    "        fn.append(0)\n",
    "    if num == 1:\n",
    "        fn.append(1)\n",
    "    if num > 1:\n",
    "        fn.append(fn[num-1] + fn[num-2])\n",
    "print(fn)"
   ]
  },
  {
   "cell_type": "code",
   "execution_count": 37,
   "metadata": {},
   "outputs": [
    {
     "name": "stdout",
     "output_type": "stream",
     "text": [
      "{0: 0, 1: 1, 2: 1, 3: 2, 4: 3, 5: 5, 6: 8, 7: 13, 8: 21, 9: 34}\n"
     ]
    }
   ],
   "source": [
    "#use dict\n",
    "fn = {}\n",
    "for num in range(10) :\n",
    "    if num == 0:\n",
    "        fn[num] = 0\n",
    "    if num == 1:\n",
    "        fn[num] = 1\n",
    "    if num > 1:\n",
    "        fn[num] = fn[num-1] + fn[num-2]\n",
    "print(fn)"
   ]
  },
  {
   "cell_type": "code",
   "execution_count": 9,
   "metadata": {},
   "outputs": [
    {
     "name": "stdout",
     "output_type": "stream",
     "text": [
      "0: 0\n",
      "1: 1\n",
      "2: 1\n",
      "3: 2\n",
      "4: 3\n",
      "5: 5\n",
      "6: 8\n",
      "7: 13\n",
      "8: 21\n",
      "9: 34\n"
     ]
    }
   ],
   "source": [
    "fn = {}\n",
    "# {k1:v1 , .... , kn:kn}\n",
    "for num in range(10):\n",
    "    if num <= 1:\n",
    "        fn[num] = num\n",
    "    else:\n",
    "        fn[num] = fn[num-1] + fn[num-2]\n",
    "        \n",
    "for k,v in fn.items():\n",
    "    print(f'{k}: {v}')"
   ]
  },
  {
   "cell_type": "code",
   "execution_count": 43,
   "metadata": {},
   "outputs": [
    {
     "name": "stdout",
     "output_type": "stream",
     "text": [
      "fibonacci 0 = 0\n",
      "fibonacci 1 = 1\n",
      "fibonacci 2 = 1\n",
      "fibonacci 3 = 2\n",
      "fibonacci 4 = 3\n",
      "fibonacci 5 = 5\n",
      "fibonacci 6 = 8\n",
      "fibonacci 7 = 13\n",
      "fibonacci 8 = 21\n",
      "fibonacci 9 = 34\n"
     ]
    }
   ],
   "source": [
    "def fibonacci(num):\n",
    "    fn = {}\n",
    "    for i in range(num):\n",
    "        if i <= 1:\n",
    "            fn[i] = i\n",
    "        else:\n",
    "            fn[i] = fn[i-1] + fn[i-2]\n",
    "    return fn\n",
    "\n",
    "fibo = fibonacci(10)\n",
    "for k,v in fibo.items() :\n",
    "    print(f'fibonacci {k} = {v}')"
   ]
  },
  {
   "cell_type": "code",
   "execution_count": 49,
   "metadata": {},
   "outputs": [
    {
     "name": "stdout",
     "output_type": "stream",
     "text": [
      "fibonacci 0 = 0\n",
      "fibonacci 1 = 1\n",
      "fibonacci 2 = 1\n",
      "fibonacci 3 = 2\n",
      "fibonacci 4 = 3\n",
      "fibonacci 5 = 5\n",
      "fibonacci 6 = 8\n",
      "fibonacci 7 = 13\n",
      "fibonacci 8 = 21\n",
      "fibonacci 9 = 34\n"
     ]
    }
   ],
   "source": [
    "def fibonacci(num):\n",
    "    fn = []\n",
    "    for i in range(num):\n",
    "        if i <= 1:\n",
    "            fn.append(i)\n",
    "        else:\n",
    "            fn.append(fn[i-1]+fn[i-2])\n",
    "    return fn\n",
    "\n",
    "fibo = fibonacci(10)\n",
    "for k in range(len(fibo)):\n",
    "    print(f'fibonacci {k} = {fibo[k]}')"
   ]
  },
  {
   "cell_type": "code",
   "execution_count": 55,
   "metadata": {},
   "outputs": [
    {
     "name": "stdout",
     "output_type": "stream",
     "text": [
      "8\n"
     ]
    }
   ],
   "source": [
    "def power(x,n) : #n is positive integer\n",
    "    p = 1\n",
    "    for i in range(n):\n",
    "        p *= x\n",
    "    return p\n",
    "\n",
    "print(power(2,3))"
   ]
  },
  {
   "cell_type": "code",
   "execution_count": 81,
   "metadata": {},
   "outputs": [
    {
     "name": "stdout",
     "output_type": "stream",
     "text": [
      "1:[1, 1, 1, 1, 1, 1, 1, 1, 1, 1]\n",
      "2:[1, 2, 4, 8, 16, 32, 64, 128, 256, 512]\n",
      "3:[1, 3, 9, 27, 81, 243, 729, 2187, 6561, 19683]\n",
      "4:[1, 4, 16, 64, 256, 1024, 4096, 16384, 65536, 262144]\n",
      "5:[1, 5, 25, 125, 625, 3125, 15625, 78125, 390625, 1953125]\n"
     ]
    }
   ],
   "source": [
    "def power(x,n) : #n is positive integer\n",
    "    p = 1\n",
    "    for i in range(n):\n",
    "        p *= x\n",
    "    return p\n",
    "\n",
    "#-------------------\n",
    "\n",
    "expdict = {}\n",
    "\n",
    "for x in range(1,6):\n",
    "    valuelist = []\n",
    "    for n in range(0,10):\n",
    "        valuelist.append(power(x,n))\n",
    "    expdict[x] = valuelist\n",
    "for i in range(1,6):\n",
    "    print(f'{i}:{expdict[i]}')\n",
    "    "
   ]
  },
  {
   "cell_type": "code",
   "execution_count": 84,
   "metadata": {},
   "outputs": [
    {
     "name": "stdout",
     "output_type": "stream",
     "text": [
      "1:[1, 1, 1, 1, 1, 1, 1, 1, 1, 1]\n",
      "2:[1, 2, 4, 8, 16, 32, 64, 128, 256, 512]\n",
      "3:[1, 3, 9, 27, 81, 243, 729, 2187, 6561, 19683]\n",
      "4:[1, 4, 16, 64, 256, 1024, 4096, 16384, 65536, 262144]\n",
      "5:[1, 5, 25, 125, 625, 3125, 15625, 78125, 390625, 1953125]\n"
     ]
    }
   ],
   "source": [
    "def power(x,n) : #n is positive integer\n",
    "    p = 1\n",
    "    for i in range(n):\n",
    "        p *= x\n",
    "    return p\n",
    "\n",
    "#-------------------\n",
    "\n",
    "expdict = {}\n",
    "\n",
    "for x in range(1,6):\n",
    "    valuelist = []\n",
    "    for n in range(0,10):\n",
    "        valuelist.append(power(x,n))\n",
    "    expdict[x] = valuelist  #dict--integer(key) , list(value)\n",
    "    \n",
    "for k,v in expdict.items():\n",
    "    print(f'{k}:{v}')"
   ]
  },
  {
   "cell_type": "code",
   "execution_count": 4,
   "metadata": {},
   "outputs": [
    {
     "name": "stdout",
     "output_type": "stream",
     "text": [
      "1:[1, 1, 1, 1, 1, 1, 1, 1, 1, 1]\n",
      "2:[1, 2, 4, 8, 16, 32, 64, 128, 256, 512]\n",
      "3:[1, 3, 9, 27, 81, 243, 729, 2187, 6561, 19683]\n",
      "4:[1, 4, 16, 64, 256, 1024, 4096, 16384, 65536, 262144]\n",
      "5:[1, 5, 25, 125, 625, 3125, 15625, 78125, 390625, 1953125]\n"
     ]
    },
    {
     "data": {
      "image/png": "[encoded data removed]",
      "text/plain": [
       "<Figure size 432x288 with 1 Axes>"
      ]
     },
     "metadata": {
      "needs_background": "light"
     },
     "output_type": "display_data"
    }
   ],
   "source": [
    "import matplotlib.pyplot as plt\n",
    "\n",
    "def power(x,n) : #n is positive integer\n",
    "    p = 1\n",
    "    for i in range(n):\n",
    "        p *= x\n",
    "    return p\n",
    "\n",
    "#-------------------\n",
    "\n",
    "expdict = {}\n",
    "for x in range(1,6):\n",
    "    valuelist = []\n",
    "    for n in range(0,10):\n",
    "        valuelist.append(power(x,n))\n",
    "    expdict[x] = valuelist #dict--integer(key) , list(value)\n",
    "\n",
    "for k,v in expdict.items():\n",
    "    print(f'{k}:{v}')\n",
    "    \n",
    "xaxis = [x for x in range(10)]\n",
    "#xaxis = [0,1,2,3,4,5,6,7,8,9]\n",
    "\n",
    "for key in expdict.keys():\n",
    "    plt.plot(xaxis,expdict[key])\n",
    "plt.legend(expdict.keys())\n",
    "plt.show()"
   ]
  },
  {
   "cell_type": "code",
   "execution_count": 17,
   "metadata": {},
   "outputs": [
    {
     "data": {
      "image/png": "[encoded data removed]",
      "text/plain": [
       "<Figure size 432x288 with 1 Axes>"
      ]
     },
     "metadata": {
      "needs_background": "light"
     },
     "output_type": "display_data"
    }
   ],
   "source": [
    "import matplotlib.pyplot as plt\n",
    "import math\n",
    "\n",
    "def power(x,n) : #n is positive integer\n",
    "    p = 1\n",
    "    for i in range(n):\n",
    "        p *= x\n",
    "    return p\n",
    "\n",
    "#-------------------\n",
    "\n",
    "expdict = {}\n",
    "\n",
    "for x in range(1,6):\n",
    "    valuelist = []\n",
    "    for n in range(1,100):\n",
    "        valuelist.append(math.log(power(x,n)))\n",
    "    expdict[x] = valuelist\n",
    "    \n",
    "#xaxis = [0,1,2,3,4,5,6,7,8,9]\n",
    "xaxis = [math.log(x) for x in range(1,100)]\n",
    "\n",
    "for key in expdict.keys():\n",
    "    plt.plot(xaxis,expdict[key])\n",
    "plt.legend(expdict.keys())\n",
    "plt.show()"
   ]
  },
  {
   "cell_type": "code",
   "execution_count": 16,
   "metadata": {},
   "outputs": [
    {
     "data": {
      "image/png": "[encoded data removed]",
      "text/plain": [
       "<Figure size 432x288 with 1 Axes>"
      ]
     },
     "metadata": {
      "needs_background": "light"
     },
     "output_type": "display_data"
    }
   ],
   "source": [
    "import matplotlib.pyplot as plt\n",
    "import math\n",
    "\n",
    "def power(x,n) : #n is positive integer\n",
    "    p = 1\n",
    "    for i in range(n):\n",
    "        p *= x\n",
    "    return p\n",
    "\n",
    "#-------------------\n",
    "\n",
    "expdict = {}\n",
    "\n",
    "for x in range(1,6):\n",
    "    valuelist = []\n",
    "    for n in range(1,100):\n",
    "        valuelist.append(math.log(power(x,n)))\n",
    "    expdict[x] = valuelist\n",
    "    \n",
    "#xaxis = [0,1,2,3,4,5,6,7,8,9]\n",
    "xaxis = [x for x in range(1,100)]\n",
    "\n",
    "for key in expdict.keys():\n",
    "    plt.plot(xaxis,expdict[key])\n",
    "plt.legend(expdict.keys())\n",
    "plt.show()\n"
   ]
  },
  {
   "cell_type": "code",
   "execution_count": 24,
   "metadata": {},
   "outputs": [
    {
     "name": "stdout",
     "output_type": "stream",
     "text": [
      "skdjfsdfs\n",
      "9\n"
     ]
    }
   ],
   "source": [
    "alphabet = input()\n",
    "n = 0\n",
    "for i in alphabet :\n",
    "    if 'a'<= i <= 'z' :\n",
    "        n += 1\n",
    "print(n)"
   ]
  },
  {
   "cell_type": "code",
   "execution_count": 10,
   "metadata": {},
   "outputs": [
    {
     "name": "stdout",
     "output_type": "stream",
     "text": [
      "1314rasfqr231\n",
      "{'1': 3, '3': 2, '4': 1, 'r': 2, 'a': 1, 's': 1, 'f': 1, 'q': 1, '2': 1}\n",
      "9\n",
      "{'4', 's', '3', 'q', 'a', 'f', '2', '1', 'r'}\n"
     ]
    }
   ],
   "source": [
    "a = input()\n",
    "b = {}\n",
    "n = 0\n",
    "for i in a :\n",
    "    if i in b.keys():\n",
    "        b[i] += 1\n",
    "    else :\n",
    "        b[i] = 1\n",
    "        n += 1\n",
    "print(b)\n",
    "print(n)\n",
    "\n",
    "uniquelower = set(b)\n",
    "print(uniquelower)"
   ]
  },
  {
   "cell_type": "code",
   "execution_count": 42,
   "metadata": {},
   "outputs": [
    {
     "name": "stdout",
     "output_type": "stream",
     "text": [
      "asdkasLHKHLKJUKLJ\n",
      "['a', 's', 'd', 'k', 'a', 's']\n",
      "6\n",
      "{'a': 2, 's': 2, 'd': 1, 'k': 1}\n"
     ]
    }
   ],
   "source": [
    "#prof solution\n",
    "import string\n",
    "\n",
    "astring = input()\n",
    "lowerlist = []\n",
    "for c in astring :\n",
    "    if c in string.ascii_lowercase :\n",
    "        lowerlist.append(c)\n",
    "        \n",
    "print(lowerlist)\n",
    "print(len(lowerlist))\n",
    "\n",
    "#uniquelower = set(lowerlist)\n",
    "#print(uniquelower)\n",
    "\n",
    "countdict = {}\n",
    "for c in lowerlist :\n",
    "    if c in countdict.keys():\n",
    "        countdict[c] += 1\n",
    "    else:\n",
    "        countdict[c] = 1\n",
    "print(countdict)"
   ]
  },
  {
   "cell_type": "code",
   "execution_count": 59,
   "metadata": {},
   "outputs": [
    {
     "name": "stdout",
     "output_type": "stream",
     "text": [
      "enter the string ----> sdfsdK:J:J\n",
      "['s', 'd', 'f', 's', 'd']\n",
      "5\n",
      "{'f': 1, 's': 2, 'd': 2}\n"
     ]
    }
   ],
   "source": [
    "import string\n",
    "\n",
    "astring = input('enter the string ----> ')\n",
    "lowerlist = []\n",
    "for c in astring :\n",
    "    if c in string.ascii_lowercase :\n",
    "        lowerlist.append(c)\n",
    "        \n",
    "print(lowerlist)\n",
    "print(len(lowerlist))\n",
    "\n",
    "uniquelower = set(lowerlist)\n",
    "countdict = {k:lowerlist.count(k) for k in uniquelower}\n",
    "\n",
    "print(countdict)"
   ]
  },
  {
   "cell_type": "code",
   "execution_count": 63,
   "metadata": {},
   "outputs": [
    {
     "name": "stdout",
     "output_type": "stream",
     "text": [
      "enter the string ----> dfgdklJK:LK\n",
      "['d', 'f', 'g', 'd', 'k', 'l']\n",
      "6\n",
      "{'s': 1}\n"
     ]
    }
   ],
   "source": [
    "import string\n",
    "\n",
    "def findlowercase(astring):\n",
    "    lowerlist = []\n",
    "    for c in astring :\n",
    "        if c in string.ascii_lowercase :\n",
    "            lowerlist.append(c)\n",
    "    return lowerlist\n",
    "\n",
    "def countfreq(alist):\n",
    "    countdict = {}\n",
    "    for c in lowerlist :\n",
    "        if c in countdict.keys():\n",
    "            countdict[c] += 1\n",
    "        else:\n",
    "            countdict[c] = 1\n",
    "        return countdict\n",
    "\n",
    "astring = input('enter the string ----> ')\n",
    "\n",
    "lowercharacters = findlowercase(astring)\n",
    "\n",
    "print(lowercharacters)\n",
    "print(len(lowercharacters))\n",
    "\n",
    "lowercount = countfreq(lowercharacters)\n",
    "\n",
    "print(lowercount)"
   ]
  },
  {
   "cell_type": "code",
   "execution_count": 16,
   "metadata": {},
   "outputs": [
    {
     "name": "stdout",
     "output_type": "stream",
     "text": [
      "enter the string ----> An essay is a \"short formal piece of writing.. dealing with a single subject\" (\"Essay,\" 2001). It is typically written to try to persuade the reader using selected research evidence (\"Essay,\" 1997). In general, an academic essay has three parts: ... A conclusion that summarizes the content and findings of the essay.\n",
      "['n', 'e', 's', 's', 'a', 'y', 'i', 's', 'a', 's', 'h', 'o', 'r', 't', 'f', 'o', 'r', 'm', 'a', 'l', 'p', 'i', 'e', 'c', 'e', 'o', 'f', 'w', 'r', 'i', 't', 'i', 'n', 'g', 'd', 'e', 'a', 'l', 'i', 'n', 'g', 'w', 'i', 't', 'h', 'a', 's', 'i', 'n', 'g', 'l', 'e', 's', 'u', 'b', 'j', 'e', 'c', 't', 's', 's', 'a', 'y', 't', 'i', 's', 't', 'y', 'p', 'i', 'c', 'a', 'l', 'l', 'y', 'w', 'r', 'i', 't', 't', 'e', 'n', 't', 'o', 't', 'r', 'y', 't', 'o', 'p', 'e', 'r', 's', 'u', 'a', 'd', 'e', 't', 'h', 'e', 'r', 'e', 'a', 'd', 'e', 'r', 'u', 's', 'i', 'n', 'g', 's', 'e', 'l', 'e', 'c', 't', 'e', 'd', 'r', 'e', 's', 'e', 'a', 'r', 'c', 'h', 'e', 'v', 'i', 'd', 'e', 'n', 'c', 'e', 's', 's', 'a', 'y', 'n', 'g', 'e', 'n', 'e', 'r', 'a', 'l', 'a', 'n', 'a', 'c', 'a', 'd', 'e', 'm', 'i', 'c', 'e', 's', 's', 'a', 'y', 'h', 'a', 's', 't', 'h', 'r', 'e', 'e', 'p', 'a', 'r', 't', 's', 'c', 'o', 'n', 'c', 'l', 'u', 's', 'i', 'o', 'n', 't', 'h', 'a', 't', 's', 'u', 'm', 'm', 'a', 'r', 'i', 'z', 'e', 's', 't', 'h', 'e', 'c', 'o', 'n', 't', 'e', 'n', 't', 'a', 'n', 'd', 'f', 'i', 'n', 'd', 'i', 'n', 'g', 's', 'o', 'f', 't', 'h', 'e', 'e', 's', 's', 'a', 'y']\n",
      "\n",
      "230\n",
      "\n",
      "{'t': 21, 'n': 18, 's': 25, 'b': 1, 'o': 9, 'e': 31, 'z': 1, 'r': 14, 'c': 11, 'p': 4, 'u': 5, 'y': 8, 'h': 9, 'j': 1, 'm': 4, 'f': 4, 'g': 6, 'v': 1, 'l': 8, 'i': 17, 'a': 22, 'w': 3, 'd': 8}\n"
     ]
    }
   ],
   "source": [
    "import string\n",
    "\n",
    "def findlowercase(astring):\n",
    "    lowerlist = []\n",
    "    for c in astring :\n",
    "        if c in string.ascii_lowercase :\n",
    "            lowerlist.append(c)\n",
    "    return lowerlist\n",
    "\n",
    "def countfreq(alist):\n",
    "    unique = set(alist)\n",
    "    countdict = {k:alist.count(k) for k in unique}\n",
    "    for c in findlowercase(astring):\n",
    "        if c in countdict.keys():\n",
    "            countdict[c] += 1\n",
    "        else:\n",
    "            countdict[c] = 1\n",
    "        return countdict\n",
    "\n",
    "astring = input('enter the string ----> ')\n",
    "\n",
    "lowercharacters = findlowercase(astring)\n",
    "\n",
    "print(lowercharacters)\n",
    "print()\n",
    "print(len(lowercharacters))\n",
    "\n",
    "lowercount = countfreq(lowercharacters)\n",
    "print()\n",
    "print(lowercount)"
   ]
  },
  {
   "cell_type": "code",
   "execution_count": 82,
   "metadata": {},
   "outputs": [
    {
     "name": "stdout",
     "output_type": "stream",
     "text": [
      "13\n"
     ]
    }
   ],
   "source": [
    "def fibonacci(n):\n",
    "    if n == 0:\n",
    "        return 0\n",
    "    elif n == 1:\n",
    "        return 1\n",
    "    else :\n",
    "        return(fibonacci(n-1) + fibonacci(n-2))\n",
    "    \n",
    "print(fibonacci(7))"
   ]
  },
  {
   "cell_type": "code",
   "execution_count": 7,
   "metadata": {},
   "outputs": [
    {
     "name": "stdout",
     "output_type": "stream",
     "text": [
      "[0, 1, 1, 2, 3, 5, 8]\n"
     ]
    }
   ],
   "source": [
    "def fibonacci(n):\n",
    "    fn = []\n",
    "    for i in range(n):\n",
    "        if i == 0 :\n",
    "            fn.append(0)\n",
    "        elif i == 1:\n",
    "            fn.append(1)\n",
    "        else:\n",
    "            fn.append(fn[i-1]+fn[i-2])\n",
    "    return fn\n",
    "    \n",
    "print(fibonacci(7))"
   ]
  },
  {
   "cell_type": "code",
   "execution_count": 23,
   "metadata": {},
   "outputs": [
    {
     "name": "stdout",
     "output_type": "stream",
     "text": [
      "fibonacci 1 = 0\n",
      "fibonacci 2 = 1\n",
      "fibonacci 3 = 1\n",
      "fibonacci 4 = 2\n",
      "fibonacci 5 = 3\n",
      "fibonacci 6 = 5\n",
      "fibonacci 7 = 8\n",
      "fibonacci 8 = 13\n",
      "fibonacci 9 = 21\n",
      "fibonacci 10 = 34\n"
     ]
    }
   ],
   "source": [
    "def fibonacci(num):\n",
    "    fn = []\n",
    "    for i in range(num):\n",
    "        if i <= 1:\n",
    "            fn.append(i)\n",
    "        else:\n",
    "            fn.append(fn[i-1]+fn[i-2])\n",
    "    return fn\n",
    "\n",
    "fibo = fibonacci(10)\n",
    "for k in range(len(fibo)):\n",
    "    print(f'fibonacci {k+1} = {fibo[k]}')"
   ]
  }
 ],
 "metadata": {
  "kernelspec": {
   "display_name": "Python 3",
   "language": "python",
   "name": "python3"
  },
  "language_info": {
   "codemirror_mode": {
    "name": "ipython",
    "version": 3
   },
   "file_extension": ".py",
   "mimetype": "text/x-python",
   "name": "python",
   "nbconvert_exporter": "python",
   "pygments_lexer": "ipython3",
   "version": "3.8.5"
  }
 },
 "nbformat": 4,
 "nbformat_minor": 2
}
