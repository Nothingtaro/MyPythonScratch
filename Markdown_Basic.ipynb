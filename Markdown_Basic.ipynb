{
 "cells": [
  {
   "cell_type": "markdown",
   "metadata": {},
   "source": [
    "# Heading 1\n",
    "## Heading 2\n",
    "##### This is heading 6"
   ]
  },
  {
   "cell_type": "markdown",
   "metadata": {},
   "source": [
    "## Bullet point "
   ]
  },
  {
   "cell_type": "markdown",
   "metadata": {},
   "source": [
    "* coffee\n",
    "* tea\n",
    "* soft drink"
   ]
  },
  {
   "cell_type": "markdown",
   "metadata": {},
   "source": [
    "1. coffee\n",
    "2. tea\n",
    "3. soft drink\n",
    "4. water"
   ]
  },
  {
   "cell_type": "markdown",
   "metadata": {},
   "source": [
    "1. coffee\n",
    "    * mocha\n",
    "    * latte\n",
    "    * espresso\n",
    "2. tea\n",
    "    * green\n",
    "    * jasmine\n",
    "3. soft drink\n",
    "    * coke\n",
    "       * classic\n",
    "       * diet\n",
    "4. water"
   ]
  },
  {
   "cell_type": "markdown",
   "metadata": {},
   "source": [
    "## New line  \n",
    "two-spacebar + enter"
   ]
  },
  {
   "cell_type": "markdown",
   "metadata": {},
   "source": [
    "first line.  \n",
    "second line.  \n",
    "third line.  "
   ]
  },
  {
   "cell_type": "markdown",
   "metadata": {},
   "source": [
    "## Emphasis   "
   ]
  },
  {
   "cell_type": "markdown",
   "metadata": {},
   "source": [
    "The *impossible* dream.  \n",
    "May the **force** me with you.  \n",
    "***You*** can't save the world alone.  \n",
    "Past ~~Present~~ Future.  "
   ]
  },
  {
   "cell_type": "markdown",
   "metadata": {},
   "source": [
    "The <span style=color:red>*impossible*</span> dream.  \n",
    "<span style=color:blue;font-size:150%>May</span> the **force** me with you.  \n",
    "***You*** can't save the world alone.  \n",
    "Past ~~Present~~ Future.  "
   ]
  },
  {
   "cell_type": "markdown",
   "metadata": {},
   "source": [
    "## Hyperlink "
   ]
  },
  {
   "cell_type": "markdown",
   "metadata": {},
   "source": [
    "https://youtube.com  \n",
    "[Visit Youtube](https://youtube.com)\n",
    "### [Visit Youtube](https://youtube.com)"
   ]
  },
  {
   "cell_type": "markdown",
   "metadata": {},
   "source": [
    "## Image "
   ]
  },
  {
   "cell_type": "markdown",
   "metadata": {},
   "source": [
    "![](https://github.com/prasertcbs/tutorial/raw/master/RoyalBarge-001.jpg \"เรือพระที่นั่งสุพรรณหงส์\")"
   ]
  },
  {
   "cell_type": "markdown",
   "metadata": {},
   "source": [
    "Data: https://th.wikipedia.org/wiki/5%E0%B8%AA\n",
    "\n",
    "5ส คือ แนวทางที่ใช้เพื่อปรับปรุงแก้ไขงานและรักษาสิ่งแวดล้อมในที่ทำงานให้ดีขึ้นในวงการการผลิตและวงการงานบริการเป็นต้น โดยการปฏิบัติตามหลัก 5ส ที่แปลมาจากภาษาญี่ปุ่น โดยในญี่ปุ่นเรียกกันว่า 5S ซึ่งได้แก่\n",
    "\n",
    "* สะสาง (ญี่ปุ่น: 整理 โรมาจิ: seiri) คือ การแยกของ(หรือกระบวนการทำงาน)ที่จำเป็น/ไม่จำเป็นต่องาน และกำจัด/เคลื่อนย้าย/หรือบริจาคออกไป รวมถึงเพิ่มเติมของจำเป็นที่ขาดหายไปด้วย\n",
    "* สะดวก (ญี่ปุ่น: 整頓 โรมาจิ: seiton) คือ การจัดวางสิ่งของต่างๆ ที่สำคัญกับงานให้เป็นระเบียบ เพื่อความสะดวกในการใช้งานและลดเวลาในการค้นหา\n",
    "* สะอาด (ญี่ปุ่น: 清掃 โรมาจิ: seiso) คือ การทำความสะอาด (ไม่ใช่แค่ ปัด กวาด เช็ด ถู) เครื่องจักร อุปกรณ์ และ สถานที่ทำงาน เพื่อหาข้อบกพร่อง หรือความเสียหายของอุปกรณ์ เครื่องจักร ต่างๆ ก่อนการทำงาน หากพบความเสียหายต้องแก้ไขเชิงป้องกัน\n",
    "* สร้างมาตรฐาน (ญี่ปุ่น: 清潔 โรมาจิ: seiketsu) หรือ Standardization คือ การสร้างมาตรฐานเพื่อให้ทุกคนสามารถทำงานได้เหมือนกัน\n",
    "* สร้างวินัย (ญี่ปุ่น: 躾 โรมาจิ: shitsuke) หรือ Discipline คือ การอบรมให้เข้าใจ 5ส อย่างถูกต้อง และติดตามประเมินผลของ 5ส ด้วยการตรวจประเมิน"
   ]
  }
 ],
 "metadata": {
  "kernelspec": {
   "display_name": "Python 3",
   "language": "python",
   "name": "python3"
  },
  "language_info": {
   "codemirror_mode": {
    "name": "ipython",
    "version": 3
   },
   "file_extension": ".py",
   "mimetype": "text/x-python",
   "name": "python",
   "nbconvert_exporter": "python",
   "pygments_lexer": "ipython3",
   "version": "3.8.5"
  }
 },
 "nbformat": 4,
 "nbformat_minor": 4
}
