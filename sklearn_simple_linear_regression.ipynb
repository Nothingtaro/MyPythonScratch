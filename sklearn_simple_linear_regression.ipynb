{
 "cells": [
  {
   "cell_type": "markdown",
   "metadata": {},
   "source": [
    "## Simple linear regression"
   ]
  },
  {
   "cell_type": "code",
   "execution_count": 1,
   "metadata": {},
   "outputs": [],
   "source": [
    "# import pandas as pd\n",
    "# import seaborn as sns\n",
    "# import numpy as np\n",
    "# import matplotlib.pyplot as plt\n",
    "# %matplotlib inline\n",
    "# %config Inlinebackend.figure_format = 'retina'\n",
    "\n",
    "import pyforest"
   ]
  },
  {
   "cell_type": "code",
   "execution_count": 2,
   "metadata": {},
   "outputs": [
    {
     "data": {
      "application/javascript": [
       "\n",
       "        if (window._pyforest_update_imports_cell) { window._pyforest_update_imports_cell('import pandas as pd'); }\n",
       "    "
      ],
      "text/plain": [
       "<IPython.core.display.Javascript object>"
      ]
     },
     "metadata": {},
     "output_type": "display_data"
    },
    {
     "data": {
      "text/html": [
       "<div>\n",
       "<style scoped>\n",
       "    .dataframe tbody tr th:only-of-type {\n",
       "        vertical-align: middle;\n",
       "    }\n",
       "\n",
       "    .dataframe tbody tr th {\n",
       "        vertical-align: top;\n",
       "    }\n",
       "\n",
       "    .dataframe thead th {\n",
       "        text-align: right;\n",
       "    }\n",
       "</style>\n",
       "<table border=\"1\" class=\"dataframe\">\n",
       "  <thead>\n",
       "    <tr style=\"text-align: right;\">\n",
       "      <th></th>\n",
       "      <th>date</th>\n",
       "      <th>iso_a3</th>\n",
       "      <th>currency_code</th>\n",
       "      <th>name</th>\n",
       "      <th>local_price</th>\n",
       "      <th>dollar_ex</th>\n",
       "      <th>dollar_price</th>\n",
       "      <th>GDP_dollar</th>\n",
       "      <th>adj_price</th>\n",
       "      <th>USD</th>\n",
       "      <th>EUR</th>\n",
       "      <th>GBP</th>\n",
       "      <th>JPY</th>\n",
       "      <th>CNY</th>\n",
       "    </tr>\n",
       "  </thead>\n",
       "  <tbody>\n",
       "    <tr>\n",
       "      <th>0</th>\n",
       "      <td>2011-07-01</td>\n",
       "      <td>ARG</td>\n",
       "      <td>ARS</td>\n",
       "      <td>Argentina</td>\n",
       "      <td>20.00</td>\n",
       "      <td>4.132500</td>\n",
       "      <td>4.839685</td>\n",
       "      <td>9138.177</td>\n",
       "      <td>3.149757</td>\n",
       "      <td>1.01089</td>\n",
       "      <td>0.47526</td>\n",
       "      <td>0.84970</td>\n",
       "      <td>0.90626</td>\n",
       "      <td>0.94622</td>\n",
       "    </tr>\n",
       "    <tr>\n",
       "      <th>1</th>\n",
       "      <td>2011-07-01</td>\n",
       "      <td>AUS</td>\n",
       "      <td>AUD</td>\n",
       "      <td>Australia</td>\n",
       "      <td>4.56</td>\n",
       "      <td>0.922382</td>\n",
       "      <td>4.943724</td>\n",
       "      <td>55589.549</td>\n",
       "      <td>5.792526</td>\n",
       "      <td>0.11695</td>\n",
       "      <td>-0.18056</td>\n",
       "      <td>0.02742</td>\n",
       "      <td>0.05883</td>\n",
       "      <td>0.08103</td>\n",
       "    </tr>\n",
       "    <tr>\n",
       "      <th>2</th>\n",
       "      <td>2011-07-01</td>\n",
       "      <td>BRA</td>\n",
       "      <td>BRL</td>\n",
       "      <td>Brazil</td>\n",
       "      <td>9.50</td>\n",
       "      <td>1.541600</td>\n",
       "      <td>6.162429</td>\n",
       "      <td>10816.487</td>\n",
       "      <td>3.245241</td>\n",
       "      <td>1.48516</td>\n",
       "      <td>0.82320</td>\n",
       "      <td>1.28595</td>\n",
       "      <td>1.35584</td>\n",
       "      <td>1.40524</td>\n",
       "    </tr>\n",
       "    <tr>\n",
       "      <th>3</th>\n",
       "      <td>2011-07-01</td>\n",
       "      <td>GBR</td>\n",
       "      <td>GBP</td>\n",
       "      <td>Britain</td>\n",
       "      <td>2.39</td>\n",
       "      <td>0.614137</td>\n",
       "      <td>3.891637</td>\n",
       "      <td>36119.846</td>\n",
       "      <td>4.684831</td>\n",
       "      <td>0.08714</td>\n",
       "      <td>-0.20243</td>\n",
       "      <td>0.00000</td>\n",
       "      <td>0.03058</td>\n",
       "      <td>0.05218</td>\n",
       "    </tr>\n",
       "    <tr>\n",
       "      <th>4</th>\n",
       "      <td>2011-07-01</td>\n",
       "      <td>CAN</td>\n",
       "      <td>CAD</td>\n",
       "      <td>Canada</td>\n",
       "      <td>4.73</td>\n",
       "      <td>0.945850</td>\n",
       "      <td>5.000793</td>\n",
       "      <td>46214.914</td>\n",
       "      <td>5.259173</td>\n",
       "      <td>0.24443</td>\n",
       "      <td>-0.08704</td>\n",
       "      <td>0.14468</td>\n",
       "      <td>0.17968</td>\n",
       "      <td>0.20441</td>\n",
       "    </tr>\n",
       "  </tbody>\n",
       "</table>\n",
       "</div>"
      ],
      "text/plain": [
       "        date iso_a3 currency_code       name  local_price  dollar_ex  \\\n",
       "0 2011-07-01    ARG           ARS  Argentina        20.00   4.132500   \n",
       "1 2011-07-01    AUS           AUD  Australia         4.56   0.922382   \n",
       "2 2011-07-01    BRA           BRL     Brazil         9.50   1.541600   \n",
       "3 2011-07-01    GBR           GBP    Britain         2.39   0.614137   \n",
       "4 2011-07-01    CAN           CAD     Canada         4.73   0.945850   \n",
       "\n",
       "   dollar_price  GDP_dollar  adj_price      USD      EUR      GBP      JPY  \\\n",
       "0      4.839685    9138.177   3.149757  1.01089  0.47526  0.84970  0.90626   \n",
       "1      4.943724   55589.549   5.792526  0.11695 -0.18056  0.02742  0.05883   \n",
       "2      6.162429   10816.487   3.245241  1.48516  0.82320  1.28595  1.35584   \n",
       "3      3.891637   36119.846   4.684831  0.08714 -0.20243  0.00000  0.03058   \n",
       "4      5.000793   46214.914   5.259173  0.24443 -0.08704  0.14468  0.17968   \n",
       "\n",
       "       CNY  \n",
       "0  0.94622  \n",
       "1  0.08103  \n",
       "2  1.40524  \n",
       "3  0.05218  \n",
       "4  0.20441  "
      ]
     },
     "execution_count": 2,
     "metadata": {},
     "output_type": "execute_result"
    }
   ],
   "source": [
    "url = 'https://github.com/TheEconomist/big-mac-data/raw/master/output-data/big-mac-adjusted-index.csv'\n",
    "df = pd.read_csv(url, parse_dates=['date'])\n",
    "df.head()"
   ]
  },
  {
   "cell_type": "code",
   "execution_count": 3,
   "metadata": {},
   "outputs": [
    {
     "name": "stdout",
     "output_type": "stream",
     "text": [
      "<class 'pandas.core.frame.DataFrame'>\n",
      "RangeIndex: 757 entries, 0 to 756\n",
      "Data columns (total 14 columns):\n",
      " #   Column         Non-Null Count  Dtype         \n",
      "---  ------         --------------  -----         \n",
      " 0   date           757 non-null    datetime64[ns]\n",
      " 1   iso_a3         757 non-null    object        \n",
      " 2   currency_code  757 non-null    object        \n",
      " 3   name           757 non-null    object        \n",
      " 4   local_price    757 non-null    float64       \n",
      " 5   dollar_ex      757 non-null    float64       \n",
      " 6   dollar_price   757 non-null    float64       \n",
      " 7   GDP_dollar     757 non-null    float64       \n",
      " 8   adj_price      757 non-null    float64       \n",
      " 9   USD            757 non-null    float64       \n",
      " 10  EUR            757 non-null    float64       \n",
      " 11  GBP            757 non-null    float64       \n",
      " 12  JPY            757 non-null    float64       \n",
      " 13  CNY            757 non-null    float64       \n",
      "dtypes: datetime64[ns](1), float64(10), object(3)\n",
      "memory usage: 82.9+ KB\n"
     ]
    }
   ],
   "source": [
    "df.info()"
   ]
  },
  {
   "cell_type": "code",
   "execution_count": 4,
   "metadata": {},
   "outputs": [
    {
     "data": {
      "text/html": [
       "<div>\n",
       "<style scoped>\n",
       "    .dataframe tbody tr th:only-of-type {\n",
       "        vertical-align: middle;\n",
       "    }\n",
       "\n",
       "    .dataframe tbody tr th {\n",
       "        vertical-align: top;\n",
       "    }\n",
       "\n",
       "    .dataframe thead th {\n",
       "        text-align: right;\n",
       "    }\n",
       "</style>\n",
       "<table border=\"1\" class=\"dataframe\">\n",
       "  <thead>\n",
       "    <tr style=\"text-align: right;\">\n",
       "      <th></th>\n",
       "      <th>date</th>\n",
       "      <th>iso_a3</th>\n",
       "      <th>currency_code</th>\n",
       "      <th>name</th>\n",
       "      <th>local_price</th>\n",
       "      <th>dollar_ex</th>\n",
       "      <th>dollar_price</th>\n",
       "      <th>GDP_dollar</th>\n",
       "      <th>adj_price</th>\n",
       "      <th>USD</th>\n",
       "      <th>EUR</th>\n",
       "      <th>GBP</th>\n",
       "      <th>JPY</th>\n",
       "      <th>CNY</th>\n",
       "    </tr>\n",
       "  </thead>\n",
       "  <tbody>\n",
       "    <tr>\n",
       "      <th>702</th>\n",
       "      <td>2021-01-01</td>\n",
       "      <td>ARG</td>\n",
       "      <td>ARS</td>\n",
       "      <td>Argentina</td>\n",
       "      <td>320.00</td>\n",
       "      <td>85.373600</td>\n",
       "      <td>3.748231</td>\n",
       "      <td>9890.314</td>\n",
       "      <td>3.263744</td>\n",
       "      <td>0.11556</td>\n",
       "      <td>-0.00950</td>\n",
       "      <td>0.18393</td>\n",
       "      <td>0.37871</td>\n",
       "      <td>0.08880</td>\n",
       "    </tr>\n",
       "    <tr>\n",
       "      <th>703</th>\n",
       "      <td>2021-01-01</td>\n",
       "      <td>AUS</td>\n",
       "      <td>AUD</td>\n",
       "      <td>Australia</td>\n",
       "      <td>6.48</td>\n",
       "      <td>1.299968</td>\n",
       "      <td>4.984740</td>\n",
       "      <td>54348.227</td>\n",
       "      <td>5.057862</td>\n",
       "      <td>-0.04267</td>\n",
       "      <td>-0.15000</td>\n",
       "      <td>0.01599</td>\n",
       "      <td>0.18315</td>\n",
       "      <td>-0.06564</td>\n",
       "    </tr>\n",
       "    <tr>\n",
       "      <th>704</th>\n",
       "      <td>2021-01-01</td>\n",
       "      <td>AZE</td>\n",
       "      <td>AZN</td>\n",
       "      <td>Azerbaijan</td>\n",
       "      <td>3.95</td>\n",
       "      <td>1.699000</td>\n",
       "      <td>2.324897</td>\n",
       "      <td>4813.670</td>\n",
       "      <td>3.058874</td>\n",
       "      <td>-0.26171</td>\n",
       "      <td>-0.34448</td>\n",
       "      <td>-0.21647</td>\n",
       "      <td>-0.08756</td>\n",
       "      <td>-0.27942</td>\n",
       "    </tr>\n",
       "    <tr>\n",
       "      <th>705</th>\n",
       "      <td>2021-01-01</td>\n",
       "      <td>BHR</td>\n",
       "      <td>BHD</td>\n",
       "      <td>Bahrain</td>\n",
       "      <td>1.50</td>\n",
       "      <td>0.377000</td>\n",
       "      <td>3.978780</td>\n",
       "      <td>25997.583</td>\n",
       "      <td>3.913760</td>\n",
       "      <td>-0.01249</td>\n",
       "      <td>-0.12321</td>\n",
       "      <td>0.04802</td>\n",
       "      <td>0.22045</td>\n",
       "      <td>-0.03619</td>\n",
       "    </tr>\n",
       "    <tr>\n",
       "      <th>706</th>\n",
       "      <td>2021-01-01</td>\n",
       "      <td>BRA</td>\n",
       "      <td>BRL</td>\n",
       "      <td>Brazil</td>\n",
       "      <td>21.90</td>\n",
       "      <td>5.504600</td>\n",
       "      <td>3.978491</td>\n",
       "      <td>8751.381</td>\n",
       "      <td>3.217782</td>\n",
       "      <td>0.20101</td>\n",
       "      <td>0.06636</td>\n",
       "      <td>0.27461</td>\n",
       "      <td>0.48431</td>\n",
       "      <td>0.17219</td>\n",
       "    </tr>\n",
       "  </tbody>\n",
       "</table>\n",
       "</div>"
      ],
      "text/plain": [
       "          date iso_a3 currency_code        name  local_price  dollar_ex  \\\n",
       "702 2021-01-01    ARG           ARS   Argentina       320.00  85.373600   \n",
       "703 2021-01-01    AUS           AUD   Australia         6.48   1.299968   \n",
       "704 2021-01-01    AZE           AZN  Azerbaijan         3.95   1.699000   \n",
       "705 2021-01-01    BHR           BHD     Bahrain         1.50   0.377000   \n",
       "706 2021-01-01    BRA           BRL      Brazil        21.90   5.504600   \n",
       "\n",
       "     dollar_price  GDP_dollar  adj_price      USD      EUR      GBP      JPY  \\\n",
       "702      3.748231    9890.314   3.263744  0.11556 -0.00950  0.18393  0.37871   \n",
       "703      4.984740   54348.227   5.057862 -0.04267 -0.15000  0.01599  0.18315   \n",
       "704      2.324897    4813.670   3.058874 -0.26171 -0.34448 -0.21647 -0.08756   \n",
       "705      3.978780   25997.583   3.913760 -0.01249 -0.12321  0.04802  0.22045   \n",
       "706      3.978491    8751.381   3.217782  0.20101  0.06636  0.27461  0.48431   \n",
       "\n",
       "         CNY  \n",
       "702  0.08880  \n",
       "703 -0.06564  \n",
       "704 -0.27942  \n",
       "705 -0.03619  \n",
       "706  0.17219  "
      ]
     },
     "execution_count": 4,
     "metadata": {},
     "output_type": "execute_result"
    }
   ],
   "source": [
    "df = df[(df['date'].dt.year == 2021) & (df['date'].dt.month == 1)]\n",
    "df.head()"
   ]
  },
  {
   "cell_type": "code",
   "execution_count": 5,
   "metadata": {},
   "outputs": [
    {
     "data": {
      "application/javascript": [
       "\n",
       "        if (window._pyforest_update_imports_cell) { window._pyforest_update_imports_cell('import pandas as pd\\nimport seaborn as sns'); }\n",
       "    "
      ],
      "text/plain": [
       "<IPython.core.display.Javascript object>"
      ]
     },
     "metadata": {},
     "output_type": "display_data"
    },
    {
     "data": {
      "image/png": "[encoded data removed]",
      "text/plain": [
       "<Figure size 360x360 with 1 Axes>"
      ]
     },
     "metadata": {
      "needs_background": "light"
     },
     "output_type": "display_data"
    }
   ],
   "source": [
    "sns.lmplot(x='GDP_dollar', y='dollar_price', data=df, ci=None);"
   ]
  },
  {
   "cell_type": "code",
   "execution_count": 6,
   "metadata": {},
   "outputs": [
    {
     "data": {
      "application/javascript": [
       "\n",
       "        if (window._pyforest_update_imports_cell) { window._pyforest_update_imports_cell('import pandas as pd\\nimport seaborn as sns'); }\n",
       "    "
      ],
      "text/plain": [
       "<IPython.core.display.Javascript object>"
      ]
     },
     "metadata": {},
     "output_type": "display_data"
    },
    {
     "data": {
      "image/png": "[encoded data removed]",
      "text/plain": [
       "<Figure size 432x432 with 3 Axes>"
      ]
     },
     "metadata": {
      "needs_background": "light"
     },
     "output_type": "display_data"
    }
   ],
   "source": [
    "sns.jointplot(x='GDP_dollar', y='dollar_price', data=df, kind='reg', ci=None, color='orange');"
   ]
  },
  {
   "cell_type": "markdown",
   "metadata": {},
   "source": [
    "### sklearn: Linear Regression "
   ]
  },
  {
   "cell_type": "code",
   "execution_count": 7,
   "metadata": {},
   "outputs": [],
   "source": [
    "import sklearn\n",
    "from sklearn.linear_model import LinearRegression"
   ]
  },
  {
   "cell_type": "code",
   "execution_count": 8,
   "metadata": {},
   "outputs": [
    {
     "name": "stdout",
     "output_type": "stream",
     "text": [
      "sklearn version: 0.23.2\n"
     ]
    }
   ],
   "source": [
    "print(f'sklearn version: {sklearn.__version__}')"
   ]
  },
  {
   "cell_type": "code",
   "execution_count": 9,
   "metadata": {},
   "outputs": [
    {
     "data": {
      "text/plain": [
       "LinearRegression()"
      ]
     },
     "execution_count": 9,
     "metadata": {},
     "output_type": "execute_result"
    }
   ],
   "source": [
    "model = LinearRegression()\n",
    "model"
   ]
  },
  {
   "cell_type": "code",
   "execution_count": 10,
   "metadata": {
    "scrolled": true
   },
   "outputs": [
    {
     "data": {
      "text/plain": [
       "702     9890.314000\n",
       "703    54348.227000\n",
       "704     4813.670000\n",
       "705    25997.583000\n",
       "706     8751.381000\n",
       "707    42378.606000\n",
       "708    46271.717000\n",
       "709    14772.111000\n",
       "710    10286.580000\n",
       "711     6423.179000\n",
       "712    12243.842000\n",
       "713    14853.016000\n",
       "714    23538.518000\n",
       "715    59770.324000\n",
       "716     3043.640000\n",
       "717    39378.286856\n",
       "718     4354.336000\n",
       "719     2550.666000\n",
       "720    48626.576000\n",
       "721    16469.607000\n",
       "722     2097.782000\n",
       "723     4196.670000\n",
       "724    43603.013000\n",
       "725    40255.936000\n",
       "726     4425.687000\n",
       "727    28499.788000\n",
       "728    11193.016000\n",
       "729     9862.440000\n",
       "730     4458.192000\n",
       "731    41666.635000\n",
       "732     1920.291000\n",
       "733    75294.428000\n",
       "734    18198.309000\n",
       "735     1348.676000\n",
       "736     6957.864000\n",
       "737     3511.935000\n",
       "738    15600.657000\n",
       "739    62918.848000\n",
       "740    12887.060000\n",
       "741    11601.418000\n",
       "742    23266.486000\n",
       "743    65233.880000\n",
       "744     5977.954000\n",
       "745    31846.217000\n",
       "746     3852.484000\n",
       "747    51404.434000\n",
       "748    82483.925000\n",
       "749    25873.367000\n",
       "750     7806.961000\n",
       "751     9150.862000\n",
       "752     3706.765000\n",
       "753    39179.883000\n",
       "754    65253.518000\n",
       "755    16110.742000\n",
       "756     3416.232000\n",
       "Name: GDP_dollar, dtype: float64"
      ]
     },
     "execution_count": 10,
     "metadata": {},
     "output_type": "execute_result"
    }
   ],
   "source": [
    "df['GDP_dollar']"
   ]
  },
  {
   "cell_type": "code",
   "execution_count": 11,
   "metadata": {},
   "outputs": [],
   "source": [
    "# model.fit(df['GDP_dollar'], df['dollar_price']) # error"
   ]
  },
  {
   "cell_type": "code",
   "execution_count": 12,
   "metadata": {
    "scrolled": true
   },
   "outputs": [
    {
     "data": {
      "text/html": [
       "<div>\n",
       "<style scoped>\n",
       "    .dataframe tbody tr th:only-of-type {\n",
       "        vertical-align: middle;\n",
       "    }\n",
       "\n",
       "    .dataframe tbody tr th {\n",
       "        vertical-align: top;\n",
       "    }\n",
       "\n",
       "    .dataframe thead th {\n",
       "        text-align: right;\n",
       "    }\n",
       "</style>\n",
       "<table border=\"1\" class=\"dataframe\">\n",
       "  <thead>\n",
       "    <tr style=\"text-align: right;\">\n",
       "      <th></th>\n",
       "      <th>GDP_dollar</th>\n",
       "    </tr>\n",
       "  </thead>\n",
       "  <tbody>\n",
       "    <tr>\n",
       "      <th>702</th>\n",
       "      <td>9890.314000</td>\n",
       "    </tr>\n",
       "    <tr>\n",
       "      <th>703</th>\n",
       "      <td>54348.227000</td>\n",
       "    </tr>\n",
       "    <tr>\n",
       "      <th>704</th>\n",
       "      <td>4813.670000</td>\n",
       "    </tr>\n",
       "    <tr>\n",
       "      <th>705</th>\n",
       "      <td>25997.583000</td>\n",
       "    </tr>\n",
       "    <tr>\n",
       "      <th>706</th>\n",
       "      <td>8751.381000</td>\n",
       "    </tr>\n",
       "    <tr>\n",
       "      <th>707</th>\n",
       "      <td>42378.606000</td>\n",
       "    </tr>\n",
       "    <tr>\n",
       "      <th>708</th>\n",
       "      <td>46271.717000</td>\n",
       "    </tr>\n",
       "    <tr>\n",
       "      <th>709</th>\n",
       "      <td>14772.111000</td>\n",
       "    </tr>\n",
       "    <tr>\n",
       "      <th>710</th>\n",
       "      <td>10286.580000</td>\n",
       "    </tr>\n",
       "    <tr>\n",
       "      <th>711</th>\n",
       "      <td>6423.179000</td>\n",
       "    </tr>\n",
       "    <tr>\n",
       "      <th>712</th>\n",
       "      <td>12243.842000</td>\n",
       "    </tr>\n",
       "    <tr>\n",
       "      <th>713</th>\n",
       "      <td>14853.016000</td>\n",
       "    </tr>\n",
       "    <tr>\n",
       "      <th>714</th>\n",
       "      <td>23538.518000</td>\n",
       "    </tr>\n",
       "    <tr>\n",
       "      <th>715</th>\n",
       "      <td>59770.324000</td>\n",
       "    </tr>\n",
       "    <tr>\n",
       "      <th>716</th>\n",
       "      <td>3043.640000</td>\n",
       "    </tr>\n",
       "    <tr>\n",
       "      <th>717</th>\n",
       "      <td>39378.286856</td>\n",
       "    </tr>\n",
       "    <tr>\n",
       "      <th>718</th>\n",
       "      <td>4354.336000</td>\n",
       "    </tr>\n",
       "    <tr>\n",
       "      <th>719</th>\n",
       "      <td>2550.666000</td>\n",
       "    </tr>\n",
       "    <tr>\n",
       "      <th>720</th>\n",
       "      <td>48626.576000</td>\n",
       "    </tr>\n",
       "    <tr>\n",
       "      <th>721</th>\n",
       "      <td>16469.607000</td>\n",
       "    </tr>\n",
       "    <tr>\n",
       "      <th>722</th>\n",
       "      <td>2097.782000</td>\n",
       "    </tr>\n",
       "    <tr>\n",
       "      <th>723</th>\n",
       "      <td>4196.670000</td>\n",
       "    </tr>\n",
       "    <tr>\n",
       "      <th>724</th>\n",
       "      <td>43603.013000</td>\n",
       "    </tr>\n",
       "    <tr>\n",
       "      <th>725</th>\n",
       "      <td>40255.936000</td>\n",
       "    </tr>\n",
       "    <tr>\n",
       "      <th>726</th>\n",
       "      <td>4425.687000</td>\n",
       "    </tr>\n",
       "    <tr>\n",
       "      <th>727</th>\n",
       "      <td>28499.788000</td>\n",
       "    </tr>\n",
       "    <tr>\n",
       "      <th>728</th>\n",
       "      <td>11193.016000</td>\n",
       "    </tr>\n",
       "    <tr>\n",
       "      <th>729</th>\n",
       "      <td>9862.440000</td>\n",
       "    </tr>\n",
       "    <tr>\n",
       "      <th>730</th>\n",
       "      <td>4458.192000</td>\n",
       "    </tr>\n",
       "    <tr>\n",
       "      <th>731</th>\n",
       "      <td>41666.635000</td>\n",
       "    </tr>\n",
       "    <tr>\n",
       "      <th>732</th>\n",
       "      <td>1920.291000</td>\n",
       "    </tr>\n",
       "    <tr>\n",
       "      <th>733</th>\n",
       "      <td>75294.428000</td>\n",
       "    </tr>\n",
       "    <tr>\n",
       "      <th>734</th>\n",
       "      <td>18198.309000</td>\n",
       "    </tr>\n",
       "    <tr>\n",
       "      <th>735</th>\n",
       "      <td>1348.676000</td>\n",
       "    </tr>\n",
       "    <tr>\n",
       "      <th>736</th>\n",
       "      <td>6957.864000</td>\n",
       "    </tr>\n",
       "    <tr>\n",
       "      <th>737</th>\n",
       "      <td>3511.935000</td>\n",
       "    </tr>\n",
       "    <tr>\n",
       "      <th>738</th>\n",
       "      <td>15600.657000</td>\n",
       "    </tr>\n",
       "    <tr>\n",
       "      <th>739</th>\n",
       "      <td>62918.848000</td>\n",
       "    </tr>\n",
       "    <tr>\n",
       "      <th>740</th>\n",
       "      <td>12887.060000</td>\n",
       "    </tr>\n",
       "    <tr>\n",
       "      <th>741</th>\n",
       "      <td>11601.418000</td>\n",
       "    </tr>\n",
       "    <tr>\n",
       "      <th>742</th>\n",
       "      <td>23266.486000</td>\n",
       "    </tr>\n",
       "    <tr>\n",
       "      <th>743</th>\n",
       "      <td>65233.880000</td>\n",
       "    </tr>\n",
       "    <tr>\n",
       "      <th>744</th>\n",
       "      <td>5977.954000</td>\n",
       "    </tr>\n",
       "    <tr>\n",
       "      <th>745</th>\n",
       "      <td>31846.217000</td>\n",
       "    </tr>\n",
       "    <tr>\n",
       "      <th>746</th>\n",
       "      <td>3852.484000</td>\n",
       "    </tr>\n",
       "    <tr>\n",
       "      <th>747</th>\n",
       "      <td>51404.434000</td>\n",
       "    </tr>\n",
       "    <tr>\n",
       "      <th>748</th>\n",
       "      <td>82483.925000</td>\n",
       "    </tr>\n",
       "    <tr>\n",
       "      <th>749</th>\n",
       "      <td>25873.367000</td>\n",
       "    </tr>\n",
       "    <tr>\n",
       "      <th>750</th>\n",
       "      <td>7806.961000</td>\n",
       "    </tr>\n",
       "    <tr>\n",
       "      <th>751</th>\n",
       "      <td>9150.862000</td>\n",
       "    </tr>\n",
       "    <tr>\n",
       "      <th>752</th>\n",
       "      <td>3706.765000</td>\n",
       "    </tr>\n",
       "    <tr>\n",
       "      <th>753</th>\n",
       "      <td>39179.883000</td>\n",
       "    </tr>\n",
       "    <tr>\n",
       "      <th>754</th>\n",
       "      <td>65253.518000</td>\n",
       "    </tr>\n",
       "    <tr>\n",
       "      <th>755</th>\n",
       "      <td>16110.742000</td>\n",
       "    </tr>\n",
       "    <tr>\n",
       "      <th>756</th>\n",
       "      <td>3416.232000</td>\n",
       "    </tr>\n",
       "  </tbody>\n",
       "</table>\n",
       "</div>"
      ],
      "text/plain": [
       "       GDP_dollar\n",
       "702   9890.314000\n",
       "703  54348.227000\n",
       "704   4813.670000\n",
       "705  25997.583000\n",
       "706   8751.381000\n",
       "707  42378.606000\n",
       "708  46271.717000\n",
       "709  14772.111000\n",
       "710  10286.580000\n",
       "711   6423.179000\n",
       "712  12243.842000\n",
       "713  14853.016000\n",
       "714  23538.518000\n",
       "715  59770.324000\n",
       "716   3043.640000\n",
       "717  39378.286856\n",
       "718   4354.336000\n",
       "719   2550.666000\n",
       "720  48626.576000\n",
       "721  16469.607000\n",
       "722   2097.782000\n",
       "723   4196.670000\n",
       "724  43603.013000\n",
       "725  40255.936000\n",
       "726   4425.687000\n",
       "727  28499.788000\n",
       "728  11193.016000\n",
       "729   9862.440000\n",
       "730   4458.192000\n",
       "731  41666.635000\n",
       "732   1920.291000\n",
       "733  75294.428000\n",
       "734  18198.309000\n",
       "735   1348.676000\n",
       "736   6957.864000\n",
       "737   3511.935000\n",
       "738  15600.657000\n",
       "739  62918.848000\n",
       "740  12887.060000\n",
       "741  11601.418000\n",
       "742  23266.486000\n",
       "743  65233.880000\n",
       "744   5977.954000\n",
       "745  31846.217000\n",
       "746   3852.484000\n",
       "747  51404.434000\n",
       "748  82483.925000\n",
       "749  25873.367000\n",
       "750   7806.961000\n",
       "751   9150.862000\n",
       "752   3706.765000\n",
       "753  39179.883000\n",
       "754  65253.518000\n",
       "755  16110.742000\n",
       "756   3416.232000"
      ]
     },
     "execution_count": 12,
     "metadata": {},
     "output_type": "execute_result"
    }
   ],
   "source": [
    "df[['GDP_dollar']]"
   ]
  },
  {
   "cell_type": "code",
   "execution_count": 13,
   "metadata": {},
   "outputs": [
    {
     "data": {
      "text/plain": [
       "LinearRegression()"
      ]
     },
     "execution_count": 13,
     "metadata": {},
     "output_type": "execute_result"
    }
   ],
   "source": [
    "model.fit(df[['GDP_dollar']], df['dollar_price']) "
   ]
  },
  {
   "cell_type": "code",
   "execution_count": 14,
   "metadata": {},
   "outputs": [],
   "source": [
    "X = df[['GDP_dollar']] # expect 2D array not Series (1D)\n",
    "y = df.dollar_price"
   ]
  },
  {
   "cell_type": "code",
   "execution_count": 15,
   "metadata": {},
   "outputs": [
    {
     "data": {
      "text/plain": [
       "LinearRegression()"
      ]
     },
     "execution_count": 15,
     "metadata": {},
     "output_type": "execute_result"
    }
   ],
   "source": [
    "model.fit(X, y)"
   ]
  },
  {
   "cell_type": "code",
   "execution_count": 16,
   "metadata": {},
   "outputs": [
    {
     "data": {
      "text/plain": [
       "0.5552202728273847"
      ]
     },
     "execution_count": 16,
     "metadata": {},
     "output_type": "execute_result"
    }
   ],
   "source": [
    "model.score(X, y) # R-squared"
   ]
  },
  {
   "cell_type": "code",
   "execution_count": 17,
   "metadata": {},
   "outputs": [
    {
     "data": {
      "text/plain": [
       "2.8063425659608017"
      ]
     },
     "execution_count": 17,
     "metadata": {},
     "output_type": "execute_result"
    }
   ],
   "source": [
    "model.intercept_"
   ]
  },
  {
   "cell_type": "code",
   "execution_count": 18,
   "metadata": {},
   "outputs": [
    {
     "data": {
      "text/plain": [
       "array([3.91958618e-05])"
      ]
     },
     "execution_count": 18,
     "metadata": {},
     "output_type": "execute_result"
    }
   ],
   "source": [
    "model.coef_"
   ]
  },
  {
   "cell_type": "markdown",
   "metadata": {},
   "source": [
    "$ y = \\alpha + \\beta x $"
   ]
  },
  {
   "cell_type": "code",
   "execution_count": 19,
   "metadata": {},
   "outputs": [
    {
     "data": {
      "text/plain": [
       "array([3.15910532])"
      ]
     },
     "execution_count": 19,
     "metadata": {},
     "output_type": "execute_result"
    }
   ],
   "source": [
    "model.intercept_ + model.coef_ * 9000"
   ]
  },
  {
   "cell_type": "code",
   "execution_count": 20,
   "metadata": {},
   "outputs": [],
   "source": [
    "# model.predict(9000) # error"
   ]
  },
  {
   "cell_type": "code",
   "execution_count": 21,
   "metadata": {
    "scrolled": true
   },
   "outputs": [
    {
     "data": {
      "text/plain": [
       "array([3.15910532])"
      ]
     },
     "execution_count": 21,
     "metadata": {},
     "output_type": "execute_result"
    }
   ],
   "source": [
    "model.predict([[9000]]) # 2D array"
   ]
  },
  {
   "cell_type": "code",
   "execution_count": 22,
   "metadata": {
    "scrolled": true
   },
   "outputs": [
    {
     "data": {
      "text/plain": [
       "array([3.15910532, 4.37417704])"
      ]
     },
     "execution_count": 22,
     "metadata": {},
     "output_type": "execute_result"
    }
   ],
   "source": [
    "model.predict([[9000], \n",
    "               [40000]])"
   ]
  },
  {
   "cell_type": "code",
   "execution_count": 23,
   "metadata": {},
   "outputs": [
    {
     "data": {
      "application/javascript": [
       "\n",
       "        if (window._pyforest_update_imports_cell) { window._pyforest_update_imports_cell('import numpy as np\\nimport pandas as pd\\nimport seaborn as sns'); }\n",
       "    "
      ],
      "text/plain": [
       "<IPython.core.display.Javascript object>"
      ]
     },
     "metadata": {},
     "output_type": "display_data"
    },
    {
     "data": {
      "text/plain": [
       "array([ 5000,  7500, 10000, 12500, 15000, 17500, 20000, 22500, 25000,\n",
       "       27500, 30000, 32500, 35000, 37500, 40000, 42500, 45000, 47500,\n",
       "       50000])"
      ]
     },
     "execution_count": 23,
     "metadata": {},
     "output_type": "execute_result"
    }
   ],
   "source": [
    "np.arange(5000, 50001, 2500)"
   ]
  },
  {
   "cell_type": "code",
   "execution_count": 24,
   "metadata": {},
   "outputs": [
    {
     "data": {
      "application/javascript": [
       "\n",
       "        if (window._pyforest_update_imports_cell) { window._pyforest_update_imports_cell('import numpy as np\\nimport pandas as pd\\nimport seaborn as sns'); }\n",
       "    "
      ],
      "text/plain": [
       "<IPython.core.display.Javascript object>"
      ]
     },
     "metadata": {},
     "output_type": "display_data"
    },
    {
     "data": {
      "text/plain": [
       "array([[ 5000],\n",
       "       [ 7500],\n",
       "       [10000],\n",
       "       [12500],\n",
       "       [15000],\n",
       "       [17500],\n",
       "       [20000],\n",
       "       [22500],\n",
       "       [25000],\n",
       "       [27500],\n",
       "       [30000],\n",
       "       [32500],\n",
       "       [35000],\n",
       "       [37500],\n",
       "       [40000],\n",
       "       [42500],\n",
       "       [45000],\n",
       "       [47500],\n",
       "       [50000]])"
      ]
     },
     "execution_count": 24,
     "metadata": {},
     "output_type": "execute_result"
    }
   ],
   "source": [
    "np.arange(5000, 50001, 2500).reshape(-1,1) # 2D array"
   ]
  },
  {
   "cell_type": "code",
   "execution_count": 25,
   "metadata": {},
   "outputs": [
    {
     "data": {
      "application/javascript": [
       "\n",
       "        if (window._pyforest_update_imports_cell) { window._pyforest_update_imports_cell('import numpy as np\\nimport pandas as pd\\nimport seaborn as sns'); }\n",
       "    "
      ],
      "text/plain": [
       "<IPython.core.display.Javascript object>"
      ]
     },
     "metadata": {},
     "output_type": "display_data"
    },
    {
     "data": {
      "text/plain": [
       "array([3.00232187, 3.10031153, 3.19830118, 3.29629084, 3.39428049,\n",
       "       3.49227015, 3.5902598 , 3.68824946, 3.78623911, 3.88422877,\n",
       "       3.98221842, 4.08020807, 4.17819773, 4.27618738, 4.37417704,\n",
       "       4.47216669, 4.57015635, 4.668146  ])"
      ]
     },
     "execution_count": 25,
     "metadata": {},
     "output_type": "execute_result"
    }
   ],
   "source": [
    "model.predict(np.arange(5000, 50000, 2500).reshape(-1,1))"
   ]
  },
  {
   "cell_type": "code",
   "execution_count": 26,
   "metadata": {},
   "outputs": [
    {
     "data": {
      "application/javascript": [
       "\n",
       "        if (window._pyforest_update_imports_cell) { window._pyforest_update_imports_cell('import numpy as np\\nimport pandas as pd\\nimport seaborn as sns'); }\n",
       "    "
      ],
      "text/plain": [
       "<IPython.core.display.Javascript object>"
      ]
     },
     "metadata": {},
     "output_type": "display_data"
    },
    {
     "data": {
      "text/plain": [
       "array([ 5000.        ,  7368.42105263,  9736.84210526, 12105.26315789,\n",
       "       14473.68421053, 16842.10526316, 19210.52631579, 21578.94736842,\n",
       "       23947.36842105, 26315.78947368, 28684.21052632, 31052.63157895,\n",
       "       33421.05263158, 35789.47368421, 38157.89473684, 40526.31578947,\n",
       "       42894.73684211, 45263.15789474, 47631.57894737, 50000.        ])"
      ]
     },
     "execution_count": 26,
     "metadata": {},
     "output_type": "execute_result"
    }
   ],
   "source": [
    "np.linspace(5000, 50000, 20)"
   ]
  },
  {
   "cell_type": "code",
   "execution_count": 27,
   "metadata": {},
   "outputs": [
    {
     "data": {
      "application/javascript": [
       "\n",
       "        if (window._pyforest_update_imports_cell) { window._pyforest_update_imports_cell('import numpy as np\\nimport pandas as pd\\nimport seaborn as sns'); }\n",
       "    "
      ],
      "text/plain": [
       "<IPython.core.display.Javascript object>"
      ]
     },
     "metadata": {},
     "output_type": "display_data"
    },
    {
     "data": {
      "text/plain": [
       "array([[ 5000.        ],\n",
       "       [ 7368.42105263],\n",
       "       [ 9736.84210526],\n",
       "       [12105.26315789],\n",
       "       [14473.68421053],\n",
       "       [16842.10526316],\n",
       "       [19210.52631579],\n",
       "       [21578.94736842],\n",
       "       [23947.36842105],\n",
       "       [26315.78947368],\n",
       "       [28684.21052632],\n",
       "       [31052.63157895],\n",
       "       [33421.05263158],\n",
       "       [35789.47368421],\n",
       "       [38157.89473684],\n",
       "       [40526.31578947],\n",
       "       [42894.73684211],\n",
       "       [45263.15789474],\n",
       "       [47631.57894737],\n",
       "       [50000.        ]])"
      ]
     },
     "execution_count": 27,
     "metadata": {},
     "output_type": "execute_result"
    }
   ],
   "source": [
    "np.linspace(5000, 50000, 20).reshape(-1,1)"
   ]
  },
  {
   "cell_type": "code",
   "execution_count": 28,
   "metadata": {},
   "outputs": [
    {
     "data": {
      "application/javascript": [
       "\n",
       "        if (window._pyforest_update_imports_cell) { window._pyforest_update_imports_cell('import numpy as np\\nimport pandas as pd\\nimport seaborn as sns'); }\n",
       "    "
      ],
      "text/plain": [
       "<IPython.core.display.Javascript object>"
      ]
     },
     "metadata": {},
     "output_type": "display_data"
    },
    {
     "data": {
      "text/plain": [
       "array([3.00232187, 3.09515418, 3.18798648, 3.28081879, 3.37365109,\n",
       "       3.4664834 , 3.5593157 , 3.652148  , 3.74498031, 3.83781261,\n",
       "       3.93064492, 4.02347722, 4.11630953, 4.20914183, 4.30197413,\n",
       "       4.39480644, 4.48763874, 4.58047105, 4.67330335, 4.76613566])"
      ]
     },
     "execution_count": 28,
     "metadata": {},
     "output_type": "execute_result"
    }
   ],
   "source": [
    "model.predict(np.linspace(5000, 50000, 20).reshape(-1,1))"
   ]
  },
  {
   "cell_type": "code",
   "execution_count": 29,
   "metadata": {},
   "outputs": [
    {
     "data": {
      "application/javascript": [
       "\n",
       "        if (window._pyforest_update_imports_cell) { window._pyforest_update_imports_cell('import numpy as np\\nimport pandas as pd\\nimport seaborn as sns'); }\n",
       "    "
      ],
      "text/plain": [
       "<IPython.core.display.Javascript object>"
      ]
     },
     "metadata": {},
     "output_type": "display_data"
    },
    {
     "data": {
      "application/javascript": [
       "\n",
       "        if (window._pyforest_update_imports_cell) { window._pyforest_update_imports_cell('import numpy as np\\nimport pandas as pd\\nimport seaborn as sns'); }\n",
       "    "
      ],
      "text/plain": [
       "<IPython.core.display.Javascript object>"
      ]
     },
     "metadata": {},
     "output_type": "display_data"
    },
    {
     "data": {
      "text/plain": [
       "0      5000.000000\n",
       "1      7368.421053\n",
       "2      9736.842105\n",
       "3     12105.263158\n",
       "4     14473.684211\n",
       "5     16842.105263\n",
       "6     19210.526316\n",
       "7     21578.947368\n",
       "8     23947.368421\n",
       "9     26315.789474\n",
       "10    28684.210526\n",
       "11    31052.631579\n",
       "12    33421.052632\n",
       "13    35789.473684\n",
       "14    38157.894737\n",
       "15    40526.315789\n",
       "16    42894.736842\n",
       "17    45263.157895\n",
       "18    47631.578947\n",
       "19    50000.000000\n",
       "dtype: float64"
      ]
     },
     "execution_count": 29,
     "metadata": {},
     "output_type": "execute_result"
    }
   ],
   "source": [
    "s = pd.Series(np.linspace(5000, 50000, 20))\n",
    "s"
   ]
  },
  {
   "cell_type": "code",
   "execution_count": 30,
   "metadata": {},
   "outputs": [
    {
     "data": {
      "text/plain": [
       "array([3.00232187, 3.09515418, 3.18798648, 3.28081879, 3.37365109,\n",
       "       3.4664834 , 3.5593157 , 3.652148  , 3.74498031, 3.83781261,\n",
       "       3.93064492, 4.02347722, 4.11630953, 4.20914183, 4.30197413,\n",
       "       4.39480644, 4.48763874, 4.58047105, 4.67330335, 4.76613566])"
      ]
     },
     "execution_count": 30,
     "metadata": {},
     "output_type": "execute_result"
    }
   ],
   "source": [
    "model.predict(s.to_frame())"
   ]
  },
  {
   "cell_type": "code",
   "execution_count": 31,
   "metadata": {},
   "outputs": [
    {
     "data": {
      "application/javascript": [
       "\n",
       "        if (window._pyforest_update_imports_cell) { window._pyforest_update_imports_cell('import numpy as np\\nimport pandas as pd\\nimport seaborn as sns'); }\n",
       "    "
      ],
      "text/plain": [
       "<IPython.core.display.Javascript object>"
      ]
     },
     "metadata": {},
     "output_type": "display_data"
    },
    {
     "data": {
      "application/javascript": [
       "\n",
       "        if (window._pyforest_update_imports_cell) { window._pyforest_update_imports_cell('import numpy as np\\nimport pandas as pd\\nimport seaborn as sns'); }\n",
       "    "
      ],
      "text/plain": [
       "<IPython.core.display.Javascript object>"
      ]
     },
     "metadata": {},
     "output_type": "display_data"
    },
    {
     "data": {
      "text/html": [
       "<div>\n",
       "<style scoped>\n",
       "    .dataframe tbody tr th:only-of-type {\n",
       "        vertical-align: middle;\n",
       "    }\n",
       "\n",
       "    .dataframe tbody tr th {\n",
       "        vertical-align: top;\n",
       "    }\n",
       "\n",
       "    .dataframe thead th {\n",
       "        text-align: right;\n",
       "    }\n",
       "</style>\n",
       "<table border=\"1\" class=\"dataframe\">\n",
       "  <thead>\n",
       "    <tr style=\"text-align: right;\">\n",
       "      <th></th>\n",
       "      <th>gdp</th>\n",
       "    </tr>\n",
       "  </thead>\n",
       "  <tbody>\n",
       "    <tr>\n",
       "      <th>0</th>\n",
       "      <td>5000.000000</td>\n",
       "    </tr>\n",
       "    <tr>\n",
       "      <th>1</th>\n",
       "      <td>7368.421053</td>\n",
       "    </tr>\n",
       "    <tr>\n",
       "      <th>2</th>\n",
       "      <td>9736.842105</td>\n",
       "    </tr>\n",
       "    <tr>\n",
       "      <th>3</th>\n",
       "      <td>12105.263158</td>\n",
       "    </tr>\n",
       "    <tr>\n",
       "      <th>4</th>\n",
       "      <td>14473.684211</td>\n",
       "    </tr>\n",
       "    <tr>\n",
       "      <th>5</th>\n",
       "      <td>16842.105263</td>\n",
       "    </tr>\n",
       "    <tr>\n",
       "      <th>6</th>\n",
       "      <td>19210.526316</td>\n",
       "    </tr>\n",
       "    <tr>\n",
       "      <th>7</th>\n",
       "      <td>21578.947368</td>\n",
       "    </tr>\n",
       "    <tr>\n",
       "      <th>8</th>\n",
       "      <td>23947.368421</td>\n",
       "    </tr>\n",
       "    <tr>\n",
       "      <th>9</th>\n",
       "      <td>26315.789474</td>\n",
       "    </tr>\n",
       "    <tr>\n",
       "      <th>10</th>\n",
       "      <td>28684.210526</td>\n",
       "    </tr>\n",
       "    <tr>\n",
       "      <th>11</th>\n",
       "      <td>31052.631579</td>\n",
       "    </tr>\n",
       "    <tr>\n",
       "      <th>12</th>\n",
       "      <td>33421.052632</td>\n",
       "    </tr>\n",
       "    <tr>\n",
       "      <th>13</th>\n",
       "      <td>35789.473684</td>\n",
       "    </tr>\n",
       "    <tr>\n",
       "      <th>14</th>\n",
       "      <td>38157.894737</td>\n",
       "    </tr>\n",
       "    <tr>\n",
       "      <th>15</th>\n",
       "      <td>40526.315789</td>\n",
       "    </tr>\n",
       "    <tr>\n",
       "      <th>16</th>\n",
       "      <td>42894.736842</td>\n",
       "    </tr>\n",
       "    <tr>\n",
       "      <th>17</th>\n",
       "      <td>45263.157895</td>\n",
       "    </tr>\n",
       "    <tr>\n",
       "      <th>18</th>\n",
       "      <td>47631.578947</td>\n",
       "    </tr>\n",
       "    <tr>\n",
       "      <th>19</th>\n",
       "      <td>50000.000000</td>\n",
       "    </tr>\n",
       "  </tbody>\n",
       "</table>\n",
       "</div>"
      ],
      "text/plain": [
       "             gdp\n",
       "0    5000.000000\n",
       "1    7368.421053\n",
       "2    9736.842105\n",
       "3   12105.263158\n",
       "4   14473.684211\n",
       "5   16842.105263\n",
       "6   19210.526316\n",
       "7   21578.947368\n",
       "8   23947.368421\n",
       "9   26315.789474\n",
       "10  28684.210526\n",
       "11  31052.631579\n",
       "12  33421.052632\n",
       "13  35789.473684\n",
       "14  38157.894737\n",
       "15  40526.315789\n",
       "16  42894.736842\n",
       "17  45263.157895\n",
       "18  47631.578947\n",
       "19  50000.000000"
      ]
     },
     "execution_count": 31,
     "metadata": {},
     "output_type": "execute_result"
    }
   ],
   "source": [
    "dx = pd.DataFrame(np.linspace(5000, 50000, 20), columns=['gdp'])\n",
    "dx"
   ]
  },
  {
   "cell_type": "code",
   "execution_count": 32,
   "metadata": {},
   "outputs": [
    {
     "data": {
      "text/plain": [
       "array([3.00232187, 3.09515418, 3.18798648, 3.28081879, 3.37365109,\n",
       "       3.4664834 , 3.5593157 , 3.652148  , 3.74498031, 3.83781261,\n",
       "       3.93064492, 4.02347722, 4.11630953, 4.20914183, 4.30197413,\n",
       "       4.39480644, 4.48763874, 4.58047105, 4.67330335, 4.76613566])"
      ]
     },
     "execution_count": 32,
     "metadata": {},
     "output_type": "execute_result"
    }
   ],
   "source": [
    "model.predict(dx)"
   ]
  },
  {
   "cell_type": "markdown",
   "metadata": {},
   "source": [
    "### Statsmodel: Simple Linear Regression "
   ]
  },
  {
   "cell_type": "code",
   "execution_count": 33,
   "metadata": {},
   "outputs": [],
   "source": [
    "import statsmodels.api as sm\n",
    "import statsmodels.formula.api as smf"
   ]
  },
  {
   "cell_type": "code",
   "execution_count": 34,
   "metadata": {},
   "outputs": [],
   "source": [
    "# formula: response ~ predictor + predictor\n",
    "model_a = smf.ols(formula = 'dollar_price ~ GDP_dollar', data=df).fit()"
   ]
  },
  {
   "cell_type": "code",
   "execution_count": 35,
   "metadata": {},
   "outputs": [
    {
     "name": "stdout",
     "output_type": "stream",
     "text": [
      "                            OLS Regression Results                            \n",
      "==============================================================================\n",
      "Dep. Variable:           dollar_price   R-squared:                       0.555\n",
      "Model:                            OLS   Adj. R-squared:                  0.547\n",
      "Method:                 Least Squares   F-statistic:                     66.16\n",
      "Date:                Mon, 05 Jul 2021   Prob (F-statistic):           6.84e-11\n",
      "Time:                        14:01:17   Log-Likelihood:                -63.151\n",
      "No. Observations:                  55   AIC:                             130.3\n",
      "Df Residuals:                      53   BIC:                             134.3\n",
      "Df Model:                           1                                         \n",
      "Covariance Type:            nonrobust                                         \n",
      "==============================================================================\n",
      "                 coef    std err          t      P>|t|      [0.025      0.975]\n",
      "------------------------------------------------------------------------------\n",
      "Intercept      2.8063      0.154     18.256      0.000       2.498       3.115\n",
      "GDP_dollar   3.92e-05   4.82e-06      8.134      0.000    2.95e-05    4.89e-05\n",
      "==============================================================================\n",
      "Omnibus:                        2.056   Durbin-Watson:                   1.739\n",
      "Prob(Omnibus):                  0.358   Jarque-Bera (JB):                1.675\n",
      "Skew:                          -0.427   Prob(JB):                        0.433\n",
      "Kurtosis:                       2.970   Cond. No.                     4.68e+04\n",
      "==============================================================================\n",
      "\n",
      "Notes:\n",
      "[1] Standard Errors assume that the covariance matrix of the errors is correctly specified.\n",
      "[2] The condition number is large, 4.68e+04. This might indicate that there are\n",
      "strong multicollinearity or other numerical problems.\n"
     ]
    }
   ],
   "source": [
    "print(model_a.summary())"
   ]
  },
  {
   "cell_type": "code",
   "execution_count": 36,
   "metadata": {},
   "outputs": [
    {
     "data": {
      "text/plain": [
       "Intercept     1.619054e-24\n",
       "GDP_dollar    6.842971e-11\n",
       "dtype: float64"
      ]
     },
     "execution_count": 36,
     "metadata": {},
     "output_type": "execute_result"
    }
   ],
   "source": [
    "model_a.pvalues"
   ]
  },
  {
   "cell_type": "code",
   "execution_count": 37,
   "metadata": {},
   "outputs": [
    {
     "data": {
      "text/plain": [
       "2.8063425659608017"
      ]
     },
     "execution_count": 37,
     "metadata": {},
     "output_type": "execute_result"
    }
   ],
   "source": [
    "model.intercept_ # sklearn"
   ]
  },
  {
   "cell_type": "code",
   "execution_count": 38,
   "metadata": {},
   "outputs": [
    {
     "data": {
      "text/plain": [
       "array([3.91958618e-05])"
      ]
     },
     "execution_count": 38,
     "metadata": {},
     "output_type": "execute_result"
    }
   ],
   "source": [
    "model.coef_"
   ]
  },
  {
   "cell_type": "code",
   "execution_count": 39,
   "metadata": {},
   "outputs": [
    {
     "name": "stdout",
     "output_type": "stream",
     "text": [
      "0.0000392\n"
     ]
    }
   ],
   "source": [
    "print(f'{model.coef_[0]:.7f}')"
   ]
  }
 ],
 "metadata": {
  "kernelspec": {
   "display_name": "Python 3",
   "language": "python",
   "name": "python3"
  },
  "language_info": {
   "codemirror_mode": {
    "name": "ipython",
    "version": 3
   },
   "file_extension": ".py",
   "mimetype": "text/x-python",
   "name": "python",
   "nbconvert_exporter": "python",
   "pygments_lexer": "ipython3",
   "version": "3.8.5"
  }
 },
 "nbformat": 4,
 "nbformat_minor": 4
}
