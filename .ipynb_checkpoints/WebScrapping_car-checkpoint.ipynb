{
 "cells": [
  {
   "cell_type": "markdown",
   "metadata": {},
   "source": [
    "# เก็บข้อมูลรถ 1 คัน\n",
    "\n",
    "Website: https://www.checkraka.com/car/?quicksearch_order=update%2CDESC&page=2"
   ]
  },
  {
   "cell_type": "code",
   "execution_count": null,
   "metadata": {},
   "outputs": [],
   "source": [
    "import bs4\n",
    "import requests"
   ]
  },
  {
   "cell_type": "code",
   "execution_count": null,
   "metadata": {},
   "outputs": [],
   "source": [
    "data = requests.get('https://www.checkraka.com/car/?quicksearch_order=update%2CDESC&page=2')"
   ]
  },
  {
   "cell_type": "code",
   "execution_count": null,
   "metadata": {},
   "outputs": [],
   "source": [
    "soup = bs4.BeautifulSoup(data.text)\n",
    "soup"
   ]
  },
  {
   "cell_type": "code",
   "execution_count": null,
   "metadata": {},
   "outputs": [],
   "source": [
    "car = soup.find('div' , {'class' : 'content c158'})\n",
    "car"
   ]
  },
  {
   "cell_type": "code",
   "execution_count": null,
   "metadata": {
    "scrolled": true
   },
   "outputs": [],
   "source": [
    "name = car.find('div' , {'class' : 'data'})\n",
    "name"
   ]
  },
  {
   "cell_type": "code",
   "execution_count": null,
   "metadata": {},
   "outputs": [],
   "source": [
    "name.find('a')"
   ]
  },
  {
   "cell_type": "code",
   "execution_count": null,
   "metadata": {},
   "outputs": [],
   "source": [
    "name.find('a').text"
   ]
  },
  {
   "cell_type": "code",
   "execution_count": null,
   "metadata": {},
   "outputs": [],
   "source": [
    "car.find('div' , {'class' : 'price'}).text"
   ]
  },
  {
   "cell_type": "code",
   "execution_count": null,
   "metadata": {},
   "outputs": [],
   "source": [
    "car.find('div' , {'class' : 'price'}).text.split()[0]"
   ]
  },
  {
   "cell_type": "code",
   "execution_count": null,
   "metadata": {},
   "outputs": [],
   "source": [
    "car.find('div' , {'class' : 'price'}).text.split()[0].replace(',' , '')"
   ]
  },
  {
   "cell_type": "code",
   "execution_count": null,
   "metadata": {},
   "outputs": [],
   "source": [
    "int(car.find('div' , {'class' : 'price'}).text.split()[0].replace(',' , ''))"
   ]
  },
  {
   "cell_type": "markdown",
   "metadata": {},
   "source": [
    "# เก็บข้อมูลรถ 1 หน้าเว็บ"
   ]
  },
  {
   "cell_type": "code",
   "execution_count": null,
   "metadata": {},
   "outputs": [],
   "source": [
    "soup.find_all('div' , {'class' : 'content c158'})"
   ]
  },
  {
   "cell_type": "code",
   "execution_count": null,
   "metadata": {},
   "outputs": [],
   "source": [
    "for c in soup.find_all('div' , {'class' : 'content c158'}):\n",
    "    print(c.find('div' , {'class' : 'data'}).find('a').text)\n",
    "    print(int(c.find('div' , {'class' : 'price'}).text.split()[0].replace(',' , '')))"
   ]
  },
  {
   "cell_type": "markdown",
   "metadata": {},
   "source": [
    "# เก็บข้อมูลใส่ตาราง"
   ]
  },
  {
   "cell_type": "code",
   "execution_count": null,
   "metadata": {},
   "outputs": [],
   "source": [
    "import pandas as pd\n",
    "name_list = []\n",
    "price_list = []\n",
    "for c in soup.find_all('div' , {'class' : 'content c158'}):\n",
    "    name_list.append(c.find('div' , {'class' : 'data'}).find('a').text)\n",
    "    price_list.append(int(c.find('div' , {'class' : 'price'}).text.split()[0].replace(',' , '')))\n",
    "\n",
    "print(name_list)\n",
    "print()\n",
    "print(price_list)"
   ]
  },
  {
   "cell_type": "code",
   "execution_count": null,
   "metadata": {},
   "outputs": [],
   "source": [
    "table = pd.DataFrame([name_list, price_list]).transpose()\n",
    "table"
   ]
  },
  {
   "cell_type": "code",
   "execution_count": null,
   "metadata": {},
   "outputs": [],
   "source": [
    "table.columns = ['name', 'price']\n",
    "table"
   ]
  },
  {
   "cell_type": "code",
   "execution_count": null,
   "metadata": {},
   "outputs": [],
   "source": [
    "table.set_index('name')"
   ]
  },
  {
   "cell_type": "markdown",
   "metadata": {},
   "source": [
    "# เก็บข้อมูลหลายหน้าเว็บ"
   ]
  },
  {
   "cell_type": "code",
   "execution_count": null,
   "metadata": {
    "scrolled": true
   },
   "outputs": [],
   "source": [
    "import pandas as pd\n",
    "import bs4\n",
    "import requests\n",
    "\n",
    "page = 1\n",
    "name_list = []\n",
    "price_list = []\n",
    "\n",
    "while page <= 110:\n",
    "    link = requests.get('https://www.checkraka.com/car/?quicksearch_order=update%2CDESC&page=' + str(page))\n",
    "    s = bs4.BeautifulSoup(link.text)\n",
    "    for c in soup.find_all('div' , {'class' : 'content c158'}):\n",
    "        name_list.append(c.find('div' , {'class' : 'data'}).find('a').text)\n",
    "        price_list.append(int(c.find('div' , {'class' : 'price'}).text.split()[0].replace(',' , '')))\n",
    "    print('Complete page number: ' ,page)\n",
    "    page += 1\n",
    "    \n",
    "table = pd.DataFrame([name_list, price_list]).transpose()\n",
    "table.columns = ['name', 'price']\n",
    "table.set_index('name')"
   ]
  },
  {
   "cell_type": "code",
   "execution_count": null,
   "metadata": {},
   "outputs": [],
   "source": [
    "table.to_excel('All_cars.xlsx' , engine = 'openpyxl')"
   ]
  },
  {
   "cell_type": "code",
   "execution_count": null,
   "metadata": {},
   "outputs": [],
   "source": []
  },
  {
   "cell_type": "code",
   "execution_count": null,
   "metadata": {},
   "outputs": [],
   "source": []
  },
  {
   "cell_type": "code",
   "execution_count": null,
   "metadata": {},
   "outputs": [],
   "source": []
  },
  {
   "cell_type": "code",
   "execution_count": null,
   "metadata": {},
   "outputs": [],
   "source": []
  }
 ],
 "metadata": {
  "kernelspec": {
   "display_name": "Python 3",
   "language": "python",
   "name": "python3"
  },
  "language_info": {
   "codemirror_mode": {
    "name": "ipython",
    "version": 3
   },
   "file_extension": ".py",
   "mimetype": "text/x-python",
   "name": "python",
   "nbconvert_exporter": "python",
   "pygments_lexer": "ipython3",
   "version": "3.8.5"
  }
 },
 "nbformat": 4,
 "nbformat_minor": 4
}
