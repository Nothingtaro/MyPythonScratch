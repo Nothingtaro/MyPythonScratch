{
 "cells": [
  {
   "cell_type": "code",
   "execution_count": 1,
   "metadata": {},
   "outputs": [],
   "source": [
    "import sqlite3"
   ]
  },
  {
   "cell_type": "code",
   "execution_count": 2,
   "metadata": {},
   "outputs": [],
   "source": [
    "def create_table_demo():\n",
    "    try:\n",
    "        with sqlite3.connect(\"sample.sqlite\") as con:\n",
    "            sql_cmd = \"\"\"\n",
    "            create table medal(\n",
    "                country text primary key,\n",
    "                gold integer,\n",
    "                silver integer,\n",
    "                bronze integer);\n",
    "            \"\"\"\n",
    "            con.execute(sql_cmd)\n",
    "    except Exception as e:\n",
    "        print(\"Error -> {}\".format(e))"
   ]
  },
  {
   "cell_type": "code",
   "execution_count": 3,
   "metadata": {},
   "outputs": [],
   "source": [
    "create_table_demo()"
   ]
  },
  {
   "cell_type": "code",
   "execution_count": 4,
   "metadata": {},
   "outputs": [],
   "source": [
    "def insert_demo():\n",
    "    try:\n",
    "        with sqlite3.connect(\"sample.sqlite\") as con:\n",
    "            sql_cmd = \"\"\"\n",
    "            insert into medal values('usa', 46, 37, 38)\n",
    "            \"\"\"\n",
    "            con.execute(sql_cmd)\n",
    "    except Exception as e:\n",
    "        print(\"Error -> {}\".format(e))"
   ]
  },
  {
   "cell_type": "code",
   "execution_count": 5,
   "metadata": {},
   "outputs": [],
   "source": [
    "insert_demo()"
   ]
  },
  {
   "cell_type": "code",
   "execution_count": 6,
   "metadata": {},
   "outputs": [],
   "source": [
    "def select_demo():\n",
    "    try:\n",
    "        with sqlite3.connect(\"sample.sqlite\") as con:\n",
    "            sql_cmd = \"\"\"\n",
    "            select * from medal\n",
    "            \"\"\"\n",
    "            for row in con.execute(sql_cmd):\n",
    "                print(row)\n",
    "    except Exception as e:\n",
    "        print(\"Error -> {}\".format(e))"
   ]
  },
  {
   "cell_type": "code",
   "execution_count": null,
   "metadata": {},
   "outputs": [],
   "source": []
  }
 ],
 "metadata": {
  "kernelspec": {
   "display_name": "Python 3",
   "language": "python",
   "name": "python3"
  },
  "language_info": {
   "codemirror_mode": {
    "name": "ipython",
    "version": 3
   },
   "file_extension": ".py",
   "mimetype": "text/x-python",
   "name": "python",
   "nbconvert_exporter": "python",
   "pygments_lexer": "ipython3",
   "version": "3.8.5"
  }
 },
 "nbformat": 4,
 "nbformat_minor": 4
}
