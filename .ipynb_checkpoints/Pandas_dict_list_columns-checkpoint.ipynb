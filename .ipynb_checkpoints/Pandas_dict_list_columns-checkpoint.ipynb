{
 "cells": [
  {
   "cell_type": "markdown",
   "metadata": {},
   "source": [
    "## จัดการ columns ที่เก็บค่าเป็น dict และ list "
   ]
  },
  {
   "cell_type": "code",
   "execution_count": 35,
   "metadata": {},
   "outputs": [],
   "source": [
    "import pandas as pd\n",
    "from pandas.io.json import json_normalize\n",
    "import json"
   ]
  },
  {
   "cell_type": "code",
   "execution_count": 3,
   "metadata": {},
   "outputs": [
    {
     "name": "stdout",
     "output_type": "stream",
     "text": [
      "pandas version: 1.1.3\n",
      "json version: 2.0.9\n"
     ]
    }
   ],
   "source": [
    "print(f'pandas version: {pd.__version__}')\n",
    "print(f'json version: {json.__version__}')"
   ]
  },
  {
   "cell_type": "code",
   "execution_count": 6,
   "metadata": {},
   "outputs": [
    {
     "data": {
      "text/html": [
       "<div>\n",
       "<style scoped>\n",
       "    .dataframe tbody tr th:only-of-type {\n",
       "        vertical-align: middle;\n",
       "    }\n",
       "\n",
       "    .dataframe tbody tr th {\n",
       "        vertical-align: top;\n",
       "    }\n",
       "\n",
       "    .dataframe thead th {\n",
       "        text-align: right;\n",
       "    }\n",
       "</style>\n",
       "<table border=\"1\" class=\"dataframe\">\n",
       "  <thead>\n",
       "    <tr style=\"text-align: right;\">\n",
       "      <th></th>\n",
       "      <th>id</th>\n",
       "      <th>name</th>\n",
       "      <th>type</th>\n",
       "      <th>base</th>\n",
       "    </tr>\n",
       "  </thead>\n",
       "  <tbody>\n",
       "    <tr>\n",
       "      <th>0</th>\n",
       "      <td>1</td>\n",
       "      <td>{'english': 'Bulbasaur', 'japanese': 'フシギダネ', ...</td>\n",
       "      <td>[Grass, Poison]</td>\n",
       "      <td>{'HP': 45, 'Attack': 49, 'Defense': 49, 'Sp. A...</td>\n",
       "    </tr>\n",
       "    <tr>\n",
       "      <th>1</th>\n",
       "      <td>2</td>\n",
       "      <td>{'english': 'Ivysaur', 'japanese': 'フシギソウ', 'c...</td>\n",
       "      <td>[Grass, Poison]</td>\n",
       "      <td>{'HP': 60, 'Attack': 62, 'Defense': 63, 'Sp. A...</td>\n",
       "    </tr>\n",
       "    <tr>\n",
       "      <th>2</th>\n",
       "      <td>3</td>\n",
       "      <td>{'english': 'Venusaur', 'japanese': 'フシギバナ', '...</td>\n",
       "      <td>[Grass, Poison]</td>\n",
       "      <td>{'HP': 80, 'Attack': 82, 'Defense': 83, 'Sp. A...</td>\n",
       "    </tr>\n",
       "    <tr>\n",
       "      <th>3</th>\n",
       "      <td>4</td>\n",
       "      <td>{'english': 'Charmander', 'japanese': 'ヒトカゲ', ...</td>\n",
       "      <td>[Fire]</td>\n",
       "      <td>{'HP': 39, 'Attack': 52, 'Defense': 43, 'Sp. A...</td>\n",
       "    </tr>\n",
       "    <tr>\n",
       "      <th>4</th>\n",
       "      <td>5</td>\n",
       "      <td>{'english': 'Charmeleon', 'japanese': 'リザード', ...</td>\n",
       "      <td>[Fire]</td>\n",
       "      <td>{'HP': 58, 'Attack': 64, 'Defense': 58, 'Sp. A...</td>\n",
       "    </tr>\n",
       "  </tbody>\n",
       "</table>\n",
       "</div>"
      ],
      "text/plain": [
       "   id                                               name             type  \\\n",
       "0   1  {'english': 'Bulbasaur', 'japanese': 'フシギダネ', ...  [Grass, Poison]   \n",
       "1   2  {'english': 'Ivysaur', 'japanese': 'フシギソウ', 'c...  [Grass, Poison]   \n",
       "2   3  {'english': 'Venusaur', 'japanese': 'フシギバナ', '...  [Grass, Poison]   \n",
       "3   4  {'english': 'Charmander', 'japanese': 'ヒトカゲ', ...           [Fire]   \n",
       "4   5  {'english': 'Charmeleon', 'japanese': 'リザード', ...           [Fire]   \n",
       "\n",
       "                                                base  \n",
       "0  {'HP': 45, 'Attack': 49, 'Defense': 49, 'Sp. A...  \n",
       "1  {'HP': 60, 'Attack': 62, 'Defense': 63, 'Sp. A...  \n",
       "2  {'HP': 80, 'Attack': 82, 'Defense': 83, 'Sp. A...  \n",
       "3  {'HP': 39, 'Attack': 52, 'Defense': 43, 'Sp. A...  \n",
       "4  {'HP': 58, 'Attack': 64, 'Defense': 58, 'Sp. A...  "
      ]
     },
     "execution_count": 6,
     "metadata": {},
     "output_type": "execute_result"
    }
   ],
   "source": [
    "url = 'https://github.com/prasertcbs/basic-dataset/raw/master/pokemon/pokedex_5_samples.json'\n",
    "df = pd.read_json(url, orient='records')\n",
    "df.head()"
   ]
  },
  {
   "cell_type": "code",
   "execution_count": 7,
   "metadata": {},
   "outputs": [
    {
     "data": {
      "text/plain": [
       "{'english': 'Bulbasaur',\n",
       " 'japanese': 'フシギダネ',\n",
       " 'chinese': '妙蛙种子',\n",
       " 'french': 'Bulbizarre'}"
      ]
     },
     "execution_count": 7,
     "metadata": {},
     "output_type": "execute_result"
    }
   ],
   "source": [
    "df['name'][0]"
   ]
  },
  {
   "cell_type": "code",
   "execution_count": 8,
   "metadata": {},
   "outputs": [
    {
     "data": {
      "text/plain": [
       "dict"
      ]
     },
     "execution_count": 8,
     "metadata": {},
     "output_type": "execute_result"
    }
   ],
   "source": [
    "type(df['name'][0])"
   ]
  },
  {
   "cell_type": "code",
   "execution_count": 9,
   "metadata": {},
   "outputs": [
    {
     "data": {
      "text/plain": [
       "['Grass', 'Poison']"
      ]
     },
     "execution_count": 9,
     "metadata": {},
     "output_type": "execute_result"
    }
   ],
   "source": [
    "df['type'][0]"
   ]
  },
  {
   "cell_type": "code",
   "execution_count": 10,
   "metadata": {},
   "outputs": [
    {
     "data": {
      "text/plain": [
       "list"
      ]
     },
     "execution_count": 10,
     "metadata": {},
     "output_type": "execute_result"
    }
   ],
   "source": [
    "type(df['type'][0])"
   ]
  },
  {
   "cell_type": "code",
   "execution_count": 11,
   "metadata": {
    "scrolled": true
   },
   "outputs": [
    {
     "data": {
      "text/plain": [
       "'Bulbasaur'"
      ]
     },
     "execution_count": 11,
     "metadata": {},
     "output_type": "execute_result"
    }
   ],
   "source": [
    "df['name'][0]['english']"
   ]
  },
  {
   "cell_type": "code",
   "execution_count": 12,
   "metadata": {},
   "outputs": [
    {
     "data": {
      "text/plain": [
       "'フシギダネ'"
      ]
     },
     "execution_count": 12,
     "metadata": {},
     "output_type": "execute_result"
    }
   ],
   "source": [
    "df['name'][0]['japanese']"
   ]
  },
  {
   "cell_type": "code",
   "execution_count": 13,
   "metadata": {
    "scrolled": true
   },
   "outputs": [
    {
     "data": {
      "text/plain": [
       "'Ivysaur'"
      ]
     },
     "execution_count": 13,
     "metadata": {},
     "output_type": "execute_result"
    }
   ],
   "source": [
    "df['name'][1]['english']"
   ]
  },
  {
   "cell_type": "code",
   "execution_count": 14,
   "metadata": {},
   "outputs": [
    {
     "data": {
      "text/html": [
       "<div>\n",
       "<style scoped>\n",
       "    .dataframe tbody tr th:only-of-type {\n",
       "        vertical-align: middle;\n",
       "    }\n",
       "\n",
       "    .dataframe tbody tr th {\n",
       "        vertical-align: top;\n",
       "    }\n",
       "\n",
       "    .dataframe thead th {\n",
       "        text-align: right;\n",
       "    }\n",
       "</style>\n",
       "<table border=\"1\" class=\"dataframe\">\n",
       "  <thead>\n",
       "    <tr style=\"text-align: right;\">\n",
       "      <th></th>\n",
       "      <th>id</th>\n",
       "      <th>name</th>\n",
       "      <th>type</th>\n",
       "      <th>base</th>\n",
       "    </tr>\n",
       "  </thead>\n",
       "  <tbody>\n",
       "    <tr>\n",
       "      <th>0</th>\n",
       "      <td>1</td>\n",
       "      <td>{'english': 'Bulbasaur', 'japanese': 'フシギダネ', ...</td>\n",
       "      <td>[Grass, Poison]</td>\n",
       "      <td>{'HP': 45, 'Attack': 49, 'Defense': 49, 'Sp. A...</td>\n",
       "    </tr>\n",
       "    <tr>\n",
       "      <th>1</th>\n",
       "      <td>2</td>\n",
       "      <td>{'english': 'Ivysaur', 'japanese': 'フシギソウ', 'c...</td>\n",
       "      <td>[Grass, Poison]</td>\n",
       "      <td>{'HP': 60, 'Attack': 62, 'Defense': 63, 'Sp. A...</td>\n",
       "    </tr>\n",
       "    <tr>\n",
       "      <th>2</th>\n",
       "      <td>3</td>\n",
       "      <td>{'english': 'Venusaur', 'japanese': 'フシギバナ', '...</td>\n",
       "      <td>[Grass, Poison]</td>\n",
       "      <td>{'HP': 80, 'Attack': 82, 'Defense': 83, 'Sp. A...</td>\n",
       "    </tr>\n",
       "    <tr>\n",
       "      <th>3</th>\n",
       "      <td>4</td>\n",
       "      <td>{'english': 'Charmander', 'japanese': 'ヒトカゲ', ...</td>\n",
       "      <td>[Fire]</td>\n",
       "      <td>{'HP': 39, 'Attack': 52, 'Defense': 43, 'Sp. A...</td>\n",
       "    </tr>\n",
       "    <tr>\n",
       "      <th>4</th>\n",
       "      <td>5</td>\n",
       "      <td>{'english': 'Charmeleon', 'japanese': 'リザード', ...</td>\n",
       "      <td>[Fire]</td>\n",
       "      <td>{'HP': 58, 'Attack': 64, 'Defense': 58, 'Sp. A...</td>\n",
       "    </tr>\n",
       "  </tbody>\n",
       "</table>\n",
       "</div>"
      ],
      "text/plain": [
       "   id                                               name             type  \\\n",
       "0   1  {'english': 'Bulbasaur', 'japanese': 'フシギダネ', ...  [Grass, Poison]   \n",
       "1   2  {'english': 'Ivysaur', 'japanese': 'フシギソウ', 'c...  [Grass, Poison]   \n",
       "2   3  {'english': 'Venusaur', 'japanese': 'フシギバナ', '...  [Grass, Poison]   \n",
       "3   4  {'english': 'Charmander', 'japanese': 'ヒトカゲ', ...           [Fire]   \n",
       "4   5  {'english': 'Charmeleon', 'japanese': 'リザード', ...           [Fire]   \n",
       "\n",
       "                                                base  \n",
       "0  {'HP': 45, 'Attack': 49, 'Defense': 49, 'Sp. A...  \n",
       "1  {'HP': 60, 'Attack': 62, 'Defense': 63, 'Sp. A...  \n",
       "2  {'HP': 80, 'Attack': 82, 'Defense': 83, 'Sp. A...  \n",
       "3  {'HP': 39, 'Attack': 52, 'Defense': 43, 'Sp. A...  \n",
       "4  {'HP': 58, 'Attack': 64, 'Defense': 58, 'Sp. A...  "
      ]
     },
     "execution_count": 14,
     "metadata": {},
     "output_type": "execute_result"
    }
   ],
   "source": [
    "df"
   ]
  },
  {
   "cell_type": "code",
   "execution_count": 15,
   "metadata": {},
   "outputs": [
    {
     "data": {
      "text/plain": [
       "0     Bulbasaur\n",
       "1       Ivysaur\n",
       "2      Venusaur\n",
       "3    Charmander\n",
       "4    Charmeleon\n",
       "Name: name, dtype: object"
      ]
     },
     "execution_count": 15,
     "metadata": {},
     "output_type": "execute_result"
    }
   ],
   "source": [
    "df['name'].apply(lambda v: v['english'])"
   ]
  },
  {
   "cell_type": "code",
   "execution_count": 16,
   "metadata": {},
   "outputs": [
    {
     "data": {
      "text/html": [
       "<div>\n",
       "<style scoped>\n",
       "    .dataframe tbody tr th:only-of-type {\n",
       "        vertical-align: middle;\n",
       "    }\n",
       "\n",
       "    .dataframe tbody tr th {\n",
       "        vertical-align: top;\n",
       "    }\n",
       "\n",
       "    .dataframe thead th {\n",
       "        text-align: right;\n",
       "    }\n",
       "</style>\n",
       "<table border=\"1\" class=\"dataframe\">\n",
       "  <thead>\n",
       "    <tr style=\"text-align: right;\">\n",
       "      <th></th>\n",
       "      <th>id</th>\n",
       "      <th>name</th>\n",
       "      <th>type</th>\n",
       "      <th>base</th>\n",
       "      <th>name_en</th>\n",
       "    </tr>\n",
       "  </thead>\n",
       "  <tbody>\n",
       "    <tr>\n",
       "      <th>0</th>\n",
       "      <td>1</td>\n",
       "      <td>{'english': 'Bulbasaur', 'japanese': 'フシギダネ', ...</td>\n",
       "      <td>[Grass, Poison]</td>\n",
       "      <td>{'HP': 45, 'Attack': 49, 'Defense': 49, 'Sp. A...</td>\n",
       "      <td>Bulbasaur</td>\n",
       "    </tr>\n",
       "    <tr>\n",
       "      <th>1</th>\n",
       "      <td>2</td>\n",
       "      <td>{'english': 'Ivysaur', 'japanese': 'フシギソウ', 'c...</td>\n",
       "      <td>[Grass, Poison]</td>\n",
       "      <td>{'HP': 60, 'Attack': 62, 'Defense': 63, 'Sp. A...</td>\n",
       "      <td>Ivysaur</td>\n",
       "    </tr>\n",
       "    <tr>\n",
       "      <th>2</th>\n",
       "      <td>3</td>\n",
       "      <td>{'english': 'Venusaur', 'japanese': 'フシギバナ', '...</td>\n",
       "      <td>[Grass, Poison]</td>\n",
       "      <td>{'HP': 80, 'Attack': 82, 'Defense': 83, 'Sp. A...</td>\n",
       "      <td>Venusaur</td>\n",
       "    </tr>\n",
       "    <tr>\n",
       "      <th>3</th>\n",
       "      <td>4</td>\n",
       "      <td>{'english': 'Charmander', 'japanese': 'ヒトカゲ', ...</td>\n",
       "      <td>[Fire]</td>\n",
       "      <td>{'HP': 39, 'Attack': 52, 'Defense': 43, 'Sp. A...</td>\n",
       "      <td>Charmander</td>\n",
       "    </tr>\n",
       "    <tr>\n",
       "      <th>4</th>\n",
       "      <td>5</td>\n",
       "      <td>{'english': 'Charmeleon', 'japanese': 'リザード', ...</td>\n",
       "      <td>[Fire]</td>\n",
       "      <td>{'HP': 58, 'Attack': 64, 'Defense': 58, 'Sp. A...</td>\n",
       "      <td>Charmeleon</td>\n",
       "    </tr>\n",
       "  </tbody>\n",
       "</table>\n",
       "</div>"
      ],
      "text/plain": [
       "   id                                               name             type  \\\n",
       "0   1  {'english': 'Bulbasaur', 'japanese': 'フシギダネ', ...  [Grass, Poison]   \n",
       "1   2  {'english': 'Ivysaur', 'japanese': 'フシギソウ', 'c...  [Grass, Poison]   \n",
       "2   3  {'english': 'Venusaur', 'japanese': 'フシギバナ', '...  [Grass, Poison]   \n",
       "3   4  {'english': 'Charmander', 'japanese': 'ヒトカゲ', ...           [Fire]   \n",
       "4   5  {'english': 'Charmeleon', 'japanese': 'リザード', ...           [Fire]   \n",
       "\n",
       "                                                base     name_en  \n",
       "0  {'HP': 45, 'Attack': 49, 'Defense': 49, 'Sp. A...   Bulbasaur  \n",
       "1  {'HP': 60, 'Attack': 62, 'Defense': 63, 'Sp. A...     Ivysaur  \n",
       "2  {'HP': 80, 'Attack': 82, 'Defense': 83, 'Sp. A...    Venusaur  \n",
       "3  {'HP': 39, 'Attack': 52, 'Defense': 43, 'Sp. A...  Charmander  \n",
       "4  {'HP': 58, 'Attack': 64, 'Defense': 58, 'Sp. A...  Charmeleon  "
      ]
     },
     "execution_count": 16,
     "metadata": {},
     "output_type": "execute_result"
    }
   ],
   "source": [
    "df['name_en'] = df['name'].apply(lambda v: v['english'])\n",
    "df"
   ]
  },
  {
   "cell_type": "code",
   "execution_count": 19,
   "metadata": {},
   "outputs": [
    {
     "data": {
      "text/plain": [
       "0    Bulbasaur (フシギダネ)\n",
       "1      Ivysaur (フシギソウ)\n",
       "2     Venusaur (フシギバナ)\n",
       "3    Charmander (ヒトカゲ)\n",
       "4    Charmeleon (リザード)\n",
       "Name: name, dtype: object"
      ]
     },
     "execution_count": 19,
     "metadata": {},
     "output_type": "execute_result"
    }
   ],
   "source": [
    "df['name'].apply(lambda v: f\"{v['english']} ({v['japanese']})\")"
   ]
  },
  {
   "cell_type": "code",
   "execution_count": 20,
   "metadata": {
    "scrolled": true
   },
   "outputs": [
    {
     "data": {
      "text/html": [
       "<div>\n",
       "<style scoped>\n",
       "    .dataframe tbody tr th:only-of-type {\n",
       "        vertical-align: middle;\n",
       "    }\n",
       "\n",
       "    .dataframe tbody tr th {\n",
       "        vertical-align: top;\n",
       "    }\n",
       "\n",
       "    .dataframe thead th {\n",
       "        text-align: right;\n",
       "    }\n",
       "</style>\n",
       "<table border=\"1\" class=\"dataframe\">\n",
       "  <thead>\n",
       "    <tr style=\"text-align: right;\">\n",
       "      <th></th>\n",
       "      <th>id</th>\n",
       "      <th>name</th>\n",
       "      <th>type</th>\n",
       "      <th>base</th>\n",
       "      <th>name_en</th>\n",
       "      <th>pokemon</th>\n",
       "    </tr>\n",
       "  </thead>\n",
       "  <tbody>\n",
       "    <tr>\n",
       "      <th>0</th>\n",
       "      <td>1</td>\n",
       "      <td>{'english': 'Bulbasaur', 'japanese': 'フシギダネ', ...</td>\n",
       "      <td>[Grass, Poison]</td>\n",
       "      <td>{'HP': 45, 'Attack': 49, 'Defense': 49, 'Sp. A...</td>\n",
       "      <td>Bulbasaur</td>\n",
       "      <td>Bulbasaur (フシギダネ)</td>\n",
       "    </tr>\n",
       "    <tr>\n",
       "      <th>1</th>\n",
       "      <td>2</td>\n",
       "      <td>{'english': 'Ivysaur', 'japanese': 'フシギソウ', 'c...</td>\n",
       "      <td>[Grass, Poison]</td>\n",
       "      <td>{'HP': 60, 'Attack': 62, 'Defense': 63, 'Sp. A...</td>\n",
       "      <td>Ivysaur</td>\n",
       "      <td>Ivysaur (フシギソウ)</td>\n",
       "    </tr>\n",
       "    <tr>\n",
       "      <th>2</th>\n",
       "      <td>3</td>\n",
       "      <td>{'english': 'Venusaur', 'japanese': 'フシギバナ', '...</td>\n",
       "      <td>[Grass, Poison]</td>\n",
       "      <td>{'HP': 80, 'Attack': 82, 'Defense': 83, 'Sp. A...</td>\n",
       "      <td>Venusaur</td>\n",
       "      <td>Venusaur (フシギバナ)</td>\n",
       "    </tr>\n",
       "    <tr>\n",
       "      <th>3</th>\n",
       "      <td>4</td>\n",
       "      <td>{'english': 'Charmander', 'japanese': 'ヒトカゲ', ...</td>\n",
       "      <td>[Fire]</td>\n",
       "      <td>{'HP': 39, 'Attack': 52, 'Defense': 43, 'Sp. A...</td>\n",
       "      <td>Charmander</td>\n",
       "      <td>Charmander (ヒトカゲ)</td>\n",
       "    </tr>\n",
       "    <tr>\n",
       "      <th>4</th>\n",
       "      <td>5</td>\n",
       "      <td>{'english': 'Charmeleon', 'japanese': 'リザード', ...</td>\n",
       "      <td>[Fire]</td>\n",
       "      <td>{'HP': 58, 'Attack': 64, 'Defense': 58, 'Sp. A...</td>\n",
       "      <td>Charmeleon</td>\n",
       "      <td>Charmeleon (リザード)</td>\n",
       "    </tr>\n",
       "  </tbody>\n",
       "</table>\n",
       "</div>"
      ],
      "text/plain": [
       "   id                                               name             type  \\\n",
       "0   1  {'english': 'Bulbasaur', 'japanese': 'フシギダネ', ...  [Grass, Poison]   \n",
       "1   2  {'english': 'Ivysaur', 'japanese': 'フシギソウ', 'c...  [Grass, Poison]   \n",
       "2   3  {'english': 'Venusaur', 'japanese': 'フシギバナ', '...  [Grass, Poison]   \n",
       "3   4  {'english': 'Charmander', 'japanese': 'ヒトカゲ', ...           [Fire]   \n",
       "4   5  {'english': 'Charmeleon', 'japanese': 'リザード', ...           [Fire]   \n",
       "\n",
       "                                                base     name_en  \\\n",
       "0  {'HP': 45, 'Attack': 49, 'Defense': 49, 'Sp. A...   Bulbasaur   \n",
       "1  {'HP': 60, 'Attack': 62, 'Defense': 63, 'Sp. A...     Ivysaur   \n",
       "2  {'HP': 80, 'Attack': 82, 'Defense': 83, 'Sp. A...    Venusaur   \n",
       "3  {'HP': 39, 'Attack': 52, 'Defense': 43, 'Sp. A...  Charmander   \n",
       "4  {'HP': 58, 'Attack': 64, 'Defense': 58, 'Sp. A...  Charmeleon   \n",
       "\n",
       "             pokemon  \n",
       "0  Bulbasaur (フシギダネ)  \n",
       "1    Ivysaur (フシギソウ)  \n",
       "2   Venusaur (フシギバナ)  \n",
       "3  Charmander (ヒトカゲ)  \n",
       "4  Charmeleon (リザード)  "
      ]
     },
     "execution_count": 20,
     "metadata": {},
     "output_type": "execute_result"
    }
   ],
   "source": [
    "df['pokemon'] = df['name'].apply(lambda v: f\"{v['english']} ({v['japanese']})\")\n",
    "df"
   ]
  },
  {
   "cell_type": "code",
   "execution_count": 21,
   "metadata": {},
   "outputs": [
    {
     "data": {
      "text/plain": [
       "0    45\n",
       "1    60\n",
       "2    80\n",
       "3    39\n",
       "4    58\n",
       "Name: base, dtype: int64"
      ]
     },
     "execution_count": 21,
     "metadata": {},
     "output_type": "execute_result"
    }
   ],
   "source": [
    "df['base'].apply(lambda v: v['HP'])"
   ]
  },
  {
   "cell_type": "code",
   "execution_count": 22,
   "metadata": {},
   "outputs": [
    {
     "data": {
      "text/html": [
       "<div>\n",
       "<style scoped>\n",
       "    .dataframe tbody tr th:only-of-type {\n",
       "        vertical-align: middle;\n",
       "    }\n",
       "\n",
       "    .dataframe tbody tr th {\n",
       "        vertical-align: top;\n",
       "    }\n",
       "\n",
       "    .dataframe thead th {\n",
       "        text-align: right;\n",
       "    }\n",
       "</style>\n",
       "<table border=\"1\" class=\"dataframe\">\n",
       "  <thead>\n",
       "    <tr style=\"text-align: right;\">\n",
       "      <th></th>\n",
       "      <th>id</th>\n",
       "      <th>name</th>\n",
       "      <th>type</th>\n",
       "      <th>base</th>\n",
       "      <th>name_en</th>\n",
       "      <th>pokemon</th>\n",
       "      <th>HP</th>\n",
       "    </tr>\n",
       "  </thead>\n",
       "  <tbody>\n",
       "    <tr>\n",
       "      <th>0</th>\n",
       "      <td>1</td>\n",
       "      <td>{'english': 'Bulbasaur', 'japanese': 'フシギダネ', ...</td>\n",
       "      <td>[Grass, Poison]</td>\n",
       "      <td>{'HP': 45, 'Attack': 49, 'Defense': 49, 'Sp. A...</td>\n",
       "      <td>Bulbasaur</td>\n",
       "      <td>Bulbasaur (フシギダネ)</td>\n",
       "      <td>45</td>\n",
       "    </tr>\n",
       "    <tr>\n",
       "      <th>1</th>\n",
       "      <td>2</td>\n",
       "      <td>{'english': 'Ivysaur', 'japanese': 'フシギソウ', 'c...</td>\n",
       "      <td>[Grass, Poison]</td>\n",
       "      <td>{'HP': 60, 'Attack': 62, 'Defense': 63, 'Sp. A...</td>\n",
       "      <td>Ivysaur</td>\n",
       "      <td>Ivysaur (フシギソウ)</td>\n",
       "      <td>60</td>\n",
       "    </tr>\n",
       "    <tr>\n",
       "      <th>2</th>\n",
       "      <td>3</td>\n",
       "      <td>{'english': 'Venusaur', 'japanese': 'フシギバナ', '...</td>\n",
       "      <td>[Grass, Poison]</td>\n",
       "      <td>{'HP': 80, 'Attack': 82, 'Defense': 83, 'Sp. A...</td>\n",
       "      <td>Venusaur</td>\n",
       "      <td>Venusaur (フシギバナ)</td>\n",
       "      <td>80</td>\n",
       "    </tr>\n",
       "    <tr>\n",
       "      <th>3</th>\n",
       "      <td>4</td>\n",
       "      <td>{'english': 'Charmander', 'japanese': 'ヒトカゲ', ...</td>\n",
       "      <td>[Fire]</td>\n",
       "      <td>{'HP': 39, 'Attack': 52, 'Defense': 43, 'Sp. A...</td>\n",
       "      <td>Charmander</td>\n",
       "      <td>Charmander (ヒトカゲ)</td>\n",
       "      <td>39</td>\n",
       "    </tr>\n",
       "    <tr>\n",
       "      <th>4</th>\n",
       "      <td>5</td>\n",
       "      <td>{'english': 'Charmeleon', 'japanese': 'リザード', ...</td>\n",
       "      <td>[Fire]</td>\n",
       "      <td>{'HP': 58, 'Attack': 64, 'Defense': 58, 'Sp. A...</td>\n",
       "      <td>Charmeleon</td>\n",
       "      <td>Charmeleon (リザード)</td>\n",
       "      <td>58</td>\n",
       "    </tr>\n",
       "  </tbody>\n",
       "</table>\n",
       "</div>"
      ],
      "text/plain": [
       "   id                                               name             type  \\\n",
       "0   1  {'english': 'Bulbasaur', 'japanese': 'フシギダネ', ...  [Grass, Poison]   \n",
       "1   2  {'english': 'Ivysaur', 'japanese': 'フシギソウ', 'c...  [Grass, Poison]   \n",
       "2   3  {'english': 'Venusaur', 'japanese': 'フシギバナ', '...  [Grass, Poison]   \n",
       "3   4  {'english': 'Charmander', 'japanese': 'ヒトカゲ', ...           [Fire]   \n",
       "4   5  {'english': 'Charmeleon', 'japanese': 'リザード', ...           [Fire]   \n",
       "\n",
       "                                                base     name_en  \\\n",
       "0  {'HP': 45, 'Attack': 49, 'Defense': 49, 'Sp. A...   Bulbasaur   \n",
       "1  {'HP': 60, 'Attack': 62, 'Defense': 63, 'Sp. A...     Ivysaur   \n",
       "2  {'HP': 80, 'Attack': 82, 'Defense': 83, 'Sp. A...    Venusaur   \n",
       "3  {'HP': 39, 'Attack': 52, 'Defense': 43, 'Sp. A...  Charmander   \n",
       "4  {'HP': 58, 'Attack': 64, 'Defense': 58, 'Sp. A...  Charmeleon   \n",
       "\n",
       "             pokemon  HP  \n",
       "0  Bulbasaur (フシギダネ)  45  \n",
       "1    Ivysaur (フシギソウ)  60  \n",
       "2   Venusaur (フシギバナ)  80  \n",
       "3  Charmander (ヒトカゲ)  39  \n",
       "4  Charmeleon (リザード)  58  "
      ]
     },
     "execution_count": 22,
     "metadata": {},
     "output_type": "execute_result"
    }
   ],
   "source": [
    "df['HP'] = df['base'].apply(lambda v: v['HP'])\n",
    "df"
   ]
  },
  {
   "cell_type": "code",
   "execution_count": 25,
   "metadata": {},
   "outputs": [
    {
     "data": {
      "text/plain": [
       "0    [Grass, Poison]\n",
       "1    [Grass, Poison]\n",
       "2    [Grass, Poison]\n",
       "3             [Fire]\n",
       "4             [Fire]\n",
       "Name: type, dtype: object"
      ]
     },
     "execution_count": 25,
     "metadata": {},
     "output_type": "execute_result"
    }
   ],
   "source": [
    "df['type']"
   ]
  },
  {
   "cell_type": "code",
   "execution_count": 26,
   "metadata": {},
   "outputs": [
    {
     "data": {
      "text/plain": [
       "['Grass', 'Poison']"
      ]
     },
     "execution_count": 26,
     "metadata": {},
     "output_type": "execute_result"
    }
   ],
   "source": [
    "df['type'][0]"
   ]
  },
  {
   "cell_type": "code",
   "execution_count": 28,
   "metadata": {},
   "outputs": [
    {
     "data": {
      "text/plain": [
       "'Grass'"
      ]
     },
     "execution_count": 28,
     "metadata": {},
     "output_type": "execute_result"
    }
   ],
   "source": [
    "df['type'][0][0]"
   ]
  },
  {
   "cell_type": "code",
   "execution_count": 29,
   "metadata": {},
   "outputs": [
    {
     "data": {
      "text/plain": [
       "'Poison'"
      ]
     },
     "execution_count": 29,
     "metadata": {},
     "output_type": "execute_result"
    }
   ],
   "source": [
    "df['type'][0][1]"
   ]
  },
  {
   "cell_type": "code",
   "execution_count": 27,
   "metadata": {
    "scrolled": true
   },
   "outputs": [
    {
     "data": {
      "text/plain": [
       "['Fire']"
      ]
     },
     "execution_count": 27,
     "metadata": {},
     "output_type": "execute_result"
    }
   ],
   "source": [
    "df['type'][3]"
   ]
  },
  {
   "cell_type": "code",
   "execution_count": 30,
   "metadata": {},
   "outputs": [
    {
     "data": {
      "text/plain": [
       "0    Grass\n",
       "1    Grass\n",
       "2    Grass\n",
       "3     Fire\n",
       "4     Fire\n",
       "Name: type, dtype: object"
      ]
     },
     "execution_count": 30,
     "metadata": {},
     "output_type": "execute_result"
    }
   ],
   "source": [
    "df['type'].apply(lambda v: v[0])"
   ]
  },
  {
   "cell_type": "code",
   "execution_count": 31,
   "metadata": {
    "scrolled": false
   },
   "outputs": [
    {
     "data": {
      "text/html": [
       "<div>\n",
       "<style scoped>\n",
       "    .dataframe tbody tr th:only-of-type {\n",
       "        vertical-align: middle;\n",
       "    }\n",
       "\n",
       "    .dataframe tbody tr th {\n",
       "        vertical-align: top;\n",
       "    }\n",
       "\n",
       "    .dataframe thead th {\n",
       "        text-align: right;\n",
       "    }\n",
       "</style>\n",
       "<table border=\"1\" class=\"dataframe\">\n",
       "  <thead>\n",
       "    <tr style=\"text-align: right;\">\n",
       "      <th></th>\n",
       "      <th>id</th>\n",
       "      <th>name</th>\n",
       "      <th>type</th>\n",
       "      <th>base</th>\n",
       "      <th>name_en</th>\n",
       "      <th>pokemon</th>\n",
       "      <th>HP</th>\n",
       "      <th>main_type</th>\n",
       "    </tr>\n",
       "  </thead>\n",
       "  <tbody>\n",
       "    <tr>\n",
       "      <th>0</th>\n",
       "      <td>1</td>\n",
       "      <td>{'english': 'Bulbasaur', 'japanese': 'フシギダネ', ...</td>\n",
       "      <td>[Grass, Poison]</td>\n",
       "      <td>{'HP': 45, 'Attack': 49, 'Defense': 49, 'Sp. A...</td>\n",
       "      <td>Bulbasaur</td>\n",
       "      <td>Bulbasaur (フシギダネ)</td>\n",
       "      <td>45</td>\n",
       "      <td>Grass</td>\n",
       "    </tr>\n",
       "    <tr>\n",
       "      <th>1</th>\n",
       "      <td>2</td>\n",
       "      <td>{'english': 'Ivysaur', 'japanese': 'フシギソウ', 'c...</td>\n",
       "      <td>[Grass, Poison]</td>\n",
       "      <td>{'HP': 60, 'Attack': 62, 'Defense': 63, 'Sp. A...</td>\n",
       "      <td>Ivysaur</td>\n",
       "      <td>Ivysaur (フシギソウ)</td>\n",
       "      <td>60</td>\n",
       "      <td>Grass</td>\n",
       "    </tr>\n",
       "    <tr>\n",
       "      <th>2</th>\n",
       "      <td>3</td>\n",
       "      <td>{'english': 'Venusaur', 'japanese': 'フシギバナ', '...</td>\n",
       "      <td>[Grass, Poison]</td>\n",
       "      <td>{'HP': 80, 'Attack': 82, 'Defense': 83, 'Sp. A...</td>\n",
       "      <td>Venusaur</td>\n",
       "      <td>Venusaur (フシギバナ)</td>\n",
       "      <td>80</td>\n",
       "      <td>Grass</td>\n",
       "    </tr>\n",
       "    <tr>\n",
       "      <th>3</th>\n",
       "      <td>4</td>\n",
       "      <td>{'english': 'Charmander', 'japanese': 'ヒトカゲ', ...</td>\n",
       "      <td>[Fire]</td>\n",
       "      <td>{'HP': 39, 'Attack': 52, 'Defense': 43, 'Sp. A...</td>\n",
       "      <td>Charmander</td>\n",
       "      <td>Charmander (ヒトカゲ)</td>\n",
       "      <td>39</td>\n",
       "      <td>Fire</td>\n",
       "    </tr>\n",
       "    <tr>\n",
       "      <th>4</th>\n",
       "      <td>5</td>\n",
       "      <td>{'english': 'Charmeleon', 'japanese': 'リザード', ...</td>\n",
       "      <td>[Fire]</td>\n",
       "      <td>{'HP': 58, 'Attack': 64, 'Defense': 58, 'Sp. A...</td>\n",
       "      <td>Charmeleon</td>\n",
       "      <td>Charmeleon (リザード)</td>\n",
       "      <td>58</td>\n",
       "      <td>Fire</td>\n",
       "    </tr>\n",
       "  </tbody>\n",
       "</table>\n",
       "</div>"
      ],
      "text/plain": [
       "   id                                               name             type  \\\n",
       "0   1  {'english': 'Bulbasaur', 'japanese': 'フシギダネ', ...  [Grass, Poison]   \n",
       "1   2  {'english': 'Ivysaur', 'japanese': 'フシギソウ', 'c...  [Grass, Poison]   \n",
       "2   3  {'english': 'Venusaur', 'japanese': 'フシギバナ', '...  [Grass, Poison]   \n",
       "3   4  {'english': 'Charmander', 'japanese': 'ヒトカゲ', ...           [Fire]   \n",
       "4   5  {'english': 'Charmeleon', 'japanese': 'リザード', ...           [Fire]   \n",
       "\n",
       "                                                base     name_en  \\\n",
       "0  {'HP': 45, 'Attack': 49, 'Defense': 49, 'Sp. A...   Bulbasaur   \n",
       "1  {'HP': 60, 'Attack': 62, 'Defense': 63, 'Sp. A...     Ivysaur   \n",
       "2  {'HP': 80, 'Attack': 82, 'Defense': 83, 'Sp. A...    Venusaur   \n",
       "3  {'HP': 39, 'Attack': 52, 'Defense': 43, 'Sp. A...  Charmander   \n",
       "4  {'HP': 58, 'Attack': 64, 'Defense': 58, 'Sp. A...  Charmeleon   \n",
       "\n",
       "             pokemon  HP main_type  \n",
       "0  Bulbasaur (フシギダネ)  45     Grass  \n",
       "1    Ivysaur (フシギソウ)  60     Grass  \n",
       "2   Venusaur (フシギバナ)  80     Grass  \n",
       "3  Charmander (ヒトカゲ)  39      Fire  \n",
       "4  Charmeleon (リザード)  58      Fire  "
      ]
     },
     "execution_count": 31,
     "metadata": {},
     "output_type": "execute_result"
    }
   ],
   "source": [
    "df['main_type'] = df['type'].apply(lambda v: v[0])\n",
    "df"
   ]
  },
  {
   "cell_type": "markdown",
   "metadata": {},
   "source": [
    "---"
   ]
  },
  {
   "cell_type": "code",
   "execution_count": 33,
   "metadata": {},
   "outputs": [
    {
     "data": {
      "text/html": [
       "<div>\n",
       "<style scoped>\n",
       "    .dataframe tbody tr th:only-of-type {\n",
       "        vertical-align: middle;\n",
       "    }\n",
       "\n",
       "    .dataframe tbody tr th {\n",
       "        vertical-align: top;\n",
       "    }\n",
       "\n",
       "    .dataframe thead th {\n",
       "        text-align: right;\n",
       "    }\n",
       "</style>\n",
       "<table border=\"1\" class=\"dataframe\">\n",
       "  <thead>\n",
       "    <tr style=\"text-align: right;\">\n",
       "      <th></th>\n",
       "      <th>id</th>\n",
       "      <th>name</th>\n",
       "      <th>type</th>\n",
       "      <th>base</th>\n",
       "    </tr>\n",
       "  </thead>\n",
       "  <tbody>\n",
       "    <tr>\n",
       "      <th>0</th>\n",
       "      <td>1</td>\n",
       "      <td>{'english': 'Bulbasaur', 'japanese': 'フシギダネ', ...</td>\n",
       "      <td>[Grass, Poison]</td>\n",
       "      <td>{'HP': 45, 'Attack': 49, 'Defense': 49, 'Sp. A...</td>\n",
       "    </tr>\n",
       "    <tr>\n",
       "      <th>1</th>\n",
       "      <td>2</td>\n",
       "      <td>{'english': 'Ivysaur', 'japanese': 'フシギソウ', 'c...</td>\n",
       "      <td>[Grass, Poison]</td>\n",
       "      <td>{'HP': 60, 'Attack': 62, 'Defense': 63, 'Sp. A...</td>\n",
       "    </tr>\n",
       "    <tr>\n",
       "      <th>2</th>\n",
       "      <td>3</td>\n",
       "      <td>{'english': 'Venusaur', 'japanese': 'フシギバナ', '...</td>\n",
       "      <td>[Grass, Poison]</td>\n",
       "      <td>{'HP': 80, 'Attack': 82, 'Defense': 83, 'Sp. A...</td>\n",
       "    </tr>\n",
       "    <tr>\n",
       "      <th>3</th>\n",
       "      <td>4</td>\n",
       "      <td>{'english': 'Charmander', 'japanese': 'ヒトカゲ', ...</td>\n",
       "      <td>[Fire]</td>\n",
       "      <td>{'HP': 39, 'Attack': 52, 'Defense': 43, 'Sp. A...</td>\n",
       "    </tr>\n",
       "    <tr>\n",
       "      <th>4</th>\n",
       "      <td>5</td>\n",
       "      <td>{'english': 'Charmeleon', 'japanese': 'リザード', ...</td>\n",
       "      <td>[Fire]</td>\n",
       "      <td>{'HP': 58, 'Attack': 64, 'Defense': 58, 'Sp. A...</td>\n",
       "    </tr>\n",
       "  </tbody>\n",
       "</table>\n",
       "</div>"
      ],
      "text/plain": [
       "   id                                               name             type  \\\n",
       "0   1  {'english': 'Bulbasaur', 'japanese': 'フシギダネ', ...  [Grass, Poison]   \n",
       "1   2  {'english': 'Ivysaur', 'japanese': 'フシギソウ', 'c...  [Grass, Poison]   \n",
       "2   3  {'english': 'Venusaur', 'japanese': 'フシギバナ', '...  [Grass, Poison]   \n",
       "3   4  {'english': 'Charmander', 'japanese': 'ヒトカゲ', ...           [Fire]   \n",
       "4   5  {'english': 'Charmeleon', 'japanese': 'リザード', ...           [Fire]   \n",
       "\n",
       "                                                base  \n",
       "0  {'HP': 45, 'Attack': 49, 'Defense': 49, 'Sp. A...  \n",
       "1  {'HP': 60, 'Attack': 62, 'Defense': 63, 'Sp. A...  \n",
       "2  {'HP': 80, 'Attack': 82, 'Defense': 83, 'Sp. A...  \n",
       "3  {'HP': 39, 'Attack': 52, 'Defense': 43, 'Sp. A...  \n",
       "4  {'HP': 58, 'Attack': 64, 'Defense': 58, 'Sp. A...  "
      ]
     },
     "execution_count": 33,
     "metadata": {},
     "output_type": "execute_result"
    }
   ],
   "source": [
    "url = 'https://github.com/prasertcbs/basic-dataset/raw/master/pokemon/pokedex_5_samples.json'\n",
    "df = pd.read_json(url, orient='records')\n",
    "df.head()"
   ]
  },
  {
   "cell_type": "code",
   "execution_count": 36,
   "metadata": {},
   "outputs": [
    {
     "name": "stderr",
     "output_type": "stream",
     "text": [
      "<ipython-input-36-a8ebc2d0e1a6>:1: FutureWarning: pandas.io.json.json_normalize is deprecated, use pandas.json_normalize instead\n",
      "  json_normalize(df['name'])\n"
     ]
    },
    {
     "data": {
      "text/html": [
       "<div>\n",
       "<style scoped>\n",
       "    .dataframe tbody tr th:only-of-type {\n",
       "        vertical-align: middle;\n",
       "    }\n",
       "\n",
       "    .dataframe tbody tr th {\n",
       "        vertical-align: top;\n",
       "    }\n",
       "\n",
       "    .dataframe thead th {\n",
       "        text-align: right;\n",
       "    }\n",
       "</style>\n",
       "<table border=\"1\" class=\"dataframe\">\n",
       "  <thead>\n",
       "    <tr style=\"text-align: right;\">\n",
       "      <th></th>\n",
       "      <th>english</th>\n",
       "      <th>japanese</th>\n",
       "      <th>chinese</th>\n",
       "      <th>french</th>\n",
       "    </tr>\n",
       "  </thead>\n",
       "  <tbody>\n",
       "    <tr>\n",
       "      <th>0</th>\n",
       "      <td>Bulbasaur</td>\n",
       "      <td>フシギダネ</td>\n",
       "      <td>妙蛙种子</td>\n",
       "      <td>Bulbizarre</td>\n",
       "    </tr>\n",
       "    <tr>\n",
       "      <th>1</th>\n",
       "      <td>Ivysaur</td>\n",
       "      <td>フシギソウ</td>\n",
       "      <td>妙蛙草</td>\n",
       "      <td>Herbizarre</td>\n",
       "    </tr>\n",
       "    <tr>\n",
       "      <th>2</th>\n",
       "      <td>Venusaur</td>\n",
       "      <td>フシギバナ</td>\n",
       "      <td>妙蛙花</td>\n",
       "      <td>Florizarre</td>\n",
       "    </tr>\n",
       "    <tr>\n",
       "      <th>3</th>\n",
       "      <td>Charmander</td>\n",
       "      <td>ヒトカゲ</td>\n",
       "      <td>小火龙</td>\n",
       "      <td>Salamèche</td>\n",
       "    </tr>\n",
       "    <tr>\n",
       "      <th>4</th>\n",
       "      <td>Charmeleon</td>\n",
       "      <td>リザード</td>\n",
       "      <td>火恐龙</td>\n",
       "      <td>Reptincel</td>\n",
       "    </tr>\n",
       "  </tbody>\n",
       "</table>\n",
       "</div>"
      ],
      "text/plain": [
       "      english japanese chinese      french\n",
       "0   Bulbasaur    フシギダネ    妙蛙种子  Bulbizarre\n",
       "1     Ivysaur    フシギソウ     妙蛙草  Herbizarre\n",
       "2    Venusaur    フシギバナ     妙蛙花  Florizarre\n",
       "3  Charmander     ヒトカゲ     小火龙   Salamèche\n",
       "4  Charmeleon     リザード     火恐龙   Reptincel"
      ]
     },
     "execution_count": 36,
     "metadata": {},
     "output_type": "execute_result"
    }
   ],
   "source": [
    "json_normalize(df['name'])"
   ]
  },
  {
   "cell_type": "code",
   "execution_count": 37,
   "metadata": {},
   "outputs": [
    {
     "name": "stderr",
     "output_type": "stream",
     "text": [
      "<ipython-input-37-1e14bddb24c0>:1: FutureWarning: pandas.io.json.json_normalize is deprecated, use pandas.json_normalize instead\n",
      "  json_normalize(df['base'])\n"
     ]
    },
    {
     "data": {
      "text/html": [
       "<div>\n",
       "<style scoped>\n",
       "    .dataframe tbody tr th:only-of-type {\n",
       "        vertical-align: middle;\n",
       "    }\n",
       "\n",
       "    .dataframe tbody tr th {\n",
       "        vertical-align: top;\n",
       "    }\n",
       "\n",
       "    .dataframe thead th {\n",
       "        text-align: right;\n",
       "    }\n",
       "</style>\n",
       "<table border=\"1\" class=\"dataframe\">\n",
       "  <thead>\n",
       "    <tr style=\"text-align: right;\">\n",
       "      <th></th>\n",
       "      <th>HP</th>\n",
       "      <th>Attack</th>\n",
       "      <th>Defense</th>\n",
       "      <th>Sp. Attack</th>\n",
       "      <th>Sp. Defense</th>\n",
       "      <th>Speed</th>\n",
       "    </tr>\n",
       "  </thead>\n",
       "  <tbody>\n",
       "    <tr>\n",
       "      <th>0</th>\n",
       "      <td>45</td>\n",
       "      <td>49</td>\n",
       "      <td>49</td>\n",
       "      <td>65</td>\n",
       "      <td>65</td>\n",
       "      <td>45</td>\n",
       "    </tr>\n",
       "    <tr>\n",
       "      <th>1</th>\n",
       "      <td>60</td>\n",
       "      <td>62</td>\n",
       "      <td>63</td>\n",
       "      <td>80</td>\n",
       "      <td>80</td>\n",
       "      <td>60</td>\n",
       "    </tr>\n",
       "    <tr>\n",
       "      <th>2</th>\n",
       "      <td>80</td>\n",
       "      <td>82</td>\n",
       "      <td>83</td>\n",
       "      <td>100</td>\n",
       "      <td>100</td>\n",
       "      <td>80</td>\n",
       "    </tr>\n",
       "    <tr>\n",
       "      <th>3</th>\n",
       "      <td>39</td>\n",
       "      <td>52</td>\n",
       "      <td>43</td>\n",
       "      <td>60</td>\n",
       "      <td>50</td>\n",
       "      <td>65</td>\n",
       "    </tr>\n",
       "    <tr>\n",
       "      <th>4</th>\n",
       "      <td>58</td>\n",
       "      <td>64</td>\n",
       "      <td>58</td>\n",
       "      <td>80</td>\n",
       "      <td>65</td>\n",
       "      <td>80</td>\n",
       "    </tr>\n",
       "  </tbody>\n",
       "</table>\n",
       "</div>"
      ],
      "text/plain": [
       "   HP  Attack  Defense  Sp. Attack  Sp. Defense  Speed\n",
       "0  45      49       49          65           65     45\n",
       "1  60      62       63          80           80     60\n",
       "2  80      82       83         100          100     80\n",
       "3  39      52       43          60           50     65\n",
       "4  58      64       58          80           65     80"
      ]
     },
     "execution_count": 37,
     "metadata": {},
     "output_type": "execute_result"
    }
   ],
   "source": [
    "json_normalize(df['base'])"
   ]
  },
  {
   "cell_type": "code",
   "execution_count": 38,
   "metadata": {
    "collapsed": true
   },
   "outputs": [
    {
     "name": "stderr",
     "output_type": "stream",
     "text": [
      "<ipython-input-38-eba4c29dab5d>:1: FutureWarning: pandas.io.json.json_normalize is deprecated, use pandas.json_normalize instead\n",
      "  json_normalize(df)\n"
     ]
    },
    {
     "ename": "AttributeError",
     "evalue": "'str' object has no attribute 'values'",
     "output_type": "error",
     "traceback": [
      "\u001b[1;31m---------------------------------------------------------------------------\u001b[0m",
      "\u001b[1;31mAttributeError\u001b[0m                            Traceback (most recent call last)",
      "\u001b[1;32m<ipython-input-38-eba4c29dab5d>\u001b[0m in \u001b[0;36m<module>\u001b[1;34m\u001b[0m\n\u001b[1;32m----> 1\u001b[1;33m \u001b[0mjson_normalize\u001b[0m\u001b[1;33m(\u001b[0m\u001b[0mdf\u001b[0m\u001b[1;33m)\u001b[0m\u001b[1;33m\u001b[0m\u001b[1;33m\u001b[0m\u001b[0m\n\u001b[0m",
      "\u001b[1;32mD:\\Anaconda\\lib\\site-packages\\pandas\\util\\_decorators.py\u001b[0m in \u001b[0;36mwrapper\u001b[1;34m(*args, **kwargs)\u001b[0m\n\u001b[0;32m     50\u001b[0m     \u001b[1;32mdef\u001b[0m \u001b[0mwrapper\u001b[0m\u001b[1;33m(\u001b[0m\u001b[1;33m*\u001b[0m\u001b[0margs\u001b[0m\u001b[1;33m,\u001b[0m \u001b[1;33m**\u001b[0m\u001b[0mkwargs\u001b[0m\u001b[1;33m)\u001b[0m \u001b[1;33m->\u001b[0m \u001b[0mCallable\u001b[0m\u001b[1;33m[\u001b[0m\u001b[1;33m...\u001b[0m\u001b[1;33m,\u001b[0m \u001b[0mAny\u001b[0m\u001b[1;33m]\u001b[0m\u001b[1;33m:\u001b[0m\u001b[1;33m\u001b[0m\u001b[1;33m\u001b[0m\u001b[0m\n\u001b[0;32m     51\u001b[0m         \u001b[0mwarnings\u001b[0m\u001b[1;33m.\u001b[0m\u001b[0mwarn\u001b[0m\u001b[1;33m(\u001b[0m\u001b[0mwarning_msg\u001b[0m\u001b[1;33m,\u001b[0m \u001b[0mklass\u001b[0m\u001b[1;33m,\u001b[0m \u001b[0mstacklevel\u001b[0m\u001b[1;33m=\u001b[0m\u001b[0mstacklevel\u001b[0m\u001b[1;33m)\u001b[0m\u001b[1;33m\u001b[0m\u001b[1;33m\u001b[0m\u001b[0m\n\u001b[1;32m---> 52\u001b[1;33m         \u001b[1;32mreturn\u001b[0m \u001b[0malternative\u001b[0m\u001b[1;33m(\u001b[0m\u001b[1;33m*\u001b[0m\u001b[0margs\u001b[0m\u001b[1;33m,\u001b[0m \u001b[1;33m**\u001b[0m\u001b[0mkwargs\u001b[0m\u001b[1;33m)\u001b[0m\u001b[1;33m\u001b[0m\u001b[1;33m\u001b[0m\u001b[0m\n\u001b[0m\u001b[0;32m     53\u001b[0m \u001b[1;33m\u001b[0m\u001b[0m\n\u001b[0;32m     54\u001b[0m     \u001b[1;31m# adding deprecated directive to the docstring\u001b[0m\u001b[1;33m\u001b[0m\u001b[1;33m\u001b[0m\u001b[1;33m\u001b[0m\u001b[0m\n",
      "\u001b[1;32mD:\\Anaconda\\lib\\site-packages\\pandas\\io\\json\\_normalize.py\u001b[0m in \u001b[0;36m_json_normalize\u001b[1;34m(data, record_path, meta, meta_prefix, record_prefix, errors, sep, max_level)\u001b[0m\n\u001b[0;32m    268\u001b[0m \u001b[1;33m\u001b[0m\u001b[0m\n\u001b[0;32m    269\u001b[0m     \u001b[1;32mif\u001b[0m \u001b[0mrecord_path\u001b[0m \u001b[1;32mis\u001b[0m \u001b[1;32mNone\u001b[0m\u001b[1;33m:\u001b[0m\u001b[1;33m\u001b[0m\u001b[1;33m\u001b[0m\u001b[0m\n\u001b[1;32m--> 270\u001b[1;33m         \u001b[1;32mif\u001b[0m \u001b[0many\u001b[0m\u001b[1;33m(\u001b[0m\u001b[1;33m[\u001b[0m\u001b[0misinstance\u001b[0m\u001b[1;33m(\u001b[0m\u001b[0mx\u001b[0m\u001b[1;33m,\u001b[0m \u001b[0mdict\u001b[0m\u001b[1;33m)\u001b[0m \u001b[1;32mfor\u001b[0m \u001b[0mx\u001b[0m \u001b[1;32min\u001b[0m \u001b[0my\u001b[0m\u001b[1;33m.\u001b[0m\u001b[0mvalues\u001b[0m\u001b[1;33m(\u001b[0m\u001b[1;33m)\u001b[0m\u001b[1;33m]\u001b[0m \u001b[1;32mfor\u001b[0m \u001b[0my\u001b[0m \u001b[1;32min\u001b[0m \u001b[0mdata\u001b[0m\u001b[1;33m)\u001b[0m\u001b[1;33m:\u001b[0m\u001b[1;33m\u001b[0m\u001b[1;33m\u001b[0m\u001b[0m\n\u001b[0m\u001b[0;32m    271\u001b[0m             \u001b[1;31m# naive normalization, this is idempotent for flat records\u001b[0m\u001b[1;33m\u001b[0m\u001b[1;33m\u001b[0m\u001b[1;33m\u001b[0m\u001b[0m\n\u001b[0;32m    272\u001b[0m             \u001b[1;31m# and potentially will inflate the data considerably for\u001b[0m\u001b[1;33m\u001b[0m\u001b[1;33m\u001b[0m\u001b[1;33m\u001b[0m\u001b[0m\n",
      "\u001b[1;32mD:\\Anaconda\\lib\\site-packages\\pandas\\io\\json\\_normalize.py\u001b[0m in \u001b[0;36m<genexpr>\u001b[1;34m(.0)\u001b[0m\n\u001b[0;32m    268\u001b[0m \u001b[1;33m\u001b[0m\u001b[0m\n\u001b[0;32m    269\u001b[0m     \u001b[1;32mif\u001b[0m \u001b[0mrecord_path\u001b[0m \u001b[1;32mis\u001b[0m \u001b[1;32mNone\u001b[0m\u001b[1;33m:\u001b[0m\u001b[1;33m\u001b[0m\u001b[1;33m\u001b[0m\u001b[0m\n\u001b[1;32m--> 270\u001b[1;33m         \u001b[1;32mif\u001b[0m \u001b[0many\u001b[0m\u001b[1;33m(\u001b[0m\u001b[1;33m[\u001b[0m\u001b[0misinstance\u001b[0m\u001b[1;33m(\u001b[0m\u001b[0mx\u001b[0m\u001b[1;33m,\u001b[0m \u001b[0mdict\u001b[0m\u001b[1;33m)\u001b[0m \u001b[1;32mfor\u001b[0m \u001b[0mx\u001b[0m \u001b[1;32min\u001b[0m \u001b[0my\u001b[0m\u001b[1;33m.\u001b[0m\u001b[0mvalues\u001b[0m\u001b[1;33m(\u001b[0m\u001b[1;33m)\u001b[0m\u001b[1;33m]\u001b[0m \u001b[1;32mfor\u001b[0m \u001b[0my\u001b[0m \u001b[1;32min\u001b[0m \u001b[0mdata\u001b[0m\u001b[1;33m)\u001b[0m\u001b[1;33m:\u001b[0m\u001b[1;33m\u001b[0m\u001b[1;33m\u001b[0m\u001b[0m\n\u001b[0m\u001b[0;32m    271\u001b[0m             \u001b[1;31m# naive normalization, this is idempotent for flat records\u001b[0m\u001b[1;33m\u001b[0m\u001b[1;33m\u001b[0m\u001b[1;33m\u001b[0m\u001b[0m\n\u001b[0;32m    272\u001b[0m             \u001b[1;31m# and potentially will inflate the data considerably for\u001b[0m\u001b[1;33m\u001b[0m\u001b[1;33m\u001b[0m\u001b[1;33m\u001b[0m\u001b[0m\n",
      "\u001b[1;31mAttributeError\u001b[0m: 'str' object has no attribute 'values'"
     ]
    }
   ],
   "source": [
    "# json_normalize(df) # error"
   ]
  },
  {
   "cell_type": "code",
   "execution_count": 39,
   "metadata": {
    "collapsed": true
   },
   "outputs": [
    {
     "name": "stderr",
     "output_type": "stream",
     "text": [
      "<ipython-input-39-fb29d29ee14d>:1: FutureWarning: pandas.io.json.json_normalize is deprecated, use pandas.json_normalize instead\n",
      "  json_normalize(df[['name', 'base']])\n"
     ]
    },
    {
     "ename": "AttributeError",
     "evalue": "'str' object has no attribute 'values'",
     "output_type": "error",
     "traceback": [
      "\u001b[1;31m---------------------------------------------------------------------------\u001b[0m",
      "\u001b[1;31mAttributeError\u001b[0m                            Traceback (most recent call last)",
      "\u001b[1;32m<ipython-input-39-fb29d29ee14d>\u001b[0m in \u001b[0;36m<module>\u001b[1;34m\u001b[0m\n\u001b[1;32m----> 1\u001b[1;33m \u001b[0mjson_normalize\u001b[0m\u001b[1;33m(\u001b[0m\u001b[0mdf\u001b[0m\u001b[1;33m[\u001b[0m\u001b[1;33m[\u001b[0m\u001b[1;34m'name'\u001b[0m\u001b[1;33m,\u001b[0m \u001b[1;34m'base'\u001b[0m\u001b[1;33m]\u001b[0m\u001b[1;33m]\u001b[0m\u001b[1;33m)\u001b[0m\u001b[1;33m\u001b[0m\u001b[1;33m\u001b[0m\u001b[0m\n\u001b[0m",
      "\u001b[1;32mD:\\Anaconda\\lib\\site-packages\\pandas\\util\\_decorators.py\u001b[0m in \u001b[0;36mwrapper\u001b[1;34m(*args, **kwargs)\u001b[0m\n\u001b[0;32m     50\u001b[0m     \u001b[1;32mdef\u001b[0m \u001b[0mwrapper\u001b[0m\u001b[1;33m(\u001b[0m\u001b[1;33m*\u001b[0m\u001b[0margs\u001b[0m\u001b[1;33m,\u001b[0m \u001b[1;33m**\u001b[0m\u001b[0mkwargs\u001b[0m\u001b[1;33m)\u001b[0m \u001b[1;33m->\u001b[0m \u001b[0mCallable\u001b[0m\u001b[1;33m[\u001b[0m\u001b[1;33m...\u001b[0m\u001b[1;33m,\u001b[0m \u001b[0mAny\u001b[0m\u001b[1;33m]\u001b[0m\u001b[1;33m:\u001b[0m\u001b[1;33m\u001b[0m\u001b[1;33m\u001b[0m\u001b[0m\n\u001b[0;32m     51\u001b[0m         \u001b[0mwarnings\u001b[0m\u001b[1;33m.\u001b[0m\u001b[0mwarn\u001b[0m\u001b[1;33m(\u001b[0m\u001b[0mwarning_msg\u001b[0m\u001b[1;33m,\u001b[0m \u001b[0mklass\u001b[0m\u001b[1;33m,\u001b[0m \u001b[0mstacklevel\u001b[0m\u001b[1;33m=\u001b[0m\u001b[0mstacklevel\u001b[0m\u001b[1;33m)\u001b[0m\u001b[1;33m\u001b[0m\u001b[1;33m\u001b[0m\u001b[0m\n\u001b[1;32m---> 52\u001b[1;33m         \u001b[1;32mreturn\u001b[0m \u001b[0malternative\u001b[0m\u001b[1;33m(\u001b[0m\u001b[1;33m*\u001b[0m\u001b[0margs\u001b[0m\u001b[1;33m,\u001b[0m \u001b[1;33m**\u001b[0m\u001b[0mkwargs\u001b[0m\u001b[1;33m)\u001b[0m\u001b[1;33m\u001b[0m\u001b[1;33m\u001b[0m\u001b[0m\n\u001b[0m\u001b[0;32m     53\u001b[0m \u001b[1;33m\u001b[0m\u001b[0m\n\u001b[0;32m     54\u001b[0m     \u001b[1;31m# adding deprecated directive to the docstring\u001b[0m\u001b[1;33m\u001b[0m\u001b[1;33m\u001b[0m\u001b[1;33m\u001b[0m\u001b[0m\n",
      "\u001b[1;32mD:\\Anaconda\\lib\\site-packages\\pandas\\io\\json\\_normalize.py\u001b[0m in \u001b[0;36m_json_normalize\u001b[1;34m(data, record_path, meta, meta_prefix, record_prefix, errors, sep, max_level)\u001b[0m\n\u001b[0;32m    268\u001b[0m \u001b[1;33m\u001b[0m\u001b[0m\n\u001b[0;32m    269\u001b[0m     \u001b[1;32mif\u001b[0m \u001b[0mrecord_path\u001b[0m \u001b[1;32mis\u001b[0m \u001b[1;32mNone\u001b[0m\u001b[1;33m:\u001b[0m\u001b[1;33m\u001b[0m\u001b[1;33m\u001b[0m\u001b[0m\n\u001b[1;32m--> 270\u001b[1;33m         \u001b[1;32mif\u001b[0m \u001b[0many\u001b[0m\u001b[1;33m(\u001b[0m\u001b[1;33m[\u001b[0m\u001b[0misinstance\u001b[0m\u001b[1;33m(\u001b[0m\u001b[0mx\u001b[0m\u001b[1;33m,\u001b[0m \u001b[0mdict\u001b[0m\u001b[1;33m)\u001b[0m \u001b[1;32mfor\u001b[0m \u001b[0mx\u001b[0m \u001b[1;32min\u001b[0m \u001b[0my\u001b[0m\u001b[1;33m.\u001b[0m\u001b[0mvalues\u001b[0m\u001b[1;33m(\u001b[0m\u001b[1;33m)\u001b[0m\u001b[1;33m]\u001b[0m \u001b[1;32mfor\u001b[0m \u001b[0my\u001b[0m \u001b[1;32min\u001b[0m \u001b[0mdata\u001b[0m\u001b[1;33m)\u001b[0m\u001b[1;33m:\u001b[0m\u001b[1;33m\u001b[0m\u001b[1;33m\u001b[0m\u001b[0m\n\u001b[0m\u001b[0;32m    271\u001b[0m             \u001b[1;31m# naive normalization, this is idempotent for flat records\u001b[0m\u001b[1;33m\u001b[0m\u001b[1;33m\u001b[0m\u001b[1;33m\u001b[0m\u001b[0m\n\u001b[0;32m    272\u001b[0m             \u001b[1;31m# and potentially will inflate the data considerably for\u001b[0m\u001b[1;33m\u001b[0m\u001b[1;33m\u001b[0m\u001b[1;33m\u001b[0m\u001b[0m\n",
      "\u001b[1;32mD:\\Anaconda\\lib\\site-packages\\pandas\\io\\json\\_normalize.py\u001b[0m in \u001b[0;36m<genexpr>\u001b[1;34m(.0)\u001b[0m\n\u001b[0;32m    268\u001b[0m \u001b[1;33m\u001b[0m\u001b[0m\n\u001b[0;32m    269\u001b[0m     \u001b[1;32mif\u001b[0m \u001b[0mrecord_path\u001b[0m \u001b[1;32mis\u001b[0m \u001b[1;32mNone\u001b[0m\u001b[1;33m:\u001b[0m\u001b[1;33m\u001b[0m\u001b[1;33m\u001b[0m\u001b[0m\n\u001b[1;32m--> 270\u001b[1;33m         \u001b[1;32mif\u001b[0m \u001b[0many\u001b[0m\u001b[1;33m(\u001b[0m\u001b[1;33m[\u001b[0m\u001b[0misinstance\u001b[0m\u001b[1;33m(\u001b[0m\u001b[0mx\u001b[0m\u001b[1;33m,\u001b[0m \u001b[0mdict\u001b[0m\u001b[1;33m)\u001b[0m \u001b[1;32mfor\u001b[0m \u001b[0mx\u001b[0m \u001b[1;32min\u001b[0m \u001b[0my\u001b[0m\u001b[1;33m.\u001b[0m\u001b[0mvalues\u001b[0m\u001b[1;33m(\u001b[0m\u001b[1;33m)\u001b[0m\u001b[1;33m]\u001b[0m \u001b[1;32mfor\u001b[0m \u001b[0my\u001b[0m \u001b[1;32min\u001b[0m \u001b[0mdata\u001b[0m\u001b[1;33m)\u001b[0m\u001b[1;33m:\u001b[0m\u001b[1;33m\u001b[0m\u001b[1;33m\u001b[0m\u001b[0m\n\u001b[0m\u001b[0;32m    271\u001b[0m             \u001b[1;31m# naive normalization, this is idempotent for flat records\u001b[0m\u001b[1;33m\u001b[0m\u001b[1;33m\u001b[0m\u001b[1;33m\u001b[0m\u001b[0m\n\u001b[0;32m    272\u001b[0m             \u001b[1;31m# and potentially will inflate the data considerably for\u001b[0m\u001b[1;33m\u001b[0m\u001b[1;33m\u001b[0m\u001b[1;33m\u001b[0m\u001b[0m\n",
      "\u001b[1;31mAttributeError\u001b[0m: 'str' object has no attribute 'values'"
     ]
    }
   ],
   "source": [
    "# json_normalize(df[['name', 'base']]) # error "
   ]
  },
  {
   "cell_type": "code",
   "execution_count": 40,
   "metadata": {
    "scrolled": false
   },
   "outputs": [
    {
     "name": "stderr",
     "output_type": "stream",
     "text": [
      "<ipython-input-40-48ced875bc11>:1: FutureWarning: pandas.io.json.json_normalize is deprecated, use pandas.json_normalize instead\n",
      "  pd.concat([df, json_normalize(df['name']), json_normalize(df['base'])], axis='columns')\n"
     ]
    },
    {
     "data": {
      "text/html": [
       "<div>\n",
       "<style scoped>\n",
       "    .dataframe tbody tr th:only-of-type {\n",
       "        vertical-align: middle;\n",
       "    }\n",
       "\n",
       "    .dataframe tbody tr th {\n",
       "        vertical-align: top;\n",
       "    }\n",
       "\n",
       "    .dataframe thead th {\n",
       "        text-align: right;\n",
       "    }\n",
       "</style>\n",
       "<table border=\"1\" class=\"dataframe\">\n",
       "  <thead>\n",
       "    <tr style=\"text-align: right;\">\n",
       "      <th></th>\n",
       "      <th>id</th>\n",
       "      <th>name</th>\n",
       "      <th>type</th>\n",
       "      <th>base</th>\n",
       "      <th>english</th>\n",
       "      <th>japanese</th>\n",
       "      <th>chinese</th>\n",
       "      <th>french</th>\n",
       "      <th>HP</th>\n",
       "      <th>Attack</th>\n",
       "      <th>Defense</th>\n",
       "      <th>Sp. Attack</th>\n",
       "      <th>Sp. Defense</th>\n",
       "      <th>Speed</th>\n",
       "    </tr>\n",
       "  </thead>\n",
       "  <tbody>\n",
       "    <tr>\n",
       "      <th>0</th>\n",
       "      <td>1</td>\n",
       "      <td>{'english': 'Bulbasaur', 'japanese': 'フシギダネ', ...</td>\n",
       "      <td>[Grass, Poison]</td>\n",
       "      <td>{'HP': 45, 'Attack': 49, 'Defense': 49, 'Sp. A...</td>\n",
       "      <td>Bulbasaur</td>\n",
       "      <td>フシギダネ</td>\n",
       "      <td>妙蛙种子</td>\n",
       "      <td>Bulbizarre</td>\n",
       "      <td>45</td>\n",
       "      <td>49</td>\n",
       "      <td>49</td>\n",
       "      <td>65</td>\n",
       "      <td>65</td>\n",
       "      <td>45</td>\n",
       "    </tr>\n",
       "    <tr>\n",
       "      <th>1</th>\n",
       "      <td>2</td>\n",
       "      <td>{'english': 'Ivysaur', 'japanese': 'フシギソウ', 'c...</td>\n",
       "      <td>[Grass, Poison]</td>\n",
       "      <td>{'HP': 60, 'Attack': 62, 'Defense': 63, 'Sp. A...</td>\n",
       "      <td>Ivysaur</td>\n",
       "      <td>フシギソウ</td>\n",
       "      <td>妙蛙草</td>\n",
       "      <td>Herbizarre</td>\n",
       "      <td>60</td>\n",
       "      <td>62</td>\n",
       "      <td>63</td>\n",
       "      <td>80</td>\n",
       "      <td>80</td>\n",
       "      <td>60</td>\n",
       "    </tr>\n",
       "    <tr>\n",
       "      <th>2</th>\n",
       "      <td>3</td>\n",
       "      <td>{'english': 'Venusaur', 'japanese': 'フシギバナ', '...</td>\n",
       "      <td>[Grass, Poison]</td>\n",
       "      <td>{'HP': 80, 'Attack': 82, 'Defense': 83, 'Sp. A...</td>\n",
       "      <td>Venusaur</td>\n",
       "      <td>フシギバナ</td>\n",
       "      <td>妙蛙花</td>\n",
       "      <td>Florizarre</td>\n",
       "      <td>80</td>\n",
       "      <td>82</td>\n",
       "      <td>83</td>\n",
       "      <td>100</td>\n",
       "      <td>100</td>\n",
       "      <td>80</td>\n",
       "    </tr>\n",
       "    <tr>\n",
       "      <th>3</th>\n",
       "      <td>4</td>\n",
       "      <td>{'english': 'Charmander', 'japanese': 'ヒトカゲ', ...</td>\n",
       "      <td>[Fire]</td>\n",
       "      <td>{'HP': 39, 'Attack': 52, 'Defense': 43, 'Sp. A...</td>\n",
       "      <td>Charmander</td>\n",
       "      <td>ヒトカゲ</td>\n",
       "      <td>小火龙</td>\n",
       "      <td>Salamèche</td>\n",
       "      <td>39</td>\n",
       "      <td>52</td>\n",
       "      <td>43</td>\n",
       "      <td>60</td>\n",
       "      <td>50</td>\n",
       "      <td>65</td>\n",
       "    </tr>\n",
       "    <tr>\n",
       "      <th>4</th>\n",
       "      <td>5</td>\n",
       "      <td>{'english': 'Charmeleon', 'japanese': 'リザード', ...</td>\n",
       "      <td>[Fire]</td>\n",
       "      <td>{'HP': 58, 'Attack': 64, 'Defense': 58, 'Sp. A...</td>\n",
       "      <td>Charmeleon</td>\n",
       "      <td>リザード</td>\n",
       "      <td>火恐龙</td>\n",
       "      <td>Reptincel</td>\n",
       "      <td>58</td>\n",
       "      <td>64</td>\n",
       "      <td>58</td>\n",
       "      <td>80</td>\n",
       "      <td>65</td>\n",
       "      <td>80</td>\n",
       "    </tr>\n",
       "  </tbody>\n",
       "</table>\n",
       "</div>"
      ],
      "text/plain": [
       "   id                                               name             type  \\\n",
       "0   1  {'english': 'Bulbasaur', 'japanese': 'フシギダネ', ...  [Grass, Poison]   \n",
       "1   2  {'english': 'Ivysaur', 'japanese': 'フシギソウ', 'c...  [Grass, Poison]   \n",
       "2   3  {'english': 'Venusaur', 'japanese': 'フシギバナ', '...  [Grass, Poison]   \n",
       "3   4  {'english': 'Charmander', 'japanese': 'ヒトカゲ', ...           [Fire]   \n",
       "4   5  {'english': 'Charmeleon', 'japanese': 'リザード', ...           [Fire]   \n",
       "\n",
       "                                                base     english japanese  \\\n",
       "0  {'HP': 45, 'Attack': 49, 'Defense': 49, 'Sp. A...   Bulbasaur    フシギダネ   \n",
       "1  {'HP': 60, 'Attack': 62, 'Defense': 63, 'Sp. A...     Ivysaur    フシギソウ   \n",
       "2  {'HP': 80, 'Attack': 82, 'Defense': 83, 'Sp. A...    Venusaur    フシギバナ   \n",
       "3  {'HP': 39, 'Attack': 52, 'Defense': 43, 'Sp. A...  Charmander     ヒトカゲ   \n",
       "4  {'HP': 58, 'Attack': 64, 'Defense': 58, 'Sp. A...  Charmeleon     リザード   \n",
       "\n",
       "  chinese      french  HP  Attack  Defense  Sp. Attack  Sp. Defense  Speed  \n",
       "0    妙蛙种子  Bulbizarre  45      49       49          65           65     45  \n",
       "1     妙蛙草  Herbizarre  60      62       63          80           80     60  \n",
       "2     妙蛙花  Florizarre  80      82       83         100          100     80  \n",
       "3     小火龙   Salamèche  39      52       43          60           50     65  \n",
       "4     火恐龙   Reptincel  58      64       58          80           65     80  "
      ]
     },
     "execution_count": 40,
     "metadata": {},
     "output_type": "execute_result"
    }
   ],
   "source": [
    "pd.concat([df, json_normalize(df['name']), json_normalize(df['base'])], axis='columns')"
   ]
  },
  {
   "cell_type": "code",
   "execution_count": 41,
   "metadata": {
    "scrolled": false
   },
   "outputs": [
    {
     "name": "stderr",
     "output_type": "stream",
     "text": [
      "<ipython-input-41-6d267576fbc9>:1: FutureWarning: pandas.io.json.json_normalize is deprecated, use pandas.json_normalize instead\n",
      "  dp = pd.concat([df, json_normalize(df['name']), json_normalize(df['base'])], axis='columns')\n"
     ]
    },
    {
     "data": {
      "text/html": [
       "<div>\n",
       "<style scoped>\n",
       "    .dataframe tbody tr th:only-of-type {\n",
       "        vertical-align: middle;\n",
       "    }\n",
       "\n",
       "    .dataframe tbody tr th {\n",
       "        vertical-align: top;\n",
       "    }\n",
       "\n",
       "    .dataframe thead th {\n",
       "        text-align: right;\n",
       "    }\n",
       "</style>\n",
       "<table border=\"1\" class=\"dataframe\">\n",
       "  <thead>\n",
       "    <tr style=\"text-align: right;\">\n",
       "      <th></th>\n",
       "      <th>id</th>\n",
       "      <th>name</th>\n",
       "      <th>type</th>\n",
       "      <th>base</th>\n",
       "      <th>english</th>\n",
       "      <th>japanese</th>\n",
       "      <th>chinese</th>\n",
       "      <th>french</th>\n",
       "      <th>HP</th>\n",
       "      <th>Attack</th>\n",
       "      <th>Defense</th>\n",
       "      <th>Sp. Attack</th>\n",
       "      <th>Sp. Defense</th>\n",
       "      <th>Speed</th>\n",
       "    </tr>\n",
       "  </thead>\n",
       "  <tbody>\n",
       "    <tr>\n",
       "      <th>0</th>\n",
       "      <td>1</td>\n",
       "      <td>{'english': 'Bulbasaur', 'japanese': 'フシギダネ', ...</td>\n",
       "      <td>[Grass, Poison]</td>\n",
       "      <td>{'HP': 45, 'Attack': 49, 'Defense': 49, 'Sp. A...</td>\n",
       "      <td>Bulbasaur</td>\n",
       "      <td>フシギダネ</td>\n",
       "      <td>妙蛙种子</td>\n",
       "      <td>Bulbizarre</td>\n",
       "      <td>45</td>\n",
       "      <td>49</td>\n",
       "      <td>49</td>\n",
       "      <td>65</td>\n",
       "      <td>65</td>\n",
       "      <td>45</td>\n",
       "    </tr>\n",
       "    <tr>\n",
       "      <th>1</th>\n",
       "      <td>2</td>\n",
       "      <td>{'english': 'Ivysaur', 'japanese': 'フシギソウ', 'c...</td>\n",
       "      <td>[Grass, Poison]</td>\n",
       "      <td>{'HP': 60, 'Attack': 62, 'Defense': 63, 'Sp. A...</td>\n",
       "      <td>Ivysaur</td>\n",
       "      <td>フシギソウ</td>\n",
       "      <td>妙蛙草</td>\n",
       "      <td>Herbizarre</td>\n",
       "      <td>60</td>\n",
       "      <td>62</td>\n",
       "      <td>63</td>\n",
       "      <td>80</td>\n",
       "      <td>80</td>\n",
       "      <td>60</td>\n",
       "    </tr>\n",
       "    <tr>\n",
       "      <th>2</th>\n",
       "      <td>3</td>\n",
       "      <td>{'english': 'Venusaur', 'japanese': 'フシギバナ', '...</td>\n",
       "      <td>[Grass, Poison]</td>\n",
       "      <td>{'HP': 80, 'Attack': 82, 'Defense': 83, 'Sp. A...</td>\n",
       "      <td>Venusaur</td>\n",
       "      <td>フシギバナ</td>\n",
       "      <td>妙蛙花</td>\n",
       "      <td>Florizarre</td>\n",
       "      <td>80</td>\n",
       "      <td>82</td>\n",
       "      <td>83</td>\n",
       "      <td>100</td>\n",
       "      <td>100</td>\n",
       "      <td>80</td>\n",
       "    </tr>\n",
       "    <tr>\n",
       "      <th>3</th>\n",
       "      <td>4</td>\n",
       "      <td>{'english': 'Charmander', 'japanese': 'ヒトカゲ', ...</td>\n",
       "      <td>[Fire]</td>\n",
       "      <td>{'HP': 39, 'Attack': 52, 'Defense': 43, 'Sp. A...</td>\n",
       "      <td>Charmander</td>\n",
       "      <td>ヒトカゲ</td>\n",
       "      <td>小火龙</td>\n",
       "      <td>Salamèche</td>\n",
       "      <td>39</td>\n",
       "      <td>52</td>\n",
       "      <td>43</td>\n",
       "      <td>60</td>\n",
       "      <td>50</td>\n",
       "      <td>65</td>\n",
       "    </tr>\n",
       "    <tr>\n",
       "      <th>4</th>\n",
       "      <td>5</td>\n",
       "      <td>{'english': 'Charmeleon', 'japanese': 'リザード', ...</td>\n",
       "      <td>[Fire]</td>\n",
       "      <td>{'HP': 58, 'Attack': 64, 'Defense': 58, 'Sp. A...</td>\n",
       "      <td>Charmeleon</td>\n",
       "      <td>リザード</td>\n",
       "      <td>火恐龙</td>\n",
       "      <td>Reptincel</td>\n",
       "      <td>58</td>\n",
       "      <td>64</td>\n",
       "      <td>58</td>\n",
       "      <td>80</td>\n",
       "      <td>65</td>\n",
       "      <td>80</td>\n",
       "    </tr>\n",
       "  </tbody>\n",
       "</table>\n",
       "</div>"
      ],
      "text/plain": [
       "   id                                               name             type  \\\n",
       "0   1  {'english': 'Bulbasaur', 'japanese': 'フシギダネ', ...  [Grass, Poison]   \n",
       "1   2  {'english': 'Ivysaur', 'japanese': 'フシギソウ', 'c...  [Grass, Poison]   \n",
       "2   3  {'english': 'Venusaur', 'japanese': 'フシギバナ', '...  [Grass, Poison]   \n",
       "3   4  {'english': 'Charmander', 'japanese': 'ヒトカゲ', ...           [Fire]   \n",
       "4   5  {'english': 'Charmeleon', 'japanese': 'リザード', ...           [Fire]   \n",
       "\n",
       "                                                base     english japanese  \\\n",
       "0  {'HP': 45, 'Attack': 49, 'Defense': 49, 'Sp. A...   Bulbasaur    フシギダネ   \n",
       "1  {'HP': 60, 'Attack': 62, 'Defense': 63, 'Sp. A...     Ivysaur    フシギソウ   \n",
       "2  {'HP': 80, 'Attack': 82, 'Defense': 83, 'Sp. A...    Venusaur    フシギバナ   \n",
       "3  {'HP': 39, 'Attack': 52, 'Defense': 43, 'Sp. A...  Charmander     ヒトカゲ   \n",
       "4  {'HP': 58, 'Attack': 64, 'Defense': 58, 'Sp. A...  Charmeleon     リザード   \n",
       "\n",
       "  chinese      french  HP  Attack  Defense  Sp. Attack  Sp. Defense  Speed  \n",
       "0    妙蛙种子  Bulbizarre  45      49       49          65           65     45  \n",
       "1     妙蛙草  Herbizarre  60      62       63          80           80     60  \n",
       "2     妙蛙花  Florizarre  80      82       83         100          100     80  \n",
       "3     小火龙   Salamèche  39      52       43          60           50     65  \n",
       "4     火恐龙   Reptincel  58      64       58          80           65     80  "
      ]
     },
     "execution_count": 41,
     "metadata": {},
     "output_type": "execute_result"
    }
   ],
   "source": [
    "dp = pd.concat([df, json_normalize(df['name']), json_normalize(df['base'])], axis='columns')\n",
    "dp"
   ]
  },
  {
   "cell_type": "code",
   "execution_count": 42,
   "metadata": {},
   "outputs": [
    {
     "data": {
      "text/plain": [
       "0     Bulbasaur\n",
       "1       Ivysaur\n",
       "2      Venusaur\n",
       "3    Charmander\n",
       "4    Charmeleon\n",
       "Name: english, dtype: object"
      ]
     },
     "execution_count": 42,
     "metadata": {},
     "output_type": "execute_result"
    }
   ],
   "source": [
    "dp['english']"
   ]
  },
  {
   "cell_type": "code",
   "execution_count": 43,
   "metadata": {},
   "outputs": [
    {
     "data": {
      "text/html": [
       "<div>\n",
       "<style scoped>\n",
       "    .dataframe tbody tr th:only-of-type {\n",
       "        vertical-align: middle;\n",
       "    }\n",
       "\n",
       "    .dataframe tbody tr th {\n",
       "        vertical-align: top;\n",
       "    }\n",
       "\n",
       "    .dataframe thead th {\n",
       "        text-align: right;\n",
       "    }\n",
       "</style>\n",
       "<table border=\"1\" class=\"dataframe\">\n",
       "  <thead>\n",
       "    <tr style=\"text-align: right;\">\n",
       "      <th></th>\n",
       "      <th>id</th>\n",
       "      <th>name</th>\n",
       "      <th>type</th>\n",
       "      <th>base</th>\n",
       "    </tr>\n",
       "  </thead>\n",
       "  <tbody>\n",
       "    <tr>\n",
       "      <th>0</th>\n",
       "      <td>1</td>\n",
       "      <td>{'english': 'Bulbasaur', 'japanese': 'フシギダネ', ...</td>\n",
       "      <td>Grass</td>\n",
       "      <td>{'HP': 45, 'Attack': 49, 'Defense': 49, 'Sp. A...</td>\n",
       "    </tr>\n",
       "    <tr>\n",
       "      <th>0</th>\n",
       "      <td>1</td>\n",
       "      <td>{'english': 'Bulbasaur', 'japanese': 'フシギダネ', ...</td>\n",
       "      <td>Poison</td>\n",
       "      <td>{'HP': 45, 'Attack': 49, 'Defense': 49, 'Sp. A...</td>\n",
       "    </tr>\n",
       "    <tr>\n",
       "      <th>1</th>\n",
       "      <td>2</td>\n",
       "      <td>{'english': 'Ivysaur', 'japanese': 'フシギソウ', 'c...</td>\n",
       "      <td>Grass</td>\n",
       "      <td>{'HP': 60, 'Attack': 62, 'Defense': 63, 'Sp. A...</td>\n",
       "    </tr>\n",
       "    <tr>\n",
       "      <th>1</th>\n",
       "      <td>2</td>\n",
       "      <td>{'english': 'Ivysaur', 'japanese': 'フシギソウ', 'c...</td>\n",
       "      <td>Poison</td>\n",
       "      <td>{'HP': 60, 'Attack': 62, 'Defense': 63, 'Sp. A...</td>\n",
       "    </tr>\n",
       "    <tr>\n",
       "      <th>2</th>\n",
       "      <td>3</td>\n",
       "      <td>{'english': 'Venusaur', 'japanese': 'フシギバナ', '...</td>\n",
       "      <td>Grass</td>\n",
       "      <td>{'HP': 80, 'Attack': 82, 'Defense': 83, 'Sp. A...</td>\n",
       "    </tr>\n",
       "    <tr>\n",
       "      <th>2</th>\n",
       "      <td>3</td>\n",
       "      <td>{'english': 'Venusaur', 'japanese': 'フシギバナ', '...</td>\n",
       "      <td>Poison</td>\n",
       "      <td>{'HP': 80, 'Attack': 82, 'Defense': 83, 'Sp. A...</td>\n",
       "    </tr>\n",
       "    <tr>\n",
       "      <th>3</th>\n",
       "      <td>4</td>\n",
       "      <td>{'english': 'Charmander', 'japanese': 'ヒトカゲ', ...</td>\n",
       "      <td>Fire</td>\n",
       "      <td>{'HP': 39, 'Attack': 52, 'Defense': 43, 'Sp. A...</td>\n",
       "    </tr>\n",
       "    <tr>\n",
       "      <th>4</th>\n",
       "      <td>5</td>\n",
       "      <td>{'english': 'Charmeleon', 'japanese': 'リザード', ...</td>\n",
       "      <td>Fire</td>\n",
       "      <td>{'HP': 58, 'Attack': 64, 'Defense': 58, 'Sp. A...</td>\n",
       "    </tr>\n",
       "  </tbody>\n",
       "</table>\n",
       "</div>"
      ],
      "text/plain": [
       "   id                                               name    type  \\\n",
       "0   1  {'english': 'Bulbasaur', 'japanese': 'フシギダネ', ...   Grass   \n",
       "0   1  {'english': 'Bulbasaur', 'japanese': 'フシギダネ', ...  Poison   \n",
       "1   2  {'english': 'Ivysaur', 'japanese': 'フシギソウ', 'c...   Grass   \n",
       "1   2  {'english': 'Ivysaur', 'japanese': 'フシギソウ', 'c...  Poison   \n",
       "2   3  {'english': 'Venusaur', 'japanese': 'フシギバナ', '...   Grass   \n",
       "2   3  {'english': 'Venusaur', 'japanese': 'フシギバナ', '...  Poison   \n",
       "3   4  {'english': 'Charmander', 'japanese': 'ヒトカゲ', ...    Fire   \n",
       "4   5  {'english': 'Charmeleon', 'japanese': 'リザード', ...    Fire   \n",
       "\n",
       "                                                base  \n",
       "0  {'HP': 45, 'Attack': 49, 'Defense': 49, 'Sp. A...  \n",
       "0  {'HP': 45, 'Attack': 49, 'Defense': 49, 'Sp. A...  \n",
       "1  {'HP': 60, 'Attack': 62, 'Defense': 63, 'Sp. A...  \n",
       "1  {'HP': 60, 'Attack': 62, 'Defense': 63, 'Sp. A...  \n",
       "2  {'HP': 80, 'Attack': 82, 'Defense': 83, 'Sp. A...  \n",
       "2  {'HP': 80, 'Attack': 82, 'Defense': 83, 'Sp. A...  \n",
       "3  {'HP': 39, 'Attack': 52, 'Defense': 43, 'Sp. A...  \n",
       "4  {'HP': 58, 'Attack': 64, 'Defense': 58, 'Sp. A...  "
      ]
     },
     "execution_count": 43,
     "metadata": {},
     "output_type": "execute_result"
    }
   ],
   "source": [
    "df.explode('type')"
   ]
  },
  {
   "cell_type": "code",
   "execution_count": 44,
   "metadata": {},
   "outputs": [
    {
     "data": {
      "text/html": [
       "<div>\n",
       "<style scoped>\n",
       "    .dataframe tbody tr th:only-of-type {\n",
       "        vertical-align: middle;\n",
       "    }\n",
       "\n",
       "    .dataframe tbody tr th {\n",
       "        vertical-align: top;\n",
       "    }\n",
       "\n",
       "    .dataframe thead th {\n",
       "        text-align: right;\n",
       "    }\n",
       "</style>\n",
       "<table border=\"1\" class=\"dataframe\">\n",
       "  <thead>\n",
       "    <tr style=\"text-align: right;\">\n",
       "      <th></th>\n",
       "      <th>id</th>\n",
       "      <th>name</th>\n",
       "      <th>type</th>\n",
       "      <th>base</th>\n",
       "    </tr>\n",
       "  </thead>\n",
       "  <tbody>\n",
       "    <tr>\n",
       "      <th>0</th>\n",
       "      <td>1</td>\n",
       "      <td>{'english': 'Bulbasaur', 'japanese': 'フシギダネ', ...</td>\n",
       "      <td>Grass</td>\n",
       "      <td>{'HP': 45, 'Attack': 49, 'Defense': 49, 'Sp. A...</td>\n",
       "    </tr>\n",
       "    <tr>\n",
       "      <th>0</th>\n",
       "      <td>1</td>\n",
       "      <td>{'english': 'Bulbasaur', 'japanese': 'フシギダネ', ...</td>\n",
       "      <td>Poison</td>\n",
       "      <td>{'HP': 45, 'Attack': 49, 'Defense': 49, 'Sp. A...</td>\n",
       "    </tr>\n",
       "    <tr>\n",
       "      <th>1</th>\n",
       "      <td>2</td>\n",
       "      <td>{'english': 'Ivysaur', 'japanese': 'フシギソウ', 'c...</td>\n",
       "      <td>Grass</td>\n",
       "      <td>{'HP': 60, 'Attack': 62, 'Defense': 63, 'Sp. A...</td>\n",
       "    </tr>\n",
       "    <tr>\n",
       "      <th>1</th>\n",
       "      <td>2</td>\n",
       "      <td>{'english': 'Ivysaur', 'japanese': 'フシギソウ', 'c...</td>\n",
       "      <td>Poison</td>\n",
       "      <td>{'HP': 60, 'Attack': 62, 'Defense': 63, 'Sp. A...</td>\n",
       "    </tr>\n",
       "    <tr>\n",
       "      <th>2</th>\n",
       "      <td>3</td>\n",
       "      <td>{'english': 'Venusaur', 'japanese': 'フシギバナ', '...</td>\n",
       "      <td>Grass</td>\n",
       "      <td>{'HP': 80, 'Attack': 82, 'Defense': 83, 'Sp. A...</td>\n",
       "    </tr>\n",
       "    <tr>\n",
       "      <th>2</th>\n",
       "      <td>3</td>\n",
       "      <td>{'english': 'Venusaur', 'japanese': 'フシギバナ', '...</td>\n",
       "      <td>Poison</td>\n",
       "      <td>{'HP': 80, 'Attack': 82, 'Defense': 83, 'Sp. A...</td>\n",
       "    </tr>\n",
       "    <tr>\n",
       "      <th>3</th>\n",
       "      <td>4</td>\n",
       "      <td>{'english': 'Charmander', 'japanese': 'ヒトカゲ', ...</td>\n",
       "      <td>Fire</td>\n",
       "      <td>{'HP': 39, 'Attack': 52, 'Defense': 43, 'Sp. A...</td>\n",
       "    </tr>\n",
       "    <tr>\n",
       "      <th>4</th>\n",
       "      <td>5</td>\n",
       "      <td>{'english': 'Charmeleon', 'japanese': 'リザード', ...</td>\n",
       "      <td>Fire</td>\n",
       "      <td>{'HP': 58, 'Attack': 64, 'Defense': 58, 'Sp. A...</td>\n",
       "    </tr>\n",
       "  </tbody>\n",
       "</table>\n",
       "</div>"
      ],
      "text/plain": [
       "   id                                               name    type  \\\n",
       "0   1  {'english': 'Bulbasaur', 'japanese': 'フシギダネ', ...   Grass   \n",
       "0   1  {'english': 'Bulbasaur', 'japanese': 'フシギダネ', ...  Poison   \n",
       "1   2  {'english': 'Ivysaur', 'japanese': 'フシギソウ', 'c...   Grass   \n",
       "1   2  {'english': 'Ivysaur', 'japanese': 'フシギソウ', 'c...  Poison   \n",
       "2   3  {'english': 'Venusaur', 'japanese': 'フシギバナ', '...   Grass   \n",
       "2   3  {'english': 'Venusaur', 'japanese': 'フシギバナ', '...  Poison   \n",
       "3   4  {'english': 'Charmander', 'japanese': 'ヒトカゲ', ...    Fire   \n",
       "4   5  {'english': 'Charmeleon', 'japanese': 'リザード', ...    Fire   \n",
       "\n",
       "                                                base  \n",
       "0  {'HP': 45, 'Attack': 49, 'Defense': 49, 'Sp. A...  \n",
       "0  {'HP': 45, 'Attack': 49, 'Defense': 49, 'Sp. A...  \n",
       "1  {'HP': 60, 'Attack': 62, 'Defense': 63, 'Sp. A...  \n",
       "1  {'HP': 60, 'Attack': 62, 'Defense': 63, 'Sp. A...  \n",
       "2  {'HP': 80, 'Attack': 82, 'Defense': 83, 'Sp. A...  \n",
       "2  {'HP': 80, 'Attack': 82, 'Defense': 83, 'Sp. A...  \n",
       "3  {'HP': 39, 'Attack': 52, 'Defense': 43, 'Sp. A...  \n",
       "4  {'HP': 58, 'Attack': 64, 'Defense': 58, 'Sp. A...  "
      ]
     },
     "execution_count": 44,
     "metadata": {},
     "output_type": "execute_result"
    }
   ],
   "source": [
    "dt = df.explode('type')\n",
    "dt"
   ]
  },
  {
   "cell_type": "code",
   "execution_count": 45,
   "metadata": {},
   "outputs": [
    {
     "data": {
      "text/plain": [
       "Poison    3\n",
       "Grass     3\n",
       "Fire      2\n",
       "Name: type, dtype: int64"
      ]
     },
     "execution_count": 45,
     "metadata": {},
     "output_type": "execute_result"
    }
   ],
   "source": [
    "dt['type'].value_counts()"
   ]
  }
 ],
 "metadata": {
  "kernelspec": {
   "display_name": "Python 3",
   "language": "python",
   "name": "python3"
  },
  "language_info": {
   "codemirror_mode": {
    "name": "ipython",
    "version": 3
   },
   "file_extension": ".py",
   "mimetype": "text/x-python",
   "name": "python",
   "nbconvert_exporter": "python",
   "pygments_lexer": "ipython3",
   "version": "3.8.5"
  }
 },
 "nbformat": 4,
 "nbformat_minor": 4
}
