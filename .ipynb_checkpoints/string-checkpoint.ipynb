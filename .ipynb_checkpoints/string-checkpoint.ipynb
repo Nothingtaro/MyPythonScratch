{
 "cells": [
  {
   "cell_type": "code",
   "execution_count": 2,
   "metadata": {},
   "outputs": [
    {
     "name": "stdout",
     "output_type": "stream",
     "text": [
      "today is Friday\n",
      "tomorrow is Saturday\n"
     ]
    }
   ],
   "source": [
    "aa = 'today is Friday'\n",
    "Aa = 'tomorrow is Saturday'\n",
    "print(aa)\n",
    "print(Aa)"
   ]
  },
  {
   "cell_type": "code",
   "execution_count": 3,
   "metadata": {},
   "outputs": [
    {
     "name": "stdout",
     "output_type": "stream",
     "text": [
      "0\n",
      "0\n",
      "10\n",
      "1\n",
      "20\n",
      "2\n",
      "30\n",
      "3\n",
      "40\n",
      "4\n"
     ]
    }
   ],
   "source": [
    "for i in range(5):\n",
    "    print(i*10)\n",
    "    print(i)"
   ]
  },
  {
   "cell_type": "code",
   "execution_count": 4,
   "metadata": {},
   "outputs": [
    {
     "name": "stdout",
     "output_type": "stream",
     "text": [
      "0\n",
      "10\n",
      "20\n",
      "30\n",
      "40\n",
      "4\n"
     ]
    }
   ],
   "source": [
    "for i in range(5):\n",
    "    print(i*10)\n",
    "print(i)"
   ]
  },
  {
   "cell_type": "code",
   "execution_count": 5,
   "metadata": {},
   "outputs": [],
   "source": [
    "a = 'My school is CBS'"
   ]
  },
  {
   "cell_type": "code",
   "execution_count": 2,
   "metadata": {},
   "outputs": [
    {
     "name": "stdout",
     "output_type": "stream",
     "text": [
      "Chanon\n",
      "C\n",
      "o\n",
      "Chano\n",
      "n\n",
      "non\n",
      "Cao\n"
     ]
    }
   ],
   "source": [
    "print(a)\n",
    "print(a[0])\n",
    "print(a[4])\n",
    "print(a[0:5])\n",
    "print(a[5:])\n",
    "print(a[-3:])\n",
    "print(a[0::2])\n",
    "#[START:STOP:STEP]"
   ]
  },
  {
   "cell_type": "code",
   "execution_count": 12,
   "metadata": {},
   "outputs": [
    {
     "name": "stdout",
     "output_type": "stream",
     "text": [
      "I am at school\n",
      "I am at school\n"
     ]
    }
   ],
   "source": [
    "a = input()\n",
    "print(a)"
   ]
  },
  {
   "cell_type": "code",
   "execution_count": 1,
   "metadata": {},
   "outputs": [
    {
     "name": "stdout",
     "output_type": "stream",
     "text": [
      "what is your name?Chanon\n",
      "Chanon\n",
      "Your name is Chanon\n",
      "first character is C and last character is n\n"
     ]
    }
   ],
   "source": [
    "a = input('what is your name?' )\n",
    "print(a)\n",
    "print(f'Your name is {a}')\n",
    "print(f'first character is {a[0]} and last character is {a[-1:]}')"
   ]
  },
  {
   "cell_type": "code",
   "execution_count": 4,
   "metadata": {},
   "outputs": [
    {
     "name": "stdout",
     "output_type": "stream",
     "text": [
      "The number is 133\n"
     ]
    }
   ],
   "source": [
    "b = 100\n",
    "c = b+33\n",
    "print(f'The number is {c}')"
   ]
  },
  {
   "cell_type": "code",
   "execution_count": 2,
   "metadata": {},
   "outputs": [
    {
     "name": "stdout",
     "output_type": "stream",
     "text": [
      "please enter a number ->100\n",
      "The number is  100+33 = 133\n"
     ]
    }
   ],
   "source": [
    "b = int(input('please enter a number ->'))\n",
    "c = b+33\n",
    "print(f'The number is  {b}+33 = {c}')"
   ]
  },
  {
   "cell_type": "code",
   "execution_count": 4,
   "metadata": {},
   "outputs": [
    {
     "name": "stdout",
     "output_type": "stream",
     "text": [
      "please enter your weight in Kg ->73\n",
      "you weight in Ib. is 160.60000000000002.\n"
     ]
    }
   ],
   "source": [
    "b = float(input('please enter your weight in Kg ->'))\n",
    "Ib = b*2.2\n",
    "print(f'you weight in Ib. is {Ib}.')"
   ]
  },
  {
   "cell_type": "code",
   "execution_count": 5,
   "metadata": {},
   "outputs": [
    {
     "name": "stdout",
     "output_type": "stream",
     "text": [
      "please enter your weight in Ib ->160.602\n",
      "you weight in Kg. is 73.00090909090909.\n"
     ]
    }
   ],
   "source": [
    "b = float(input('please enter your weight in Ib ->'))\n",
    "Kg = b/2.2\n",
    "print(f'you weight in Kg. is {Kg}.')"
   ]
  },
  {
   "cell_type": "code",
   "execution_count": 8,
   "metadata": {},
   "outputs": [
    {
     "name": "stdout",
     "output_type": "stream",
     "text": [
      "i=1\n",
      "i=3\n",
      "i=5\n",
      "i=7\n",
      "i=9\n",
      "sum=25\n"
     ]
    }
   ],
   "source": [
    "sum = 0\n",
    "# for VARIABLE in SOMETHING iterable\n",
    "for i in range(1,10,2):\n",
    "    print(f'i={i}')\n",
    "    sum = sum+i\n",
    "print(f'sum={sum}')"
   ]
  },
  {
   "cell_type": "code",
   "execution_count": 9,
   "metadata": {},
   "outputs": [
    {
     "name": "stdout",
     "output_type": "stream",
     "text": [
      "m\n",
      "y\n",
      " \n",
      "s\n",
      "c\n",
      "h\n",
      "o\n",
      "o\n",
      "l\n"
     ]
    }
   ],
   "source": [
    "a = 'my school'\n",
    "for c in a:\n",
    "    print(c)"
   ]
  },
  {
   "cell_type": "code",
   "execution_count": 11,
   "metadata": {},
   "outputs": [
    {
     "name": "stdout",
     "output_type": "stream",
     "text": [
      "i\n",
      "s\n",
      " \n",
      "C\n",
      "B\n",
      "S\n"
     ]
    }
   ],
   "source": [
    "a = 'my school is CBS'\n",
    "for c in a[-6:]:\n",
    "    print(c)"
   ]
  },
  {
   "cell_type": "code",
   "execution_count": 12,
   "metadata": {},
   "outputs": [
    {
     "name": "stdout",
     "output_type": "stream",
     "text": [
      "m\n",
      "y\n",
      " \n",
      "s\n",
      "c\n",
      "h\n",
      "o\n",
      "o\n",
      "l\n",
      " \n",
      "i\n",
      "s\n",
      " \n",
      "C\n",
      "B\n",
      "S\n"
     ]
    }
   ],
   "source": [
    "for i in range(len(a)):\n",
    "    print(a[i])"
   ]
  },
  {
   "cell_type": "code",
   "execution_count": 13,
   "metadata": {},
   "outputs": [
    {
     "name": "stdout",
     "output_type": "stream",
     "text": [
      "my school is CBS\n",
      "y school is CBS\n",
      " school is CBS\n",
      "school is CBS\n",
      "chool is CBS\n",
      "hool is CBS\n",
      "ool is CBS\n",
      "ol is CBS\n",
      "l is CBS\n",
      " is CBS\n",
      "is CBS\n",
      "s CBS\n",
      " CBS\n",
      "CBS\n",
      "BS\n",
      "S\n"
     ]
    }
   ],
   "source": [
    "for i in range(len(a)):\n",
    "    print(a[i:])"
   ]
  },
  {
   "cell_type": "code",
   "execution_count": 3,
   "metadata": {},
   "outputs": [
    {
     "name": "stdout",
     "output_type": "stream",
     "text": [
      "my school\n",
      "_y school\n",
      "__ school\n",
      "___school\n",
      "____chool\n",
      "_____hool\n",
      "______ool\n",
      "_______ol\n",
      "________l\n"
     ]
    }
   ],
   "source": [
    "a = 'my school'\n",
    "for i in range(len(a)):\n",
    "    for j in range(i):\n",
    "        print('_',end='')\n",
    "    print(a[i:])\n"
   ]
  },
  {
   "cell_type": "code",
   "execution_count": 4,
   "metadata": {},
   "outputs": [
    {
     "name": "stdout",
     "output_type": "stream",
     "text": [
      "my school\n",
      "_y school\n",
      "__ school\n",
      "___school\n",
      "____chool\n",
      "_____hool\n",
      "______ool\n",
      "_______ol\n",
      "________l\n"
     ]
    }
   ],
   "source": [
    "a = 'my school'\n",
    "for i in range(len(a)):\n",
    "    print('_'*i,end='')\n",
    "    print(a[i:])"
   ]
  },
  {
   "cell_type": "code",
   "execution_count": 6,
   "metadata": {
    "scrolled": true
   },
   "outputs": [
    {
     "name": "stdout",
     "output_type": "stream",
     "text": [
      "my school\n",
      "_y school\n",
      "__ school\n",
      "___school\n",
      "____chool\n",
      "_____hool\n",
      "______ool\n",
      "_______ol\n",
      "________l\n"
     ]
    }
   ],
   "source": [
    "a = 'my school'\n",
    "for i in range(len(a)):\n",
    "    print(f\"{'_'*i}{a[i:]}\")"
   ]
  },
  {
   "cell_type": "code",
   "execution_count": 14,
   "metadata": {},
   "outputs": [
    {
     "name": "stdout",
     "output_type": "stream",
     "text": [
      "even\n"
     ]
    }
   ],
   "source": [
    "b = 10\n",
    "# % MOD\n",
    "if b % 2 == 1:\n",
    "    print('odd')\n",
    "else:\n",
    "    print('even')"
   ]
  },
  {
   "cell_type": "code",
   "execution_count": 16,
   "metadata": {},
   "outputs": [
    {
     "name": "stdout",
     "output_type": "stream",
     "text": [
      "please enter your number ->3\n",
      "odd\n"
     ]
    }
   ],
   "source": [
    "num = int(input('please enter your number ->'))\n",
    "if num % 2 == 1:\n",
    "    print('odd')\n",
    "else:\n",
    "    print('even')"
   ]
  },
  {
   "cell_type": "code",
   "execution_count": null,
   "metadata": {},
   "outputs": [],
   "source": [
    "b = int(input('please enter your number ->'))\n",
    "if b > 1\n",
    "result = 0\n",
    "for i in range(2,b):\n",
    "    if result == 0:\n",
    "        if b % i == 0:\n",
    "            result = -1\n",
    "if(result == 0):\n",
    "    print('prime')\n",
    "else:\n",
    "    print('not prime')"
   ]
  },
  {
   "cell_type": "code",
   "execution_count": 1,
   "metadata": {},
   "outputs": [
    {
     "name": "stdout",
     "output_type": "stream",
     "text": [
      "please enter your number ->20\n",
      "not prime\n"
     ]
    }
   ],
   "source": [
    "b = int(input('please enter your number ->'))\n",
    "if b > 1:\n",
    "    result = 0\n",
    "    for i in range(2,b):\n",
    "        if b % i == 0:\n",
    "            result = -1\n",
    "            2\n",
    "    if(result == 0):\n",
    "        print('prime')\n",
    "    else:\n",
    "        print('not prime')\n",
    "else:\n",
    "    print('not prime')"
   ]
  },
  {
   "cell_type": "code",
   "execution_count": 2,
   "metadata": {},
   "outputs": [
    {
     "name": "stdout",
     "output_type": "stream",
     "text": [
      "please enter your number ->20\n"
     ]
    }
   ],
   "source": []
  },
  {
   "cell_type": "code",
   "execution_count": null,
   "metadata": {},
   "outputs": [],
   "source": []
  }
 ],
 "metadata": {
  "kernelspec": {
   "display_name": "Python 3",
   "language": "python",
   "name": "python3"
  },
  "language_info": {
   "codemirror_mode": {
    "name": "ipython",
    "version": 3
   },
   "file_extension": ".py",
   "mimetype": "text/x-python",
   "name": "python",
   "nbconvert_exporter": "python",
   "pygments_lexer": "ipython3",
   "version": "3.8.5"
  }
 },
 "nbformat": 4,
 "nbformat_minor": 2
}
