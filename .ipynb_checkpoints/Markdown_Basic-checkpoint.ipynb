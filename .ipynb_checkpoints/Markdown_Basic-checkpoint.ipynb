{
 "cells": [
  {
   "cell_type": "markdown",
   "metadata": {},
   "source": [
    "# Heading 1\n",
    "## Heading 2\n",
    "##### This is heading 6"
   ]
  },
  {
   "cell_type": "markdown",
   "metadata": {},
   "source": [
    "## Bullet point "
   ]
  },
  {
   "cell_type": "markdown",
   "metadata": {},
   "source": [
    "* coffee\n",
    "* tea\n",
    "* soft drink"
   ]
  },
  {
   "cell_type": "markdown",
   "metadata": {},
   "source": [
    "1. coffee\n",
    "2. tea\n",
    "3. soft drink\n",
    "4. water"
   ]
  },
  {
   "cell_type": "markdown",
   "metadata": {},
   "source": [
    "1. coffee\n",
    "    * mocha\n",
    "    * latte\n",
    "    * espresso\n",
    "2. tea\n",
    "    * green\n",
    "    * jasmine\n",
    "3. soft drink\n",
    "    * coke\n",
    "       * classic\n",
    "       * diet\n",
    "4. water"
   ]
  },
  {
   "cell_type": "markdown",
   "metadata": {},
   "source": [
    "## New line  \n",
    "two-spacebar + enter"
   ]
  },
  {
   "cell_type": "markdown",
   "metadata": {},
   "source": [
    "first line.  \n",
    "second line.  \n",
    "third line.  "
   ]
  },
  {
   "cell_type": "markdown",
   "metadata": {},
   "source": [
    "## Emphasis   "
   ]
  },
  {
   "cell_type": "markdown",
   "metadata": {},
   "source": [
    "The *impossible* dream.  \n",
    "May the **force** me with you.  \n",
    "***You*** can't save the world alone.  \n",
    "Past ~~Present~~ Future.  "
   ]
  },
  {
   "cell_type": "markdown",
   "metadata": {},
   "source": [
    "The <span style=color:red>*impossible*</span> dream.  \n",
    "<span style=color:blue;font-size:150%>May</span> the **force** me with you.  \n",
    "***You*** can't save the world alone.  \n",
    "Past ~~Present~~ Future.  "
   ]
  },
  {
   "cell_type": "markdown",
   "metadata": {},
   "source": [
    "## Hyperlink "
   ]
  },
  {
   "cell_type": "markdown",
   "metadata": {},
   "source": [
    "https://youtube.com"
   ]
  },
  {
   "cell_type": "code",
   "execution_count": null,
   "metadata": {},
   "outputs": [],
   "source": []
  }
 ],
 "metadata": {
  "kernelspec": {
   "display_name": "Python 3",
   "language": "python",
   "name": "python3"
  },
  "language_info": {
   "codemirror_mode": {
    "name": "ipython",
    "version": 3
   },
   "file_extension": ".py",
   "mimetype": "text/x-python",
   "name": "python",
   "nbconvert_exporter": "python",
   "pygments_lexer": "ipython3",
   "version": "3.8.5"
  }
 },
 "nbformat": 4,
 "nbformat_minor": 4
}
