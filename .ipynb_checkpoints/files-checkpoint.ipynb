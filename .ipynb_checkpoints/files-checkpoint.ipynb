{
 "cells": [
  {
   "cell_type": "code",
   "execution_count": 10,
   "metadata": {},
   "outputs": [
    {
     "name": "stdout",
     "output_type": "stream",
     "text": [
      "please enter any string ---> 12er345\n",
      "[0, 1, 4, 5, 6]\n"
     ]
    }
   ],
   "source": [
    "def allintegerposition(astring):\n",
    "    positions = []\n",
    "    numbers = [str(x) for x in range(10)]\n",
    "    for i in range(len(astring)):\n",
    "        if astring[i] in numbers:\n",
    "            positions.append(i)\n",
    "    return positions\n",
    "\n",
    "astring = input('please enter any string ---> ')\n",
    "pos = allintegerposition(astring)\n",
    "print(pos)"
   ]
  },
  {
   "cell_type": "code",
   "execution_count": 12,
   "metadata": {},
   "outputs": [
    {
     "name": "stdout",
     "output_type": "stream",
     "text": [
      "[0, 1, 2, 3, 4, 5, 6, 7, 8, 9]\n",
      "['0', '1', '2', '3', '4', '5', '6', '7', '8', '9']\n",
      "{0, 1, 2, 3, 4, 5, 6, 7, 8, 9}\n",
      "{'9', '5', '0', '6', '1', '2', '4', '8', '3', '7'}\n"
     ]
    }
   ],
   "source": [
    "numberlist1 = [x for x in range(10)]\n",
    "numberlist2 = [str(x) for x in range(10)]\n",
    "numberset1 = {x for x in range(10)}\n",
    "numberset2 = {str(x) for x in range(10)}\n",
    "print(numberlist1)\n",
    "print(numberlist2)\n",
    "print(numberset1)\n",
    "print(numberset2)"
   ]
  },
  {
   "cell_type": "code",
   "execution_count": 1,
   "metadata": {},
   "outputs": [
    {
     "data": {
      "text/plain": [
       "'C:\\\\Users\\\\User\\\\Desktop\\\\Python'"
      ]
     },
     "execution_count": 1,
     "metadata": {},
     "output_type": "execute_result"
    }
   ],
   "source": [
    "pwd"
   ]
  },
  {
   "cell_type": "code",
   "execution_count": 24,
   "metadata": {
    "scrolled": false
   },
   "outputs": [
    {
     "name": "stdout",
     "output_type": "stream",
     "text": [
      "Deputy Prime Minister Somkid Jatusripitak has asked the public not to panic about the coronavirus outbreak or economic problems by giving assurances that Thailand will be steered through difficult times. Addressing the Post Today Economic Forum 2020 on Thursday, Mr Somkid said that Thailand's economy has been hit by storm after storm for almost one year since the March 24 general election.However, he expressed confidence that the country will eventually weather all the storms. \n",
      "The government does not want the public to panic. We want you to believe that Thailand will get through them [storms], said the deputy prime minister. The first storm faced by Thailand was the seven-month delay in the formation of the post-election government. During this period, the caretaker administration had difficulty in spending budgets since state investments were stalled as agencies waited for the new government, Mr Somkid said. The second storm to affect Thailand was the US-China trade war which had a severe impact on Thai exports, particularly automobiles, electronics and chemicals, thereby causing the domestic economy to weaken.\n",
      "In light of this, Thailand's economy is in need of restructuring to achieve a balance between dependence on the global economy and stable domestic growth, he said. Mr Somkid added that the manufacturing sector must also be revamped in order to make use of digital technology to develop innovative products to improve the competitiveness of the export sector. The Thai economy is not in recession. However, it is necessary to create a balance between the internal and external economy, which I have been working on all along. If we had not done it, the Thai economy would have been much worse, he said.\n",
      "The third economic storm was the strengthening of the baht which dealt an additional blow to exports. However, the baht has now begun to weaken, which should ease exporters' concerns, he said. Despite this, operators must not rely solely on currency exchange rates and must strive to improve themselves. Yet another storm to hit Thailand, as well as the world, is the coronavirus outbreak, he said, adding that the public should not panic because Thailand has experienced several epidemics in the past and managed to get through them in the end.\n",
      "Delays in the disbursement of the 3.2-trillion-baht budget for the 2020 fiscal year is another storm rocking the country, Mr Somkid added. He said the budget should have been disbursed on Oct 1 last year, which is the beginning of the 2020 fiscal year. However, it was put on hold because questions were raised about its validity after it was revealed some coalition lawmakers voted for the Budget Bill without being present in the chamber.\n"
     ]
    }
   ],
   "source": [
    "textfile = open('test.txt', mode = 'r',encoding = 'utf-8')\n",
    "astr = textfile.read()\n",
    "textfile.close()\n",
    "print(astr)"
   ]
  },
  {
   "cell_type": "code",
   "execution_count": 25,
   "metadata": {},
   "outputs": [
    {
     "name": "stdout",
     "output_type": "stream",
     "text": [
      "5\n"
     ]
    }
   ],
   "source": [
    "#count paragraph\n",
    "textfile = open('test.txt', mode = 'r',encoding = 'utf-8')\n",
    "filecontent = textfile.read()\n",
    "textfile.close()\n",
    "\n",
    "pcount = 0\n",
    "for paragraph in filecontent.split('\\n'):\n",
    "    pcount += 1\n",
    "\n",
    "print(pcount)"
   ]
  },
  {
   "cell_type": "code",
   "execution_count": 33,
   "metadata": {},
   "outputs": [
    {
     "name": "stdout",
     "output_type": "stream",
     "text": [
      "PARAGRAPH 1\n",
      "Deputy Prime Minister Somkid Jatusripitak has asked the public not to panic about the coronavirus outbreak or economic problems by giving assurances that Thailand will be steered through difficult times\n",
      "\n",
      " Addressing the Post Today Economic Forum 2020 on Thursday, Mr Somkid said that Thailand's economy has been hit by storm after storm for almost one year since the March 24 general election\n",
      "\n",
      "However, he expressed confidence that the country will eventually weather all the storms\n",
      "\n",
      " \n",
      "\n",
      "paragraph1 has 4 sentences.\n",
      "PARAGRAPH 2\n",
      "The government does not want the public to panic\n",
      "\n",
      " We want you to believe that Thailand will get through them [storms], said the deputy prime minister\n",
      "\n",
      " The first storm faced by Thailand was the seven-month delay in the formation of the post-election government\n",
      "\n",
      " During this period, the caretaker administration had difficulty in spending budgets since state investments were stalled as agencies waited for the new government, Mr Somkid said\n",
      "\n",
      " The second storm to affect Thailand was the US-China trade war which had a severe impact on Thai exports, particularly automobiles, electronics and chemicals, thereby causing the domestic economy to weaken\n",
      "\n",
      "paragraph2 has 6 sentences.\n",
      "PARAGRAPH 3\n",
      "In light of this, Thailand's economy is in need of restructuring to achieve a balance between dependence on the global economy and stable domestic growth, he said\n",
      "\n",
      " Mr Somkid added that the manufacturing sector must also be revamped in order to make use of digital technology to develop innovative products to improve the competitiveness of the export sector\n",
      "\n",
      " The Thai economy is not in recession\n",
      "\n",
      " However, it is necessary to create a balance between the internal and external economy, which I have been working on all along\n",
      "\n",
      " If we had not done it, the Thai economy would have been much worse, he said\n",
      "\n",
      "paragraph3 has 6 sentences.\n",
      "PARAGRAPH 4\n",
      "The third economic storm was the strengthening of the baht which dealt an additional blow to exports\n",
      "\n",
      " However, the baht has now begun to weaken, which should ease exporters' concerns, he said\n",
      "\n",
      " Despite this, operators must not rely solely on currency exchange rates and must strive to improve themselves\n",
      "\n",
      " Yet another storm to hit Thailand, as well as the world, is the coronavirus outbreak, he said, adding that the public should not panic because Thailand has experienced several epidemics in the past and managed to get through them in the end\n",
      "\n",
      "paragraph4 has 5 sentences.\n",
      "PARAGRAPH 5\n",
      "Delays in the disbursement of the 3\n",
      "\n",
      "2-trillion-baht budget for the 2020 fiscal year is another storm rocking the country, Mr Somkid added\n",
      "\n",
      " He said the budget should have been disbursed on Oct 1 last year, which is the beginning of the 2020 fiscal year\n",
      "\n",
      " However, it was put on hold because questions were raised about its validity after it was revealed some coalition lawmakers voted for the Budget Bill without being present in the chamber\n",
      "\n",
      "paragraph5 has 5 sentences.\n"
     ]
    }
   ],
   "source": [
    "#count sentence\n",
    "textfile = open('test.txt', mode = 'r',encoding = 'utf-8')\n",
    "filecontent = textfile.read()\n",
    "textfile.close()\n",
    "\n",
    "pcount = 1\n",
    "for paragraph in filecontent.split('\\n'):\n",
    "    \n",
    "\n",
    "    scount = 0\n",
    "    print(f'PARAGRAPH {pcount}')\n",
    "    for sentence in paragraph.split('.'):\n",
    "        if(len(sentence) > 0):\n",
    "            print(sentence)\n",
    "            print()\n",
    "        scount += 1\n",
    "    \n",
    "    print(f'paragraph{pcount} has {scount} sentences.')\n",
    "    pcount += 1"
   ]
  },
  {
   "cell_type": "code",
   "execution_count": 11,
   "metadata": {},
   "outputs": [
    {
     "name": "stdout",
     "output_type": "stream",
     "text": [
      "PARAGRAPH 1\n",
      "paragraph1 has 74 sentences.\n",
      "PARAGRAPH 2\n",
      "paragraph2 has 100 sentences.\n",
      "PARAGRAPH 3\n",
      "paragraph3 has 103 sentences.\n",
      "PARAGRAPH 4\n",
      "paragraph4 has 91 sentences.\n",
      "PARAGRAPH 5\n",
      "paragraph5 has 75 sentences.\n"
     ]
    }
   ],
   "source": [
    "#count word\n",
    "textfile = open('test.txt', mode = 'r',encoding = 'utf-8')\n",
    "filecontent = textfile.read()\n",
    "textfile.close()\n",
    "\n",
    "pcount = 1\n",
    "for paragraph in filecontent.split('\\n'):\n",
    "    \n",
    "    wcount = 0\n",
    "    print(f'PARAGRAPH {pcount}')\n",
    "    for word in paragraph.split():\n",
    "        if(len(word) > 0):\n",
    "            wcount += 1\n",
    "    \n",
    "    print(f'paragraph{pcount} has {wcount} words.')\n",
    "    pcount += 1"
   ]
  },
  {
   "cell_type": "code",
   "execution_count": 30,
   "metadata": {},
   "outputs": [
    {
     "name": "stdout",
     "output_type": "stream",
     "text": [
      "Paragraph 1 = election.However, with length 17\n",
      "Paragraph 2 = administration with length 14\n",
      "Paragraph 3 = competitiveness with length 15\n",
      "Paragraph 4 = strengthening with length 13\n",
      "Paragraph 5 = 3.2-trillion-baht with length 17\n"
     ]
    }
   ],
   "source": [
    "textfile = open('test.txt', mode = 'r',encoding = 'utf-8')\n",
    "filecontent = textfile.read()\n",
    "textfile.close()\n",
    "\n",
    "pcount = 1\n",
    "wordsinparagraph = {}\n",
    "for paragraph in filecontent.split('\\n'):\n",
    "    words = set()\n",
    "    for word in paragraph.split():\n",
    "        words.add(word)\n",
    "    wordsinparagraph[pcount] = words\n",
    "    pcount += 1\n",
    "    \n",
    "for p,wset in wordsinparagraph.items():\n",
    "    wlen = {w:len(w) for w in wset}\n",
    "    sortedwordlen = sorted(wlen.items(),key = lambda wl:wl[1],reverse = True)\n",
    "    for word,length in sortedwordlen:\n",
    "        print(f'Paragraph {p} = {word} with length {length}')\n",
    "        break;\n",
    "    \n"
   ]
  },
  {
   "cell_type": "code",
   "execution_count": 49,
   "metadata": {},
   "outputs": [
    {
     "name": "stdout",
     "output_type": "stream",
     "text": [
      "Longest word of paragraph 1 is election.However, with length 17.\n",
      "Longest word of paragraph 2 is election.However, with length 17.\n",
      "Longest word of paragraph 3 is election.However, with length 17.\n",
      "Longest word of paragraph 4 is election.However, with length 17.\n",
      "Longest word of paragraph 5 is election.However, with length 17.\n"
     ]
    }
   ],
   "source": [
    "textfile = open('test.txt', mode = 'r',encoding = 'utf-8')\n",
    "filecontent = textfile.read()\n",
    "textfile.close()\n",
    "\n",
    "pcount = 1\n",
    "checkword = 'a'\n",
    "for paragraph in filecontent.split('\\n'):\n",
    "    wcount = 0\n",
    "    for word in paragraph.split():\n",
    "        if(len(word) > len(checkword)):\n",
    "            checkword = word\n",
    "    print(f'Longest word of paragraph {pcount} is {checkword} with length {len(checkword)}.')\n",
    "    pcount += 1"
   ]
  },
  {
   "cell_type": "code",
   "execution_count": 25,
   "metadata": {},
   "outputs": [
    {
     "name": "stdout",
     "output_type": "stream",
     "text": [
      "['a c', 'a s', 'b f', 'b o', 'b r', 'b s', 'c a', 'd c', 'd c', 'd f', 'd k', 'd q', 'd u', 'e a', 'e e', 'e s', 'f o', 'f x', 'g n', 'h f', 'h n', 'i b', 'i l', 'i q', 'i t', 'i v', 'i x', 'j a', 'j b', 'j o', 'j u', 'k b', 'k l', 'k u', 'k y', 'l b', 'l g', 'l i', 'l j', 'l l', 'l m', 'm a', 'm d', 'm l', 'm p', 'n r', 'n w', 'n w', 'n x', 'n x', 'n y', 'n y', 'n y', 'o j', 'o r', 'p u', 'q q', 'q x', 'r g', 'r t', 'r x', 's c', 's c', 's e', 's n', 's o', 't c', 't c', 't d', 't g', 't j', 't k', 'u g', 'v f', 'v h', 'v j', 'v j', 'v k', 'v l', 'v q', 'v w', 'w a', 'w d', 'w l', 'w o', 'w q', 'w y', 'x m', 'x v', 'y e', 'y q', 'y r', 'y x', 'y z', 'z f', 'z g', 'z i', 'z q', 'z v', 'z z']\n",
      "['z z', 'z v', 'z q', 'z i', 'z g', 'z f', 'y z', 'y x', 'y r', 'y q', 'y e', 'x v', 'x m', 'w y', 'w q', 'w o', 'w l', 'w d', 'w a', 'v w', 'v q', 'v l', 'v k', 'v j', 'v j', 'v h', 'v f', 'u g', 't k', 't j', 't g', 't d', 't c', 't c', 's o', 's n', 's e', 's c', 's c', 'r x', 'r t', 'r g', 'q x', 'q q', 'p u', 'o r', 'o j', 'n y', 'n y', 'n y', 'n x', 'n x', 'n w', 'n w', 'n r', 'm p', 'm l', 'm d', 'm a', 'l m', 'l l', 'l j', 'l i', 'l g', 'l b', 'k y', 'k u', 'k l', 'k b', 'j u', 'j o', 'j b', 'j a', 'i x', 'i v', 'i t', 'i q', 'i l', 'i b', 'h n', 'h f', 'g n', 'f x', 'f o', 'e s', 'e e', 'e a', 'd u', 'd q', 'd k', 'd f', 'd c', 'd c', 'c a', 'b s', 'b r', 'b o', 'b f', 'a s', 'a c']\n"
     ]
    }
   ],
   "source": [
    "import random\n",
    "import string\n",
    "\n",
    "stringlist = [' '.join([random.choice(string.ascii_lowercase),random.choice(string.ascii_lowercase)]) for i in range(100)]\n",
    "stringlist.sort()\n",
    "print(stringlist)\n",
    "stringlist.sort(reverse = True)\n",
    "print(stringlist)"
   ]
  },
  {
   "cell_type": "code",
   "execution_count": 27,
   "metadata": {
    "scrolled": false
   },
   "outputs": [
    {
     "name": "stdout",
     "output_type": "stream",
     "text": [
      "{'qqmxs': 9240, 'boizt': 2507, 'tmvfm': 1906, 'phkgj': 7312, 'okqra': 9325, 'bktni': 3197, 'udyoz': 1249, 'vikgb': 1059, 'ooyng': 9334, 'wnxip': 3185, 'ejmeg': 6474, 'vkijm': 9819, 'apvpm': 9420, 'bcwcp': 9632, 'ezapo': 3701, 'pstfs': 6058, 'omyyv': 6077, 'pmzcq': 2371, 'zfbgp': 8714, 'zdvpx': 7848, 'qatxt': 3904, 'ueusr': 5423, 'etetx': 5827, 'fqnye': 7010, 'oaxca': 4016, 'ksjoh': 8583, 'pklgl': 8358, 'hjwfm': 2033, 'yfnzp': 9418, 'dwsao': 9627, 'lbxme': 8644, 'fkldi': 8527, 'rqgns': 1315, 'fvxtw': 2259, 'gprvq': 7438, 'lsjvf': 7774, 'efqqg': 6556, 'adham': 2612, 'sshew': 3506, 'zuack': 5904, 'mwnzb': 1781, 'hvhmq': 7299, 'xuuuc': 6020, 'knrtn': 7237, 'ikqgf': 3650, 'tfyoc': 3320, 'qdslt': 7385, 'visaz': 9292, 'tjseh': 4632, 'gzysr': 9245, 'rcgvp': 5278, 'kqacq': 1144, 'cjtcj': 6057, 'rphzj': 2082, 'xizzz': 7032, 'rmqpu': 7614, 'trhts': 7485, 'srcpf': 8284, 'kebgf': 1626, 'bqmnk': 6975, 'vimjg': 2485, 'mctze': 5314, 'eoppi': 9576, 'xggpn': 5211, 'dgluq': 8560, 'abqjr': 1091, 'jlakf': 3505, 'dwxkk': 2483, 'rxame': 2039, 'jawpl': 7150, 'dsqxw': 6777, 'xshbm': 7039, 'pynae': 5821, 'tbssz': 3049, 'glafc': 9460, 'qywht': 6914, 'lyjds': 7715, 'aygec': 7976, 'pwvbk': 4317, 'gvbnd': 4224, 'xzgzi': 5082, 'wteyk': 8748, 'fztnt': 9905, 'bkffy': 9951, 'srlju': 9174, 'iwgok': 2577, 'lmsbq': 1887, 'asqek': 4704, 'enkwa': 1328, 'udjdk': 5480, 'zsyia': 6327, 'uazga': 7616, 'qeutd': 2100, 'moege': 8689, 'dzous': 2960, 'nmdss': 8357, 'ybfxk': 4661, 'xknaq': 7857, 'euafx': 6626, 'uduzf': 2869}\n",
      "\n",
      "[('bkffy', 9951), ('fztnt', 9905), ('vkijm', 9819), ('bcwcp', 9632), ('dwsao', 9627), ('eoppi', 9576), ('glafc', 9460), ('apvpm', 9420), ('yfnzp', 9418), ('ooyng', 9334), ('okqra', 9325), ('visaz', 9292), ('gzysr', 9245), ('qqmxs', 9240), ('srlju', 9174), ('wteyk', 8748), ('zfbgp', 8714), ('moege', 8689), ('lbxme', 8644), ('ksjoh', 8583), ('dgluq', 8560), ('fkldi', 8527), ('pklgl', 8358), ('nmdss', 8357), ('srcpf', 8284), ('aygec', 7976), ('xknaq', 7857), ('zdvpx', 7848), ('lsjvf', 7774), ('lyjds', 7715), ('uazga', 7616), ('rmqpu', 7614), ('trhts', 7485), ('gprvq', 7438), ('qdslt', 7385), ('phkgj', 7312), ('hvhmq', 7299), ('knrtn', 7237), ('jawpl', 7150), ('xshbm', 7039), ('xizzz', 7032), ('fqnye', 7010), ('bqmnk', 6975), ('qywht', 6914), ('dsqxw', 6777), ('euafx', 6626), ('efqqg', 6556), ('ejmeg', 6474), ('zsyia', 6327), ('omyyv', 6077), ('pstfs', 6058), ('cjtcj', 6057), ('xuuuc', 6020), ('zuack', 5904), ('etetx', 5827), ('pynae', 5821), ('udjdk', 5480), ('ueusr', 5423), ('mctze', 5314), ('rcgvp', 5278), ('xggpn', 5211), ('xzgzi', 5082), ('asqek', 4704), ('ybfxk', 4661), ('tjseh', 4632), ('pwvbk', 4317), ('gvbnd', 4224), ('oaxca', 4016), ('qatxt', 3904), ('ezapo', 3701), ('ikqgf', 3650), ('sshew', 3506), ('jlakf', 3505), ('tfyoc', 3320), ('bktni', 3197), ('wnxip', 3185), ('tbssz', 3049), ('dzous', 2960), ('uduzf', 2869), ('adham', 2612), ('iwgok', 2577), ('boizt', 2507), ('vimjg', 2485), ('dwxkk', 2483), ('pmzcq', 2371), ('fvxtw', 2259), ('qeutd', 2100), ('rphzj', 2082), ('rxame', 2039), ('hjwfm', 2033), ('tmvfm', 1906), ('lmsbq', 1887), ('mwnzb', 1781), ('kebgf', 1626), ('enkwa', 1328), ('rqgns', 1315), ('udyoz', 1249), ('kqacq', 1144), ('abqjr', 1091), ('vikgb', 1059)]\n"
     ]
    }
   ],
   "source": [
    "datadict = {}\n",
    "for i in range(100):\n",
    "    key = ''.join([random.choice(string.ascii_lowercase) for c in range(5)])\n",
    "    datadict[key] = random.randrange(1000,9999)\n",
    "print(datadict)\n",
    "print()\n",
    "sorteddata = sorted(datadict.items(),key=lambda happy:happy[1],reverse = True)\n",
    "print(sorteddata)"
   ]
  },
  {
   "cell_type": "code",
   "execution_count": 62,
   "metadata": {},
   "outputs": [
    {
     "name": "stdout",
     "output_type": "stream",
     "text": [
      "Longest word of paragraph 1 = election.However, with length 17\n",
      "Longest word of paragraph 2 = administration with length 14\n",
      "Longest word of paragraph 3 = competitiveness with length 15\n",
      "Longest word of paragraph 4 = strengthening with length 13\n",
      "Longest word of paragraph 5 = 3.2-trillion-baht with length 17\n"
     ]
    }
   ],
   "source": [
    "textfile = open('test.txt', mode = 'r',encoding = 'utf-8')\n",
    "filecontent = textfile.read()\n",
    "textfile.close()\n",
    "\n",
    "pcount = 1\n",
    "wordsinparagraph = {}\n",
    "for paragraph in filecontent.split('\\n'):\n",
    "    words = set()\n",
    "    for word in paragraph.split():\n",
    "        words.add(word)\n",
    "    wordsinparagraph[pcount] = words\n",
    "    pcount += 1\n",
    "    \n",
    "for p,wset in wordsinparagraph.items():\n",
    "    wlen = {w:len(w) for w in wset}\n",
    "    sortedwordlen = sorted(wlen.items(),key = lambda wl:wl[1],reverse = True)\n",
    "    for word,length in sortedwordlen:\n",
    "        print(f'Longest word of paragraph {p} = {word} with length {length}')\n",
    "        break;"
   ]
  },
  {
   "cell_type": "code",
   "execution_count": 75,
   "metadata": {},
   "outputs": [
    {
     "name": "stdout",
     "output_type": "stream",
     "text": [
      "this article contains 443 words\n",
      "{'Deputy': 1, 'Prime': 1, 'Minister': 1, 'Somkid': 5, 'Jatusripitak': 1, 'has': 4, 'asked': 1, 'the': 38, 'public': 3, 'not': 6, 'to': 15, 'panic': 2, 'about': 2, 'coronavirus': 2, 'outbreak': 1, 'or': 1, 'economic': 2, 'problems': 1, 'by': 3, 'giving': 1, 'assurances': 1, 'that': 6, 'Thailand': 5, 'will': 3, 'be': 2, 'steered': 1, 'through': 3, 'difficult': 1, 'times.': 1, 'Addressing': 1, 'Post': 1, 'Today': 1, 'Economic': 1, 'Forum': 1, '2020': 3, 'on': 7, 'Thursday,': 1, 'Mr': 4, 'said': 3, \"Thailand's\": 2, 'economy': 6, 'been': 4, 'hit': 2, 'storm': 7, 'after': 2, 'for': 4, 'almost': 1, 'one': 1, 'year': 2, 'since': 2, 'March': 1, '24': 1, 'general': 1, 'election.However,': 1, 'he': 5, 'expressed': 1, 'confidence': 1, 'country': 1, 'eventually': 1, 'weather': 1, 'all': 2, 'storms.': 1, 'The': 5, 'government': 1, 'does': 1, 'want': 2, 'panic.': 1, 'We': 1, 'you': 1, 'believe': 1, 'get': 2, 'them': 2, '[storms],': 1, 'deputy': 1, 'prime': 1, 'minister.': 1, 'first': 1, 'faced': 1, 'was': 5, 'seven-month': 1, 'delay': 1, 'in': 9, 'formation': 1, 'of': 8, 'post-election': 1, 'government.': 1, 'During': 1, 'this': 1, 'period,': 1, 'caretaker': 1, 'administration': 1, 'had': 3, 'difficulty': 1, 'spending': 1, 'budgets': 1, 'state': 1, 'investments': 1, 'were': 2, 'stalled': 1, 'as': 3, 'agencies': 1, 'waited': 1, 'new': 1, 'government,': 1, 'said.': 4, 'second': 1, 'affect': 1, 'US-China': 1, 'trade': 1, 'war': 1, 'which': 5, 'a': 3, 'severe': 1, 'impact': 1, 'Thai': 3, 'exports,': 1, 'particularly': 1, 'automobiles,': 1, 'electronics': 1, 'and': 5, 'chemicals,': 1, 'thereby': 1, 'causing': 1, 'domestic': 2, 'weaken.': 1, 'In': 1, 'light': 1, 'this,': 2, 'is': 6, 'need': 1, 'restructuring': 1, 'achieve': 1, 'balance': 2, 'between': 2, 'dependence': 1, 'global': 1, 'stable': 1, 'growth,': 1, 'added': 1, 'manufacturing': 1, 'sector': 1, 'must': 3, 'also': 1, 'revamped': 1, 'order': 1, 'make': 1, 'use': 1, 'digital': 1, 'technology': 1, 'develop': 1, 'innovative': 1, 'products': 1, 'improve': 2, 'competitiveness': 1, 'export': 1, 'sector.': 1, 'recession.': 1, 'However,': 3, 'it': 3, 'necessary': 1, 'create': 1, 'internal': 1, 'external': 1, 'economy,': 1, 'I': 1, 'have': 3, 'working': 1, 'along.': 1, 'If': 1, 'we': 1, 'done': 1, 'it,': 1, 'would': 1, 'much': 1, 'worse,': 1, 'third': 1, 'strengthening': 1, 'baht': 2, 'dealt': 1, 'an': 1, 'additional': 1, 'blow': 1, 'exports.': 1, 'now': 1, 'begun': 1, 'weaken,': 1, 'should': 3, 'ease': 1, \"exporters'\": 1, 'concerns,': 1, 'Despite': 1, 'operators': 1, 'rely': 1, 'solely': 1, 'currency': 1, 'exchange': 1, 'rates': 1, 'strive': 1, 'themselves.': 1, 'Yet': 1, 'another': 2, 'Thailand,': 1, 'well': 1, 'world,': 1, 'outbreak,': 1, 'said,': 1, 'adding': 1, 'because': 2, 'experienced': 1, 'several': 1, 'epidemics': 1, 'past': 1, 'managed': 1, 'end.': 1, 'Delays': 1, 'disbursement': 1, '3.2-trillion-baht': 1, 'budget': 2, 'fiscal': 2, 'rocking': 1, 'country,': 1, 'added.': 1, 'He': 1, 'disbursed': 1, 'Oct': 1, '1': 1, 'last': 1, 'year,': 1, 'beginning': 1, 'year.': 1, 'put': 1, 'hold': 1, 'questions': 1, 'raised': 1, 'its': 1, 'validity': 1, 'revealed': 1, 'some': 1, 'coalition': 1, 'lawmakers': 1, 'voted': 1, 'Budget': 1, 'Bill': 1, 'without': 1, 'being': 1, 'present': 1, 'chamber.': 1}\n",
      "\n",
      "[('1', 1), ('2020', 3), ('24', 1), ('3.2-trillion-baht', 1), ('Addressing', 1), ('Bill', 1), ('Budget', 1), ('Delays', 1), ('Deputy', 1), ('Despite', 1), ('During', 1), ('Economic', 1), ('Forum', 1), ('He', 1), ('However,', 3), ('I', 1), ('If', 1), ('In', 1), ('Jatusripitak', 1), ('March', 1), ('Minister', 1), ('Mr', 4), ('Oct', 1), ('Post', 1), ('Prime', 1), ('Somkid', 5), ('Thai', 3), ('Thailand', 5), (\"Thailand's\", 2), ('Thailand,', 1), ('The', 5), ('Thursday,', 1), ('Today', 1), ('US-China', 1), ('We', 1), ('Yet', 1), ('[storms],', 1), ('a', 3), ('about', 2), ('achieve', 1), ('added', 1), ('added.', 1), ('adding', 1), ('additional', 1), ('administration', 1), ('affect', 1), ('after', 2), ('agencies', 1), ('all', 2), ('almost', 1), ('along.', 1), ('also', 1), ('an', 1), ('and', 5), ('another', 2), ('as', 3), ('asked', 1), ('assurances', 1), ('automobiles,', 1), ('baht', 2), ('balance', 2), ('be', 2), ('because', 2), ('been', 4), ('beginning', 1), ('begun', 1), ('being', 1), ('believe', 1), ('between', 2), ('blow', 1), ('budget', 2), ('budgets', 1), ('by', 3), ('caretaker', 1), ('causing', 1), ('chamber.', 1), ('chemicals,', 1), ('coalition', 1), ('competitiveness', 1), ('concerns,', 1), ('confidence', 1), ('coronavirus', 2), ('country', 1), ('country,', 1), ('create', 1), ('currency', 1), ('dealt', 1), ('delay', 1), ('dependence', 1), ('deputy', 1), ('develop', 1), ('difficult', 1), ('difficulty', 1), ('digital', 1), ('disbursed', 1), ('disbursement', 1), ('does', 1), ('domestic', 2), ('done', 1), ('ease', 1), ('economic', 2), ('economy', 6), ('economy,', 1), ('election.However,', 1), ('electronics', 1), ('end.', 1), ('epidemics', 1), ('eventually', 1), ('exchange', 1), ('experienced', 1), ('export', 1), (\"exporters'\", 1), ('exports,', 1), ('exports.', 1), ('expressed', 1), ('external', 1), ('faced', 1), ('first', 1), ('fiscal', 2), ('for', 4), ('formation', 1), ('general', 1), ('get', 2), ('giving', 1), ('global', 1), ('government', 1), ('government,', 1), ('government.', 1), ('growth,', 1), ('had', 3), ('has', 4), ('have', 3), ('he', 5), ('hit', 2), ('hold', 1), ('impact', 1), ('improve', 2), ('in', 9), ('innovative', 1), ('internal', 1), ('investments', 1), ('is', 6), ('it', 3), ('it,', 1), ('its', 1), ('last', 1), ('lawmakers', 1), ('light', 1), ('make', 1), ('managed', 1), ('manufacturing', 1), ('minister.', 1), ('much', 1), ('must', 3), ('necessary', 1), ('need', 1), ('new', 1), ('not', 6), ('now', 1), ('of', 8), ('on', 7), ('one', 1), ('operators', 1), ('or', 1), ('order', 1), ('outbreak', 1), ('outbreak,', 1), ('panic', 2), ('panic.', 1), ('particularly', 1), ('past', 1), ('period,', 1), ('post-election', 1), ('present', 1), ('prime', 1), ('problems', 1), ('products', 1), ('public', 3), ('put', 1), ('questions', 1), ('raised', 1), ('rates', 1), ('recession.', 1), ('rely', 1), ('restructuring', 1), ('revamped', 1), ('revealed', 1), ('rocking', 1), ('said', 3), ('said,', 1), ('said.', 4), ('second', 1), ('sector', 1), ('sector.', 1), ('seven-month', 1), ('several', 1), ('severe', 1), ('should', 3), ('since', 2), ('solely', 1), ('some', 1), ('spending', 1), ('stable', 1), ('stalled', 1), ('state', 1), ('steered', 1), ('storm', 7), ('storms.', 1), ('strengthening', 1), ('strive', 1), ('technology', 1), ('that', 6), ('the', 38), ('them', 2), ('themselves.', 1), ('thereby', 1), ('third', 1), ('this', 1), ('this,', 2), ('through', 3), ('times.', 1), ('to', 15), ('trade', 1), ('use', 1), ('validity', 1), ('voted', 1), ('waited', 1), ('want', 2), ('war', 1), ('was', 5), ('we', 1), ('weaken,', 1), ('weaken.', 1), ('weather', 1), ('well', 1), ('were', 2), ('which', 5), ('will', 3), ('without', 1), ('working', 1), ('world,', 1), ('worse,', 1), ('would', 1), ('year', 2), ('year,', 1), ('year.', 1), ('you', 1)]\n"
     ]
    }
   ],
   "source": [
    "textfile = open('test.txt', mode = 'r',encoding = 'utf-8')\n",
    "filecontent = textfile.read()\n",
    "textfile.close()\n",
    "\n",
    "words = []\n",
    "for word in filecontent.split():\n",
    "    words.append(word)\n",
    "    \n",
    "print(f'this article contains {len(words)} words')\n",
    "wordset = set(words)\n",
    "worddict = {word:words.count(word) for word in words}\n",
    "print(worddict)\n",
    "print()\n",
    "sortedwordfreq = sorted(worddict.items(),key = lambda wf:wf[0])\n",
    "print(sortedwordfreq)"
   ]
  },
  {
   "cell_type": "code",
   "execution_count": 71,
   "metadata": {},
   "outputs": [
    {
     "name": "stdout",
     "output_type": "stream",
     "text": [
      "this article contains 278 words\n",
      "{'deputy': 2, 'prime': 2, 'minister': 2, 'somkid': 5, 'jatusripitak': 1, 'asked': 1, 'public': 3, 'panic': 3, 'about': 2, 'coronavirus': 2, 'outbreak': 2, 'economic': 3, 'problems': 1, 'giving': 1, 'assurances': 1, 'that': 6, 'thailand': 6, 'will': 3, 'steered': 1, 'through': 3, 'difficult': 1, 'times': 1, 'addressing': 1, 'post': 1, 'today': 1, 'forum': 1, '2020': 3, 'thursday': 1, 'said': 8, \"thailand's\": 2, 'economy': 7, 'been': 4, 'storm': 7, 'after': 2, 'almost': 1, 'year': 4, 'since': 2, 'march': 1, 'general': 1, 'electionhowever': 1, 'expressed': 1, 'confidence': 1, 'country': 2, 'eventually': 1, 'weather': 1, 'storms': 1, 'government': 3, 'does': 1, 'want': 2, 'believe': 1, 'them': 2, '[storms]': 1, 'first': 1, 'faced': 1, 'seven-month': 1, 'delay': 1, 'formation': 1, 'post-election': 1, 'during': 1, 'this': 3, 'period': 1, 'caretaker': 1, 'administration': 1, 'difficulty': 1, 'spending': 1, 'budgets': 1, 'state': 1, 'investments': 1, 'were': 2, 'stalled': 1, 'agencies': 1, 'waited': 1, 'second': 1, 'affect': 1, 'us-china': 1, 'trade': 1, 'which': 5, 'severe': 1, 'impact': 1, 'thai': 3, 'exports': 2, 'particularly': 1, 'automobiles': 1, 'electronics': 1, 'chemicals': 1, 'thereby': 1, 'causing': 1, 'domestic': 2, 'weaken': 2, 'light': 1, 'need': 1, 'restructuring': 1, 'achieve': 1, 'balance': 2, 'between': 2, 'dependence': 1, 'global': 1, 'stable': 1, 'growth': 1, 'added': 2, 'manufacturing': 1, 'sector': 2, 'must': 3, 'also': 1, 'revamped': 1, 'order': 1, 'make': 1, 'digital': 1, 'technology': 1, 'develop': 1, 'innovative': 1, 'products': 1, 'improve': 2, 'competitiveness': 1, 'export': 1, 'recession': 1, 'however': 3, 'necessary': 1, 'create': 1, 'internal': 1, 'external': 1, 'have': 3, 'working': 1, 'along': 1, 'done': 1, 'would': 1, 'much': 1, 'worse': 1, 'third': 1, 'strengthening': 1, 'baht': 2, 'dealt': 1, 'additional': 1, 'blow': 1, 'begun': 1, 'should': 3, 'ease': 1, \"exporters'\": 1, 'concerns': 1, 'despite': 1, 'operators': 1, 'rely': 1, 'solely': 1, 'currency': 1, 'exchange': 1, 'rates': 1, 'strive': 1, 'themselves': 1, 'another': 2, 'well': 1, 'world': 1, 'adding': 1, 'because': 2, 'experienced': 1, 'several': 1, 'epidemics': 1, 'past': 1, 'managed': 1, 'end': 1, 'delays': 1, 'disbursement': 1, '32-trillion-baht': 1, 'budget': 3, 'fiscal': 2, 'rocking': 1, 'disbursed': 1, 'last': 1, 'beginning': 1, 'hold': 1, 'questions': 1, 'raised': 1, 'validity': 1, 'revealed': 1, 'some': 1, 'coalition': 1, 'lawmakers': 1, 'voted': 1, 'bill': 1, 'without': 1, 'being': 1, 'present': 1, 'chamber': 1}\n",
      "\n",
      "[('year', 4), ('would', 1), ('worse', 1), ('world', 1), ('working', 1), ('without', 1), ('will', 3), ('which', 5), ('were', 2), ('well', 1), ('weather', 1), ('weaken', 2), ('want', 2), ('waited', 1), ('voted', 1), ('validity', 1), ('us-china', 1), ('trade', 1), ('today', 1), ('times', 1), ('thursday', 1), ('through', 3), ('this', 3), ('third', 1), ('thereby', 1), ('themselves', 1), ('them', 2), ('that', 6), (\"thailand's\", 2), ('thailand', 6), ('thai', 3), ('technology', 1), ('strive', 1), ('strengthening', 1), ('storms', 1), ('storm', 7), ('steered', 1), ('state', 1), ('stalled', 1), ('stable', 1), ('spending', 1), ('somkid', 5), ('some', 1), ('solely', 1), ('since', 2), ('should', 3), ('severe', 1), ('several', 1), ('seven-month', 1), ('sector', 2), ('second', 1), ('said', 8), ('rocking', 1), ('revealed', 1), ('revamped', 1), ('restructuring', 1), ('rely', 1), ('recession', 1), ('rates', 1), ('raised', 1), ('questions', 1), ('public', 3), ('products', 1), ('problems', 1), ('prime', 2), ('present', 1), ('post-election', 1), ('post', 1), ('period', 1), ('past', 1), ('particularly', 1), ('panic', 3), ('outbreak', 2), ('order', 1), ('operators', 1), ('need', 1), ('necessary', 1), ('must', 3), ('much', 1), ('minister', 2), ('march', 1), ('manufacturing', 1), ('managed', 1), ('make', 1), ('light', 1), ('lawmakers', 1), ('last', 1), ('jatusripitak', 1), ('investments', 1), ('internal', 1), ('innovative', 1), ('improve', 2), ('impact', 1), ('however', 3), ('hold', 1), ('have', 3), ('growth', 1), ('government', 3), ('global', 1), ('giving', 1), ('general', 1), ('forum', 1), ('formation', 1), ('fiscal', 2), ('first', 1), ('faced', 1), ('external', 1), ('expressed', 1), ('exports', 2), (\"exporters'\", 1), ('export', 1), ('experienced', 1), ('exchange', 1), ('eventually', 1), ('epidemics', 1), ('end', 1), ('electronics', 1), ('electionhowever', 1), ('economy', 7), ('economic', 3), ('ease', 1), ('during', 1), ('done', 1), ('domestic', 2), ('does', 1), ('disbursement', 1), ('disbursed', 1), ('digital', 1), ('difficulty', 1), ('difficult', 1), ('develop', 1), ('despite', 1), ('deputy', 2), ('dependence', 1), ('delays', 1), ('delay', 1), ('dealt', 1), ('currency', 1), ('create', 1), ('country', 2), ('coronavirus', 2), ('confidence', 1), ('concerns', 1), ('competitiveness', 1), ('coalition', 1), ('chemicals', 1), ('chamber', 1), ('causing', 1), ('caretaker', 1), ('budgets', 1), ('budget', 3), ('blow', 1), ('bill', 1), ('between', 2), ('believe', 1), ('being', 1), ('begun', 1), ('beginning', 1), ('been', 4), ('because', 2), ('balance', 2), ('baht', 2), ('automobiles', 1), ('assurances', 1), ('asked', 1), ('another', 2), ('also', 1), ('along', 1), ('almost', 1), ('agencies', 1), ('after', 2), ('affect', 1), ('administration', 1), ('addressing', 1), ('additional', 1), ('adding', 1), ('added', 2), ('achieve', 1), ('about', 2), ('[storms]', 1), ('32-trillion-baht', 1), ('2020', 3)]\n"
     ]
    }
   ],
   "source": [
    "textfile = open('test.txt', mode = 'r',encoding = 'utf-8')\n",
    "filecontent = textfile.read()\n",
    "textfile.close()\n",
    "\n",
    "words = []\n",
    "for word in filecontent.split():\n",
    "    if len(word) >= 4: \n",
    "        word = word.lower()\n",
    "        word = word.replace(',','')\n",
    "        word = word.replace('.','')\n",
    "        words.append(word)\n",
    "    \n",
    "print(f'this article contains {len(words)} words')\n",
    "wordset = set(words)\n",
    "worddict = {word:words.count(word) for word in words}\n",
    "print(worddict)\n",
    "print()\n",
    "sortedwordfreq = sorted(worddict.items(),key = lambda wf:wf[0],reverse = True)\n",
    "print(sortedwordfreq)"
   ]
  },
  {
   "cell_type": "code",
   "execution_count": 70,
   "metadata": {
    "scrolled": false
   },
   "outputs": [
    {
     "name": "stdout",
     "output_type": "stream",
     "text": [
      "this article contains 278 words\n",
      "{'deputy': 2, 'prime': 2, 'minister': 2, 'somkid': 5, 'jatusripitak': 1, 'asked': 1, 'public': 3, 'panic': 3, 'about': 2, 'coronavirus': 2, 'outbreak': 2, 'economic': 3, 'problems': 1, 'giving': 1, 'assurances': 1, 'that': 6, 'thailand': 6, 'will': 3, 'steered': 1, 'through': 3, 'difficult': 1, 'times': 1, 'addressing': 1, 'post': 1, 'today': 1, 'forum': 1, '2020': 3, 'thursday': 1, 'said': 8, \"thailand's\": 2, 'economy': 7, 'been': 4, 'storm': 7, 'after': 2, 'almost': 1, 'year': 4, 'since': 2, 'march': 1, 'general': 1, 'electionhowever': 1, 'expressed': 1, 'confidence': 1, 'country': 2, 'eventually': 1, 'weather': 1, 'storms': 1, 'government': 3, 'does': 1, 'want': 2, 'believe': 1, 'them': 2, '[storms]': 1, 'first': 1, 'faced': 1, 'seven-month': 1, 'delay': 1, 'formation': 1, 'post-election': 1, 'during': 1, 'this': 3, 'period': 1, 'caretaker': 1, 'administration': 1, 'difficulty': 1, 'spending': 1, 'budgets': 1, 'state': 1, 'investments': 1, 'were': 2, 'stalled': 1, 'agencies': 1, 'waited': 1, 'second': 1, 'affect': 1, 'us-china': 1, 'trade': 1, 'which': 5, 'severe': 1, 'impact': 1, 'thai': 3, 'exports': 2, 'particularly': 1, 'automobiles': 1, 'electronics': 1, 'chemicals': 1, 'thereby': 1, 'causing': 1, 'domestic': 2, 'weaken': 2, 'light': 1, 'need': 1, 'restructuring': 1, 'achieve': 1, 'balance': 2, 'between': 2, 'dependence': 1, 'global': 1, 'stable': 1, 'growth': 1, 'added': 2, 'manufacturing': 1, 'sector': 2, 'must': 3, 'also': 1, 'revamped': 1, 'order': 1, 'make': 1, 'digital': 1, 'technology': 1, 'develop': 1, 'innovative': 1, 'products': 1, 'improve': 2, 'competitiveness': 1, 'export': 1, 'recession': 1, 'however': 3, 'necessary': 1, 'create': 1, 'internal': 1, 'external': 1, 'have': 3, 'working': 1, 'along': 1, 'done': 1, 'would': 1, 'much': 1, 'worse': 1, 'third': 1, 'strengthening': 1, 'baht': 2, 'dealt': 1, 'additional': 1, 'blow': 1, 'begun': 1, 'should': 3, 'ease': 1, \"exporters'\": 1, 'concerns': 1, 'despite': 1, 'operators': 1, 'rely': 1, 'solely': 1, 'currency': 1, 'exchange': 1, 'rates': 1, 'strive': 1, 'themselves': 1, 'another': 2, 'well': 1, 'world': 1, 'adding': 1, 'because': 2, 'experienced': 1, 'several': 1, 'epidemics': 1, 'past': 1, 'managed': 1, 'end': 1, 'delays': 1, 'disbursement': 1, '32-trillion-baht': 1, 'budget': 3, 'fiscal': 2, 'rocking': 1, 'disbursed': 1, 'last': 1, 'beginning': 1, 'hold': 1, 'questions': 1, 'raised': 1, 'validity': 1, 'revealed': 1, 'some': 1, 'coalition': 1, 'lawmakers': 1, 'voted': 1, 'bill': 1, 'without': 1, 'being': 1, 'present': 1, 'chamber': 1}\n",
      "\n",
      "[('year', 4), ('would', 1), ('worse', 1), ('world', 1), ('working', 1), ('without', 1), ('will', 3), ('which', 5), ('were', 2), ('well', 1), ('weather', 1), ('weaken', 2), ('want', 2), ('waited', 1), ('voted', 1), ('validity', 1), ('us-china', 1), ('trade', 1), ('today', 1), ('times', 1), ('thursday', 1), ('through', 3), ('this', 3), ('third', 1), ('thereby', 1), ('themselves', 1), ('them', 2), ('that', 6), (\"thailand's\", 2), ('thailand', 6), ('thai', 3), ('technology', 1), ('strive', 1), ('strengthening', 1), ('storms', 1), ('storm', 7), ('steered', 1), ('state', 1), ('stalled', 1), ('stable', 1), ('spending', 1), ('somkid', 5), ('some', 1), ('solely', 1), ('since', 2), ('should', 3), ('severe', 1), ('several', 1), ('seven-month', 1), ('sector', 2), ('second', 1), ('said', 8), ('rocking', 1), ('revealed', 1), ('revamped', 1), ('restructuring', 1), ('rely', 1), ('recession', 1), ('rates', 1), ('raised', 1), ('questions', 1), ('public', 3), ('products', 1), ('problems', 1), ('prime', 2), ('present', 1), ('post-election', 1), ('post', 1), ('period', 1), ('past', 1), ('particularly', 1), ('panic', 3), ('outbreak', 2), ('order', 1), ('operators', 1), ('need', 1), ('necessary', 1), ('must', 3), ('much', 1), ('minister', 2), ('march', 1), ('manufacturing', 1), ('managed', 1), ('make', 1), ('light', 1), ('lawmakers', 1), ('last', 1), ('jatusripitak', 1), ('investments', 1), ('internal', 1), ('innovative', 1), ('improve', 2), ('impact', 1), ('however', 3), ('hold', 1), ('have', 3), ('growth', 1), ('government', 3), ('global', 1), ('giving', 1), ('general', 1), ('forum', 1), ('formation', 1), ('fiscal', 2), ('first', 1), ('faced', 1), ('external', 1), ('expressed', 1), ('exports', 2), (\"exporters'\", 1), ('export', 1), ('experienced', 1), ('exchange', 1), ('eventually', 1), ('epidemics', 1), ('end', 1), ('electronics', 1), ('electionhowever', 1), ('economy', 7), ('economic', 3), ('ease', 1), ('during', 1), ('done', 1), ('domestic', 2), ('does', 1), ('disbursement', 1), ('disbursed', 1), ('digital', 1), ('difficulty', 1), ('difficult', 1), ('develop', 1), ('despite', 1), ('deputy', 2), ('dependence', 1), ('delays', 1), ('delay', 1), ('dealt', 1), ('currency', 1), ('create', 1), ('country', 2), ('coronavirus', 2), ('confidence', 1), ('concerns', 1), ('competitiveness', 1), ('coalition', 1), ('chemicals', 1), ('chamber', 1), ('causing', 1), ('caretaker', 1), ('budgets', 1), ('budget', 3), ('blow', 1), ('bill', 1), ('between', 2), ('believe', 1), ('being', 1), ('begun', 1), ('beginning', 1), ('been', 4), ('because', 2), ('balance', 2), ('baht', 2), ('automobiles', 1), ('assurances', 1), ('asked', 1), ('another', 2), ('also', 1), ('along', 1), ('almost', 1), ('agencies', 1), ('after', 2), ('affect', 1), ('administration', 1), ('addressing', 1), ('additional', 1), ('adding', 1), ('added', 2), ('achieve', 1), ('about', 2), ('[storms]', 1), ('32-trillion-baht', 1), ('2020', 3)]\n"
     ]
    }
   ],
   "source": [
    "\n",
    "textfile = open('test.txt', mode = 'r',encoding = 'utf-8')\n",
    "filecontent = textfile.read()\n",
    "textfile.close()\n",
    "\n",
    "words = []\n",
    "for word in filecontent.split():\n",
    "    if len(word) >= 4: \n",
    "        word = word.lower()\n",
    "        word = word.replace(',','')\n",
    "        word = word.replace('.','')\n",
    "        words.append(word)\n",
    "    \n",
    "print(f'this article contains {len(words)} words')\n",
    "wordset = set(words)\n",
    "worddict = {word:words.count(word) for word in words}\n",
    "print(worddict)\n",
    "print()\n",
    "sortedwordfreq = sorted(worddict.items(),key = lambda wf:wf[0],reverse = True)\n",
    "print(sortedwordfreq)\n",
    "\n",
    "datafile  = open('today.csv' , mode = 'w' , encoding = 'utf-8')\n",
    "for word,freq in sortedwordfreq:\n",
    "    arow = [word,str(freq)]\n",
    "#    print(','.join(arow))\n",
    "    datafile.write(','.join(arow) +'\\n')\n",
    "datafile.close()"
   ]
  },
  {
   "cell_type": "code",
   "execution_count": 78,
   "metadata": {},
   "outputs": [
    {
     "name": "stdout",
     "output_type": "stream",
     "text": [
      "1....a....x....y\n",
      "1.a.x.y\n",
      "1axy\n"
     ]
    }
   ],
   "source": [
    "alist = ['1','a','x','y']\n",
    "print('....'.join(alist))\n",
    "print('.'.join(alist))\n",
    "print(''.join(alist))"
   ]
  },
  {
   "cell_type": "code",
   "execution_count": 9,
   "metadata": {},
   "outputs": [],
   "source": [
    "import random \n",
    "import numpy\n",
    "\n",
    "def genData():\n",
    "  students = dict()\n",
    "  for i in range(100):\n",
    "    SID = '624' + str(i).zfill(4)+'26'\n",
    "    students[SID] = ['Province-'+str(random.randrange(1,51)).zfill(2), numpy.random.choice(a=['Female','Male','N/A'],p=[0.55,0.44,0.01])]\n",
    "  return students\n",
    "\n",
    "data=genData()\n",
    "\n",
    "studentCSV = open('stu_id.csv' , mode = 'w' , encoding = 'utf-8')\n",
    "studentCSV.write('STUDENT_ID,PROVINCE,GENDER'+'\\n') #csv header row\n",
    "for SID,detail in data.items():\n",
    "    studentCSV.write(','.join([SID,detail[0],detail[1]])+'\\n')\n",
    "studentCSV.close()"
   ]
  },
  {
   "cell_type": "code",
   "execution_count": 32,
   "metadata": {},
   "outputs": [
    {
     "name": "stdout",
     "output_type": "stream",
     "text": [
      "[['624000026', 'Province-09', 'Female'], ['624000126', 'Province-17', 'Male'], ['624000226', 'Province-36', 'Male'], ['624000326', 'Province-27', 'Male'], ['624000426', 'Province-31', 'Female'], ['624000526', 'Province-24', 'Female'], ['624000626', 'Province-43', 'Male'], ['624000726', 'Province-48', 'Male'], ['624000826', 'Province-14', 'Male'], ['624000926', 'Province-32', 'Male'], ['624001026', 'Province-37', 'Male'], ['624001126', 'Province-42', 'Female'], ['624001226', 'Province-19', 'Female'], ['624001326', 'Province-41', 'Female'], ['624001426', 'Province-27', 'Female'], ['624001526', 'Province-02', 'Female'], ['624001626', 'Province-44', 'Female'], ['624001726', 'Province-46', 'Male'], ['624001826', 'Province-12', 'Male'], ['624001926', 'Province-13', 'Female'], ['624002026', 'Province-30', 'Female'], ['624002126', 'Province-48', 'Female'], ['624002226', 'Province-33', 'Male'], ['624002326', 'Province-29', 'Male'], ['624002426', 'Province-01', 'Female'], ['624002526', 'Province-35', 'Female'], ['624002626', 'Province-34', 'Female'], ['624002726', 'Province-38', 'Female'], ['624002826', 'Province-19', 'Female'], ['624002926', 'Province-14', 'Female'], ['624003026', 'Province-11', 'Male'], ['624003126', 'Province-33', 'Male'], ['624003226', 'Province-45', 'Female'], ['624003326', 'Province-37', 'Male'], ['624003426', 'Province-46', 'Female'], ['624003526', 'Province-48', 'Female'], ['624003626', 'Province-08', 'Female'], ['624003726', 'Province-48', 'Male'], ['624003826', 'Province-27', 'Male'], ['624003926', 'Province-19', 'Female'], ['624004026', 'Province-29', 'Female'], ['624004126', 'Province-01', 'Male'], ['624004226', 'Province-02', 'Female'], ['624004326', 'Province-18', 'Male'], ['624004426', 'Province-37', 'Male'], ['624004526', 'Province-09', 'Male'], ['624004626', 'Province-13', 'Male'], ['624004726', 'Province-19', 'Female'], ['624004826', 'Province-30', 'Female'], ['624004926', 'Province-39', 'Female'], ['624005026', 'Province-50', 'Female'], ['624005126', 'Province-20', 'Female'], ['624005226', 'Province-34', 'Male'], ['624005326', 'Province-19', 'Male'], ['624005426', 'Province-17', 'Female'], ['624005526', 'Province-33', 'Female'], ['624005626', 'Province-31', 'Female'], ['624005726', 'Province-22', 'Female'], ['624005826', 'Province-21', 'Female'], ['624005926', 'Province-42', 'Female'], ['624006026', 'Province-41', 'Female'], ['624006126', 'Province-18', 'Male'], ['624006226', 'Province-33', 'Female'], ['624006326', 'Province-09', 'Male'], ['624006426', 'Province-11', 'Female'], ['624006526', 'Province-39', 'Male'], ['624006626', 'Province-21', 'Male'], ['624006726', 'Province-11', 'Male'], ['624006826', 'Province-15', 'Female'], ['624006926', 'Province-40', 'Male'], ['624007026', 'Province-45', 'Male'], ['624007126', 'Province-31', 'Female'], ['624007226', 'Province-18', 'Male'], ['624007326', 'Province-47', 'Female'], ['624007426', 'Province-23', 'Female'], ['624007526', 'Province-03', 'Female'], ['624007626', 'Province-40', 'Male'], ['624007726', 'Province-33', 'Female'], ['624007826', 'Province-04', 'Male'], ['624007926', 'Province-32', 'Female'], ['624008026', 'Province-28', 'Female'], ['624008126', 'Province-28', 'Male'], ['624008226', 'Province-19', 'Female'], ['624008326', 'Province-08', 'Male'], ['624008426', 'Province-10', 'N/A'], ['624008526', 'Province-40', 'Female'], ['624008626', 'Province-44', 'Male'], ['624008726', 'Province-14', 'Male'], ['624008826', 'Province-18', 'Female'], ['624008926', 'Province-33', 'Female'], ['624009026', 'Province-29', 'Male'], ['624009126', 'Province-11', 'Female'], ['624009226', 'Province-38', 'Female'], ['624009326', 'Province-14', 'Female'], ['624009426', 'Province-22', 'Male'], ['624009526', 'Province-48', 'Female'], ['624009626', 'Province-23', 'Female'], ['624009726', 'Province-49', 'Male'], ['624009826', 'Province-27', 'Female'], ['624009926', 'Province-33', 'Female']]\n"
     ]
    }
   ],
   "source": [
    "import random \n",
    "import numpy\n",
    "\n",
    "def genData():\n",
    "  students = dict()\n",
    "  for i in range(100):\n",
    "    SID = '624' + str(i).zfill(4)+'26'\n",
    "    students[SID] = ['Province-'+str(random.randrange(1,51)).zfill(2), numpy.random.choice(a=['Female','Male','N/A'],p=[0.55,0.44,0.01])]\n",
    "  return students\n",
    "\n",
    "data=genData()\n",
    "\n",
    "studentCSV = open('stu_id.csv' , mode = 'w' , encoding = 'utf-8')\n",
    "studentCSV.write('STUDENT_ID,PROVINCE,GENDER'+'\\n') #csv header row\n",
    "for SID,detail in data.items():\n",
    "    studentCSV.write(','.join([SID,detail[0],detail[1]])+'\\n')\n",
    "studentCSV.close()\n",
    "\n",
    "csvfile = open('stu_id.csv' , mode = 'r' , encoding = 'utf-8')\n",
    "rows = csvfile.read()\n",
    "csvfile.close()\n",
    "\n",
    "classroom = []\n",
    "rownumber = 1\n",
    "for row in rows.split():\n",
    "    if rownumber > 1:\n",
    "        astudent = []\n",
    "        for element in row.split(','):\n",
    "            astudent.append(element)\n",
    "        classroom.append(astudent)\n",
    "    rownumber += 1\n",
    "print(classroom)"
   ]
  },
  {
   "cell_type": "code",
   "execution_count": 31,
   "metadata": {},
   "outputs": [
    {
     "name": "stdout",
     "output_type": "stream",
     "text": [
      "{'624000026': ['Province-16', 'Female'], '624000126': ['Province-31', 'Male'], '624000226': ['Province-04', 'Female'], '624000326': ['Province-17', 'Female'], '624000426': ['Province-01', 'Female'], '624000526': ['Province-03', 'Female'], '624000626': ['Province-22', 'Female'], '624000726': ['Province-27', 'Female'], '624000826': ['Province-20', 'Male'], '624000926': ['Province-24', 'Male'], '624001026': ['Province-09', 'Male'], '624001126': ['Province-21', 'Female'], '624001226': ['Province-21', 'Male'], '624001326': ['Province-41', 'Male'], '624001426': ['Province-47', 'Male'], '624001526': ['Province-24', 'Female'], '624001626': ['Province-15', 'Female'], '624001726': ['Province-22', 'Male'], '624001826': ['Province-32', 'Male'], '624001926': ['Province-09', 'Female'], '624002026': ['Province-07', 'Male'], '624002126': ['Province-15', 'Male'], '624002226': ['Province-28', 'Male'], '624002326': ['Province-22', 'Female'], '624002426': ['Province-40', 'Female'], '624002526': ['Province-13', 'Male'], '624002626': ['Province-40', 'Female'], '624002726': ['Province-01', 'Male'], '624002826': ['Province-13', 'Female'], '624002926': ['Province-04', 'Female'], '624003026': ['Province-45', 'Female'], '624003126': ['Province-17', 'Female'], '624003226': ['Province-24', 'Female'], '624003326': ['Province-43', 'Female'], '624003426': ['Province-40', 'Female'], '624003526': ['Province-16', 'Female'], '624003626': ['Province-19', 'Male'], '624003726': ['Province-31', 'Male'], '624003826': ['Province-12', 'Female'], '624003926': ['Province-32', 'Male'], '624004026': ['Province-43', 'Male'], '624004126': ['Province-37', 'Male'], '624004226': ['Province-20', 'Female'], '624004326': ['Province-02', 'Female'], '624004426': ['Province-41', 'Female'], '624004526': ['Province-32', 'Female'], '624004626': ['Province-14', 'Female'], '624004726': ['Province-31', 'Female'], '624004826': ['Province-28', 'Female'], '624004926': ['Province-02', 'Female'], '624005026': ['Province-20', 'Male'], '624005126': ['Province-35', 'Male'], '624005226': ['Province-41', 'Female'], '624005326': ['Province-43', 'Female'], '624005426': ['Province-33', 'Female'], '624005526': ['Province-47', 'Female'], '624005626': ['Province-23', 'Male'], '624005726': ['Province-39', 'Female'], '624005826': ['Province-03', 'Female'], '624005926': ['Province-45', 'Male'], '624006026': ['Province-33', 'Male'], '624006126': ['Province-09', 'Male'], '624006226': ['Province-03', 'Male'], '624006326': ['Province-37', 'Male'], '624006426': ['Province-34', 'Female'], '624006526': ['Province-33', 'Female'], '624006626': ['Province-35', 'Female'], '624006726': ['Province-41', 'Female'], '624006826': ['Province-34', 'Male'], '624006926': ['Province-35', 'Female'], '624007026': ['Province-47', 'Female'], '624007126': ['Province-13', 'Male'], '624007226': ['Province-34', 'Female'], '624007326': ['Province-33', 'Male'], '624007426': ['Province-35', 'Male'], '624007526': ['Province-01', 'Female'], '624007626': ['Province-31', 'Female'], '624007726': ['Province-09', 'Male'], '624007826': ['Province-32', 'Male'], '624007926': ['Province-31', 'Male'], '624008026': ['Province-03', 'Female'], '624008126': ['Province-05', 'Male'], '624008226': ['Province-27', 'Male'], '624008326': ['Province-17', 'Male'], '624008426': ['Province-10', 'Female'], '624008526': ['Province-19', 'Male'], '624008626': ['Province-31', 'Female'], '624008726': ['Province-17', 'Female'], '624008826': ['Province-33', 'Female'], '624008926': ['Province-37', 'Male'], '624009026': ['Province-23', 'Male'], '624009126': ['Province-32', 'Male'], '624009226': ['Province-24', 'Male'], '624009326': ['Province-12', 'Male'], '624009426': ['Province-08', 'Female'], '624009526': ['Province-21', 'Female'], '624009626': ['Province-13', 'Female'], '624009726': ['Province-02', 'Male'], '624009826': ['Province-09', 'Female'], '624009926': ['Province-38', 'Male']}\n"
     ]
    }
   ],
   "source": [
    "import random \n",
    "import numpy\n",
    "\n",
    "def genData():\n",
    "  students = dict()\n",
    "  for i in range(100):\n",
    "    SID = '624' + str(i).zfill(4)+'26'\n",
    "    students[SID] = ['Province-'+str(random.randrange(1,51)).zfill(2), numpy.random.choice(a=['Female','Male','N/A'],p=[0.55,0.44,0.01])]\n",
    "  return students\n",
    "\n",
    "data=genData()\n",
    "\n",
    "studentCSV = open('stu_id.csv' , mode = 'w' , encoding = 'utf-8')\n",
    "studentCSV.write('STUDENT_ID,PROVINCE,GENDER'+'\\n') #csv header row\n",
    "for SID,detail in data.items():\n",
    "    studentCSV.write(','.join([SID,detail[0],detail[1]])+'\\n')\n",
    "studentCSV.close()\n",
    "\n",
    "csvfile = open('stu_id.csv' , mode = 'r' , encoding = 'utf-8')\n",
    "rows = csvfile.read()\n",
    "csvfile.close()\n",
    "\n",
    "classroom = {}\n",
    "rownumber = 1\n",
    "for row in rows.split('\\n'):\n",
    "    if rownumber > 1 and len(row) > 0:\n",
    "        astudent = []\n",
    "        elements = [e for e in row.split(',')]\n",
    "        astudent.append(elements[1])\n",
    "        astudent.append(elements[2])\n",
    "        classroom[elements[0]] = astudent \n",
    "    rownumber += 1\n",
    "print(classroom)"
   ]
  },
  {
   "cell_type": "code",
   "execution_count": null,
   "metadata": {},
   "outputs": [],
   "source": []
  }
 ],
 "metadata": {
  "kernelspec": {
   "display_name": "Python 3",
   "language": "python",
   "name": "python3"
  },
  "language_info": {
   "codemirror_mode": {
    "name": "ipython",
    "version": 3
   },
   "file_extension": ".py",
   "mimetype": "text/x-python",
   "name": "python",
   "nbconvert_exporter": "python",
   "pygments_lexer": "ipython3",
   "version": "3.8.5"
  }
 },
 "nbformat": 4,
 "nbformat_minor": 2
}
