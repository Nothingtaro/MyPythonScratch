{
 "cells": [
  {
   "cell_type": "code",
   "execution_count": 8,
   "metadata": {},
   "outputs": [
    {
     "name": "stdout",
     "output_type": "stream",
     "text": [
      "p\n",
      "pp\n"
     ]
    }
   ],
   "source": [
    "a = input().strip()\n",
    "b = ''\n",
    "for e in a:\n",
    "    b += e*2\n",
    "print(b)"
   ]
  },
  {
   "cell_type": "code",
   "execution_count": 14,
   "metadata": {},
   "outputs": [
    {
     "name": "stdout",
     "output_type": "stream",
     "text": [
      "hell\n",
      "eo\n"
     ]
    }
   ],
   "source": [
    "a = 'hello'\n",
    "print(a[:-1])\n",
    "print(a[1::3])"
   ]
  },
  {
   "cell_type": "code",
   "execution_count": 5,
   "metadata": {},
   "outputs": [
    {
     "name": "stdout",
     "output_type": "stream",
     "text": [
      "python\n",
      "ppyytthhoonn\n"
     ]
    }
   ],
   "source": [
    "a = input().strip()\n",
    "b = ''\n",
    "for e in a:\n",
    "    b += e*2\n",
    "print(b)"
   ]
  },
  {
   "cell_type": "code",
   "execution_count": 2,
   "metadata": {},
   "outputs": [
    {
     "name": "stdout",
     "output_type": "stream",
     "text": [
      "enter number --->6\n",
      "fac=720\n"
     ]
    }
   ],
   "source": [
    "a = int(input('enter number --->'))\n",
    "if a == 0 or a == 1 :\n",
    "    fac = 1\n",
    "else:\n",
    "    fac = 1\n",
    "    for i in range(1,a+1):\n",
    "        fac = fac * i \n",
    "print(f'fac={fac}')\n"
   ]
  },
  {
   "cell_type": "code",
   "execution_count": 8,
   "metadata": {},
   "outputs": [
    {
     "name": "stdout",
     "output_type": "stream",
     "text": [
      "10\n",
      "8\n",
      "6\n",
      "4\n"
     ]
    }
   ],
   "source": [
    "for a  in range(10,2,-2):\n",
    "    print(a)"
   ]
  },
  {
   "cell_type": "code",
   "execution_count": 20,
   "metadata": {},
   "outputs": [
    {
     "name": "stdout",
     "output_type": "stream",
     "text": [
      "enter number --->-0.5\n",
      "F\n"
     ]
    }
   ],
   "source": [
    "num = float(input('enter number --->'))\n",
    "if num > 1 :\n",
    "        print('T')\n",
    "else  :\n",
    "        print('F')     "
   ]
  },
  {
   "cell_type": "code",
   "execution_count": 22,
   "metadata": {},
   "outputs": [
    {
     "name": "stdout",
     "output_type": "stream",
     "text": [
      "20 30 6 20 1\n",
      "False\n"
     ]
    }
   ],
   "source": [
    "a,b,c,d,e = [int(e) for e in input().split()]\n",
    "if a <= b <= c <= d <= e :\n",
    "    print('True')\n",
    "else :\n",
    "    print('False')"
   ]
  },
  {
   "cell_type": "code",
   "execution_count": 24,
   "metadata": {},
   "outputs": [
    {
     "name": "stdout",
     "output_type": "stream",
     "text": [
      "01101\n",
      "13\n"
     ]
    }
   ],
   "source": [
    "b = input().strip()\n",
    "b = b[::-1]\n",
    "d = 0\n",
    "for  i in range(len(b)):\n",
    "    d += int(b[i])*2**i\n",
    "print(d)"
   ]
  },
  {
   "cell_type": "code",
   "execution_count": 29,
   "metadata": {},
   "outputs": [
    {
     "name": "stdout",
     "output_type": "stream",
     "text": [
      "Chanon\n"
     ]
    }
   ],
   "source": [
    "a = 'Chanon'\n",
    "print(a[::1])"
   ]
  },
  {
   "cell_type": "code",
   "execution_count": 30,
   "metadata": {},
   "outputs": [
    {
     "name": "stdout",
     "output_type": "stream",
     "text": [
      "Please enter an integer --->1\n",
      "Please enter an integer --->2\n",
      "Please enter an integer --->3\n",
      "Please enter an integer --->4\n",
      "Please enter an integer --->5\n",
      "Sum = 15\n"
     ]
    }
   ],
   "source": [
    "sum = 0\n",
    "for i in range(5):\n",
    "    sum = sum + int(input('Please enter an integer --->'))\n",
    "print(f'Sum = {sum}')"
   ]
  },
  {
   "cell_type": "code",
   "execution_count": 35,
   "metadata": {},
   "outputs": [
    {
     "name": "stdout",
     "output_type": "stream",
     "text": [
      "Please enter an integer --->1\n",
      "Please enter an integer --->2\n",
      "Please enter an integer --->3\n",
      "Please enter an integer --->4\n",
      "Please enter an integer --->5\n",
      "Sum = 17\n"
     ]
    }
   ],
   "source": [
    "sum = 2\n",
    "for i in range(5):\n",
    "    sum = sum + int(input('Please enter an integer --->'))\n",
    "print(f'Sum = {sum}')"
   ]
  },
  {
   "cell_type": "code",
   "execution_count": 36,
   "metadata": {},
   "outputs": [
    {
     "name": "stdout",
     "output_type": "stream",
     "text": [
      "[1, 2, 3, 4, 5]\n"
     ]
    }
   ],
   "source": [
    "intlist = [1,2,3,4,5]\n",
    "print(intlist)"
   ]
  },
  {
   "cell_type": "code",
   "execution_count": 39,
   "metadata": {},
   "outputs": [
    {
     "name": "stdout",
     "output_type": "stream",
     "text": [
      "enter an integer ---> 5\n",
      "enter an integer ---> 6\n",
      "enter an integer ---> 6\n",
      "enter an integer ---> 6\n",
      "enter an integer ---> 6\n",
      "[5, 6, 6, 6, 6]\n"
     ]
    }
   ],
   "source": [
    "intlist = []\n",
    "for i in range(5):\n",
    "    intRead = int(input('enter an integer ---> '))\n",
    "    intlist.append(intRead)\n",
    "print(intlist)"
   ]
  },
  {
   "cell_type": "code",
   "execution_count": 43,
   "metadata": {},
   "outputs": [
    {
     "name": "stdout",
     "output_type": "stream",
     "text": [
      "enter an integer ---> 5\n",
      "enter an integer ---> 6\n",
      "enter an integer ---> 9\n",
      "enter an integer ---> 8\n",
      "enter an integer ---> 7\n",
      "[5, 6, 9, 8, 7]\n",
      "[5, 6, 7, 8, 9]\n",
      "[9, 8, 7, 6, 5]\n"
     ]
    }
   ],
   "source": [
    "intlist = []\n",
    "for i in range(5):\n",
    "    intRead = int(input('enter an integer ---> '))\n",
    "    intlist.append(intRead)\n",
    "print(intlist)\n",
    "intlist.sort()\n",
    "print(intlist)\n",
    "intlist.sort(reverse=True)\n",
    "print(intlist)"
   ]
  },
  {
   "cell_type": "code",
   "execution_count": 45,
   "metadata": {},
   "outputs": [
    {
     "name": "stdout",
     "output_type": "stream",
     "text": [
      "[56, 4, 7, 3, 6, 23, 41, 33, 61, 53, 51, 22, 45, 35, 7]\n",
      "[3, 4, 6, 7, 7, 22, 23, 33, 35, 41, 45, 51, 53, 56, 61]\n",
      "[61, 56, 53, 51, 45, 41, 35, 33, 23, 22, 7, 7, 6, 4, 3]\n"
     ]
    }
   ],
   "source": [
    "#generate numbers\n",
    "\n",
    "import random\n",
    "intlist = []\n",
    "for i in range(15):\n",
    "    intlist.append(random.randrange(0,69))\n",
    "print(intlist)\n",
    "intlist.sort()\n",
    "print(intlist)\n",
    "intlist.sort(reverse=True)\n",
    "print(intlist)"
   ]
  },
  {
   "cell_type": "code",
   "execution_count": 55,
   "metadata": {},
   "outputs": [
    {
     "name": "stdout",
     "output_type": "stream",
     "text": [
      "Please enter a sentence ---->i am aboy\n",
      "['i', 'am', 'aboy']\n",
      "['i', 'am', 'aboy']\n"
     ]
    }
   ],
   "source": [
    "words = []\n",
    "a = input('Please enter a sentence ---->')\n",
    "for word in a.split():\n",
    "    words.append(word)\n",
    "print(words)\n",
    "words.sort(reverse=True)\n",
    "print(words)"
   ]
  },
  {
   "cell_type": "code",
   "execution_count": 70,
   "metadata": {},
   "outputs": [
    {
     "name": "stdout",
     "output_type": "stream",
     "text": [
      "[39, 23, 87, 70, 38, 5, 10, 5, 34, 83, 81, 90, 7, 85, 84, 84, 57, 44, 47, 16]\n",
      "[5, 5, 7, 10, 16, 23, 34, 38, 39, 44, 47, 57, 70, 81, 83, 84, 84, 85, 87, 90]\n",
      "[5, 84]\n"
     ]
    }
   ],
   "source": [
    "###find repeat number\n",
    "###list = repeartable\n",
    "###set = unrepeatable\n",
    "\n",
    "import random\n",
    "\n",
    "intlist = list()\n",
    "for i in range(20):\n",
    "    intlist.append(random.randrange(0,99))\n",
    "print(intlist)\n",
    "intlist.sort()\n",
    "currentnumber = intlist[0] ##list always start at 0\n",
    "dupnumber = list()\n",
    "for i in range(1,len(intlist)):\n",
    "    if currentnumber == intlist[i]: ## == is compare thar lhs = rhs\n",
    "        dupnumber.append(currentnumber) ## = is lhs substitute on rhs\n",
    "    currentnumber = intlist[i]\n",
    "print(intlist)\n",
    "print(dupnumber)\n"
   ]
  },
  {
   "cell_type": "code",
   "execution_count": 66,
   "metadata": {},
   "outputs": [
    {
     "name": "stdout",
     "output_type": "stream",
     "text": [
      "C\n",
      "h\n",
      "a\n",
      "n\n",
      "o\n",
      "n\n"
     ]
    }
   ],
   "source": [
    "a = 'Chanon'\n",
    "for i in range(len(a)):\n",
    "    print(a[i])"
   ]
  },
  {
   "cell_type": "code",
   "execution_count": 72,
   "metadata": {},
   "outputs": [
    {
     "name": "stdout",
     "output_type": "stream",
     "text": [
      "['d', 'k', 'l', 'x', 'n', 'r', 'a', 'j', 'e', 'l', 'k', 'c', 'c', 'f', 'a', 'x', 'm', 'd', 'a', 'd', 'b', 'n', 'z', 'g', 'l', 'p', 'k', 'i', 'g', 'a', 'o', 'r', 'b', 'v', 'h', 'g', 'r', 'q', 'p', 'b', 'r', 'f', 'f', 'c', 'r', 'r', 'b', 'v', 's', 'q', 'k', 'x', 'w', 'z', 'x', 'b', 'q', 'w', 'h', 'z', 'k', 't', 's', 'b', 't', 'j', 'w', 'r', 'y', 'd', 'u', 'l', 'e', 'b', 'i', 'h', 'h', 'o', 'n', 'x', 'r', 'l', 'z', 'e', 'z', 'x', 'u', 't', 'm', 'v', 'u', 'u', 'm', 'd', 'j', 'n', 'b', 'g', 'p', 'z']\n",
      "{'g', 'r', 'f', 'u', 'j', 'o', 'v', 'w', 'c', 'b', 'h', 'n', 'y', 'i', 'z', 'd', 's', 'e', 'q', 'm', 't', 'l', 'k', 'x', 'p', 'a'}\n"
     ]
    }
   ],
   "source": [
    "import random\n",
    "import string\n",
    "\n",
    "lowercharacters = string.ascii_lowercase\n",
    "\n",
    "charlist = list()\n",
    "charset = set()\n",
    "\n",
    "for i in range(100) :\n",
    "    c = random.choice(lowercharacters)\n",
    "    charlist.append(c)\n",
    "    charset.add(c)\n",
    "print(charlist)\n",
    "print(charset)"
   ]
  },
  {
   "cell_type": "code",
   "execution_count": 75,
   "metadata": {},
   "outputs": [
    {
     "name": "stdout",
     "output_type": "stream",
     "text": [
      "[93, 84, 21, 58, 76, 27, 61, 0, 28, 23, 94, 53, 59, 35, 45, 75, 37, 14, 25, 61, 15, 63, 93, 78, 78, 75, 33, 1, 35, 78, 4, 36, 14, 75, 90, 96, 95, 4, 65, 69, 56, 94, 42, 56, 89, 33, 12, 91, 52, 42, 95, 77, 5, 67, 40, 73, 22, 4, 67, 1, 56, 19, 44, 84, 23, 1, 62, 75, 31, 33, 52, 61, 72, 42, 29, 1, 32, 46, 67, 0, 84, 1, 66, 26, 85, 61, 52, 74, 2, 22, 57, 61, 20, 77, 85, 88, 19, 0, 39, 72, 13, 16, 52, 51, 39, 64, 0, 78, 48, 27, 24, 42, 86, 98, 36, 61, 16, 57, 26, 74, 20, 87, 16, 72, 43, 1, 68, 95, 42, 79, 87, 38, 33, 26, 87, 30, 24, 67, 76, 67, 94, 90, 53, 53, 86, 68, 6, 27, 72, 93, 38, 10, 60, 41, 16, 28, 44, 22, 22, 7, 43, 93, 61, 43, 53, 59, 9, 66, 83, 27, 11, 56, 84, 13, 59, 57, 36, 36, 31, 55, 68, 14, 87, 73, 55, 56, 66, 83, 49, 47, 68, 5, 12, 29, 23, 57, 14, 69, 72, 9]\n",
      "[0, 0, 0, 0, 1, 1, 1, 1, 1, 1, 2, 4, 4, 4, 5, 5, 6, 7, 9, 9, 10, 11, 12, 12, 13, 13, 14, 14, 14, 14, 15, 16, 16, 16, 16, 19, 19, 20, 20, 21, 22, 22, 22, 22, 23, 23, 23, 24, 24, 25, 26, 26, 26, 27, 27, 27, 27, 28, 28, 29, 29, 30, 31, 31, 32, 33, 33, 33, 33, 35, 35, 36, 36, 36, 36, 37, 38, 38, 39, 39, 40, 41, 42, 42, 42, 42, 42, 43, 43, 43, 44, 44, 45, 46, 47, 48, 49, 51, 52, 52, 52, 52, 53, 53, 53, 53, 55, 55, 56, 56, 56, 56, 56, 57, 57, 57, 57, 58, 59, 59, 59, 60, 61, 61, 61, 61, 61, 61, 61, 62, 63, 64, 65, 66, 66, 66, 67, 67, 67, 67, 67, 68, 68, 68, 68, 69, 69, 72, 72, 72, 72, 72, 73, 73, 74, 74, 75, 75, 75, 75, 76, 76, 77, 77, 78, 78, 78, 78, 79, 83, 83, 84, 84, 84, 84, 85, 85, 86, 86, 87, 87, 87, 87, 88, 89, 90, 90, 91, 93, 93, 93, 93, 94, 94, 94, 95, 95, 95, 96, 98]\n",
      "{0, 1, 4, 5, 9, 12, 13, 14, 16, 19, 20, 22, 23, 24, 26, 27, 28, 29, 31, 33, 35, 36, 38, 39, 42, 43, 44, 52, 53, 55, 56, 57, 59, 61, 66, 67, 68, 69, 72, 73, 74, 75, 76, 77, 78, 83, 84, 85, 86, 87, 90, 93, 94, 95}\n"
     ]
    }
   ],
   "source": [
    "### use set replace list\n",
    "import random\n",
    "\n",
    "intlist = list()\n",
    "for i in range(200):\n",
    "    intlist.append(random.randrange(0,99))\n",
    "#print(intlist)\n",
    "intlist.sort()\n",
    "currentnumber = intlist[0] ##list always start at 0\n",
    "dupnumber = set()\n",
    "for i in range(1,len(intlist)):\n",
    "    if currentnumber == intlist[i]:\n",
    "        dupnumber.add(currentnumber)\n",
    "    currentnumber = intlist[i]\n",
    "print(intlist)\n",
    "print()\n",
    "print(dupnumber)\n"
   ]
  },
  {
   "cell_type": "code",
   "execution_count": 79,
   "metadata": {},
   "outputs": [
    {
     "name": "stdout",
     "output_type": "stream",
     "text": [
      "listA =  \n",
      " [6, 85, 68, 37, 65, 75, 17, 96, 80, 28, 85, 97, 63, 41, 51, 55, 14, 10, 40, 66, 13, 8, 6, 5, 89, 73, 97, 64, 92, 87, 2, 34, 70, 15, 96, 79, 32, 75, 77, 23, 63, 62, 74, 89, 16, 59, 42, 6, 14, 54, 80, 23, 16, 57, 77, 56, 12, 20, 69, 58, 76, 31, 79, 76, 79, 83, 81, 87, 73, 31, 34, 78, 11, 61, 92, 49, 89, 74, 13, 30, 7, 72, 66, 59, 79, 22, 2, 15, 63, 75, 73, 54, 78, 0, 46, 23, 46, 85, 72, 85]\n",
      "listB =  \n",
      " [68, 80, 25, 18, 88, 23, 50, 51, 67, 16, 60, 20, 96, 91, 23, 40, 8, 16, 86, 34, 61, 93, 61, 83, 8, 24, 95, 49, 29, 3, 85, 79, 96, 12, 9, 98, 73, 97, 76, 12, 52, 36, 38, 68, 64, 97, 36, 95, 46, 96, 36, 0, 53, 20, 38, 86, 65, 86, 5, 30, 5, 80, 60, 74, 98, 18, 38, 63, 10, 80, 34, 69, 50, 96, 2, 53, 26, 49, 19, 25, 32, 22, 72, 36, 88, 75, 16, 79, 28, 30, 70, 9, 86, 51, 52, 25, 98, 12, 16, 40]\n",
      "listA =  \n",
      " [6, 85, 68, 37, 65, 75, 17, 96, 80, 28, 85, 97, 63, 41, 51, 55, 14, 10, 40, 66, 13, 8, 6, 5, 89, 73, 97, 64, 92, 87, 2, 34, 70, 15, 96, 79, 32, 75, 77, 23, 63, 62, 74, 89, 16, 59, 42, 6, 14, 54, 80, 23, 16, 57, 77, 56, 12, 20, 69, 58, 76, 31, 79, 76, 79, 83, 81, 87, 73, 31, 34, 78, 11, 61, 92, 49, 89, 74, 13, 30, 7, 72, 66, 59, 79, 22, 2, 15, 63, 75, 73, 54, 78, 0, 46, 23, 46, 85, 72, 85]\n",
      "listB =  \n",
      " [68, 80, 25, 18, 88, 23, 50, 51, 67, 16, 60, 20, 96, 91, 23, 40, 8, 16, 86, 34, 61, 93, 61, 83, 8, 24, 95, 49, 29, 3, 85, 79, 96, 12, 9, 98, 73, 97, 76, 12, 52, 36, 38, 68, 64, 97, 36, 95, 46, 96, 36, 0, 53, 20, 38, 86, 65, 86, 5, 30, 5, 80, 60, 74, 98, 18, 38, 63, 10, 80, 34, 69, 50, 96, 2, 53, 26, 49, 19, 25, 32, 22, 72, 36, 88, 75, 16, 79, 28, 30, 70, 9, 86, 51, 52, 25, 98, 12, 16, 40]\n"
     ]
    }
   ],
   "source": [
    "listA =[]\n",
    "listB = []\n",
    "\n",
    "for i in range(100):\n",
    "    listA.append(random.randrange(0,99))\n",
    "    listB.append(random.randrange(0,99))\n",
    "print('listA =  \\n' , listA )\n",
    "print('listB =  \\n' , listB )\n",
    "setA = set(listA)\n",
    "setB = set(listB)\n",
    "print('listA =  \\n' , listA )\n",
    "print('listB =  \\n' , listB )\n",
    "\n"
   ]
  },
  {
   "cell_type": "code",
   "execution_count": 83,
   "metadata": {},
   "outputs": [
    {
     "name": "stdout",
     "output_type": "stream",
     "text": [
      "listA =  \n",
      " [43, 76, 75, 37, 1, 94, 58, 80, 98, 51, 6, 94, 80, 78, 89, 88, 14, 40, 96, 77, 79, 78, 24, 41, 45, 20, 48, 33, 56, 48, 28, 10, 60, 57, 88, 29, 31, 9, 86, 49, 50, 65, 47, 81, 66, 15, 31, 68, 25, 65, 47, 73, 57, 50, 66, 89, 14, 38, 56, 66, 69, 87, 72, 44, 12, 96, 13, 64, 36, 17, 20, 39, 78, 29, 19, 17, 49, 19, 58, 27, 85, 15, 87, 94, 66, 56, 10, 47, 36, 60, 55, 51, 41, 20, 86, 17, 0, 43, 24, 68]\n",
      "listB =  \n",
      " [13, 56, 97, 89, 15, 94, 81, 39, 59, 68, 86, 37, 67, 76, 57, 12, 9, 50, 53, 91, 29, 34, 2, 65, 33, 58, 38, 95, 6, 70, 96, 41, 76, 8, 4, 4, 29, 98, 2, 75, 13, 41, 70, 35, 14, 63, 4, 11, 59, 51, 73, 98, 20, 40, 18, 31, 66, 20, 84, 62, 7, 47, 94, 45, 74, 17, 98, 27, 8, 86, 84, 16, 65, 9, 81, 87, 76, 87, 1, 74, 19, 80, 56, 57, 96, 44, 50, 16, 15, 95, 64, 77, 78, 79, 17, 91, 45, 38, 85, 77]\n",
      "setA =  \n",
      " {0, 1, 6, 9, 10, 12, 13, 14, 15, 17, 19, 20, 24, 25, 27, 28, 29, 31, 33, 36, 37, 38, 39, 40, 41, 43, 44, 45, 47, 48, 49, 50, 51, 55, 56, 57, 58, 60, 64, 65, 66, 68, 69, 72, 73, 75, 76, 77, 78, 79, 80, 81, 85, 86, 87, 88, 89, 94, 96, 98}\n",
      "setB =  \n",
      " {1, 2, 4, 6, 7, 8, 9, 11, 12, 13, 14, 15, 16, 17, 18, 19, 20, 27, 29, 31, 33, 34, 35, 37, 38, 39, 40, 41, 44, 45, 47, 50, 51, 53, 56, 57, 58, 59, 62, 63, 64, 65, 66, 67, 68, 70, 73, 74, 75, 76, 77, 78, 79, 80, 81, 84, 85, 86, 87, 89, 91, 94, 95, 96, 97, 98}\n",
      "intersectionSet =  \n",
      " {1, 6, 9, 12, 13, 14, 15, 17, 19, 20, 27, 29, 31, 33, 37, 38, 39, 40, 41, 44, 45, 47, 50, 51, 56, 57, 58, 64, 65, 66, 68, 73, 75, 76, 77, 78, 79, 80, 81, 85, 86, 87, 89, 94, 96, 98}\n",
      "unionSet = \n",
      " {0, 1, 2, 4, 6, 7, 8, 9, 10, 11, 12, 13, 14, 15, 16, 17, 18, 19, 20, 24, 25, 27, 28, 29, 31, 33, 34, 35, 36, 37, 38, 39, 40, 41, 43, 44, 45, 47, 48, 49, 50, 51, 53, 55, 56, 57, 58, 59, 60, 62, 63, 64, 65, 66, 67, 68, 69, 70, 72, 73, 74, 75, 76, 77, 78, 79, 80, 81, 84, 85, 86, 87, 88, 89, 91, 94, 95, 96, 97, 98}\n",
      "diffAB =  {0, 36, 69, 72, 10, 43, 60, 48, 49, 55, 24, 25, 88, 28}\n"
     ]
    }
   ],
   "source": [
    "listA =[]\n",
    "listB = []\n",
    "\n",
    "for i in range(100):\n",
    "    listA.append(random.randrange(0,99))\n",
    "    listB.append(random.randrange(0,99))\n",
    "print('listA =  \\n' , listA )\n",
    "print('listB =  \\n' , listB )\n",
    "setA = set(listA)\n",
    "setB = set(listB)\n",
    "print('setA =  \\n' , setA )\n",
    "print('setB =  \\n' , setB )\n",
    "intersectionSet = setA.intersection(setB)\n",
    "print('intersectionSet =  \\n' , intersectionSet )\n",
    "unionSet = setA.union(setB)\n",
    "print('unionSet = \\n' , unionSet)\n",
    "diffAB = setA.difference(setB)\n",
    "print('diffAB = ' , diffAB)"
   ]
  },
  {
   "cell_type": "code",
   "execution_count": 20,
   "metadata": {},
   "outputs": [
    {
     "name": "stdout",
     "output_type": "stream",
     "text": [
      "please enter a sentence ---> asdasdasdasdasd\n",
      "uniquechars = set()\n",
      "sorted unique char = []\n"
     ]
    }
   ],
   "source": [
    "sentence = input('please enter a sentence ---> ')\n",
    "allchars = set()\n",
    "dupchars = set()\n",
    "for c in sentence :\n",
    "    sizebefore = len(allchars)\n",
    "    allchar.add(c)\n",
    "    sizeafter = len(allchars)\n",
    "    if sizebefore == sizeafter :\n",
    "        dupchars.add(c)\n",
    "uniquechars = allchars.difference(dupchars)\n",
    "print(f'uniquechars = {uniquechars}')\n",
    "uniquelist = list(uniquechars)\n",
    "uniquelist.sort()\n",
    "print(f'sorted unique char = {uniquelist}')"
   ]
  },
  {
   "cell_type": "code",
   "execution_count": 24,
   "metadata": {},
   "outputs": [
    {
     "name": "stdout",
     "output_type": "stream",
     "text": [
      "please enter a sentence ---> asdasdasdasdasdasdadasdarq3reqerfoweweqweqwegtegw\n",
      "{'a': 9, 's': 7, 'd': 8, 'r': 3, 'q': 4, '3': 1, 'e': 7, 'f': 1, 'o': 1, 'w': 5, 'g': 2, 't': 1}\n",
      "sorted count list 1 = [('3', 1), ('a', 9), ('d', 8), ('e', 7), ('f', 1), ('g', 2), ('o', 1), ('q', 4), ('r', 3), ('s', 7), ('t', 1), ('w', 5)]\n",
      "sorted count list 2 = [('3', 1), ('f', 1), ('o', 1), ('t', 1), ('g', 2), ('r', 3), ('q', 4), ('w', 5), ('s', 7), ('e', 7), ('d', 8), ('a', 9)]\n",
      "sorted count list 3 = [('3', 1), ('a', 9), ('d', 8), ('e', 7), ('f', 1), ('g', 2), ('o', 1), ('q', 4), ('r', 3), ('s', 7), ('t', 1), ('w', 5)]\n",
      "sorted count list 4 = [('3', 1), ('f', 1), ('o', 1), ('t', 1), ('g', 2), ('r', 3), ('q', 4), ('w', 5), ('e', 7), ('s', 7), ('d', 8), ('a', 9)]\n"
     ]
    }
   ],
   "source": [
    "sentence = input('please enter a sentence ---> ')\n",
    "countcharacter = dict()\n",
    "for c in sentence :\n",
    "    if c in countcharacter.keys() :\n",
    "        countcharacter[c] += 1\n",
    "    else:\n",
    "        countcharacter[c] = 1\n",
    "print(countcharacter)\n",
    "sortedcountlist1 = sorted(countcharacter.items(),key=lambda kv:kv[0])\n",
    "print(f'sorted count list 1 = {sortedcountlist1}')\n",
    "sortedcountlist2 = sorted(countcharacter.items(),key=lambda kv:kv[1])\n",
    "print(f'sorted count list 2 = {sortedcountlist2}')\n",
    "sortedcountlist3 = sorted(countcharacter.items(),key=lambda kv:(kv[0],kv[1]))\n",
    "print(f'sorted count list 3 = {sortedcountlist3}')\n",
    "sortedcountlist4 = sorted(countcharacter.items(),key=lambda kv:(kv[1],kv[0]))\n",
    "print(f'sorted count list 4 = {sortedcountlist4}')"
   ]
  },
  {
   "cell_type": "code",
   "execution_count": 3,
   "metadata": {},
   "outputs": [
    {
     "name": "stdout",
     "output_type": "stream",
     "text": [
      "6\n"
     ]
    }
   ],
   "source": [
    "a = 'chanon'\n",
    "print(len(a))"
   ]
  },
  {
   "cell_type": "code",
   "execution_count": null,
   "metadata": {},
   "outputs": [],
   "source": []
  }
 ],
 "metadata": {
  "kernelspec": {
   "display_name": "Python 3",
   "language": "python",
   "name": "python3"
  },
  "language_info": {
   "codemirror_mode": {
    "name": "ipython",
    "version": 3
   },
   "file_extension": ".py",
   "mimetype": "text/x-python",
   "name": "python",
   "nbconvert_exporter": "python",
   "pygments_lexer": "ipython3",
   "version": "3.8.5"
  }
 },
 "nbformat": 4,
 "nbformat_minor": 2
}
